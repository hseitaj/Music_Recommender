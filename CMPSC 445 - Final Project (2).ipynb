{
 "cells": [
  {
   "cell_type": "markdown",
   "id": "78efa374",
   "metadata": {},
   "source": [
    "# PCA USING Spotipy Web API\n",
    "\n",
    "Files to be installed:\n",
    "\n",
    "pip install spotipy\n",
    "\n",
    "pip install plotly\n",
    "\n",
    "pip install chart_studio\n",
    "\n",
    "The implementation through the Spotipy Web API needs a unique client_id and client_secret IDs that can be found for free by creating a developer spotify account on the link below:\n",
    "https://developer.spotify.com/documentation/web-api/quick-start/\n"
   ]
  },
  {
   "cell_type": "code",
   "execution_count": 1,
   "id": "2f700fba",
   "metadata": {},
   "outputs": [],
   "source": [
    "import matplotlib.pyplot as plt\n",
    "import spotipy\n",
    "from spotipy.oauth2 import SpotifyClientCredentials\n",
    "import pandas as pd\n",
    "import numpy as np\n",
    "import seaborn as sns\n",
    "import plotly.express as px\n",
    "import math\n",
    "%matplotlib inline"
   ]
  },
  {
   "cell_type": "code",
   "execution_count": 2,
   "id": "fea5cd2c",
   "metadata": {},
   "outputs": [],
   "source": [
    "from collections import defaultdict\n",
    "from sklearn.metrics import euclidean_distances\n",
    "from scipy.spatial.distance import cdist\n",
    "import difflib"
   ]
  },
  {
   "cell_type": "code",
   "execution_count": 3,
   "id": "53999433",
   "metadata": {},
   "outputs": [],
   "source": [
    "# Need to follow the link on the reference and create a free developer account on spotify for the unique keys below\n",
    "client_id = \"xxxxxxxxxxxxxxxxxxxxxxxxxxxxxxxxx\"         #private\n",
    "client_secret = \"xxxxxxxxxxxxxxxxxxxxxxxxxxxxx\"     #private\n",
    "\n",
    "# Set up query with credentials\n",
    "sp = spotipy.Spotify(\n",
    "            client_credentials_manager=SpotifyClientCredentials(\n",
    "            client_id=client_id,\n",
    "            client_secret=client_secret))\n",
    "\n",
    "url_pop = 'spotify:playlist:37i9dQZF1DXcBWIGoYBM5M'\n",
    "url_rnb = 'spotify:playlist:37i9dQZF1DX0XUsuxWHRQd'"
   ]
  },
  {
   "cell_type": "code",
   "execution_count": 4,
   "id": "04f1b418",
   "metadata": {},
   "outputs": [],
   "source": [
    "track = 'Levels' #input(\"Enter a song name:\")\n",
    "artist = 'Avicii' #input(\"Enter the artist:\")"
   ]
  },
  {
   "cell_type": "code",
   "execution_count": 5,
   "id": "ab4e2951",
   "metadata": {},
   "outputs": [],
   "source": [
    "def find_song(track, artist):\n",
    "    \n",
    "    song_data = defaultdict()\n",
    "    results = sp.search(q='artist:' + artist + ' track:' + track, type='track')\n",
    "    \n",
    "    if results['tracks']['items'] == []:\n",
    "        return None\n",
    " \n",
    "    track_result = results['tracks']['items'][0]\n",
    "    \n",
    "    track_id = track_result['id']\n",
    "    name = track_result['name']\n",
    "    artist = track_result['artists'][0]['name']\n",
    "    album = track_result[\"album\"][\"name\"]\n",
    "    \n",
    "    audio_features = sp.audio_features(track_id)[0]\n",
    "    for key, value in audio_features.items():\n",
    "        song_data[key] = value\n",
    "\n",
    "    df_user = pd.DataFrame({\"Song Name\": [name], \"Artist\": artist, \"Album\": album, \"ID\": track_id})\n",
    "    df_user_song = pd.DataFrame({\"Danceability\": [(song_data[\"danceability\"])],\n",
    "                                 \"Mode\": (song_data[\"mode\"]),\n",
    "                                 \"Energy\": (song_data[\"energy\"]),\n",
    "                                 \"Key\": (song_data[\"key\"]),\n",
    "                                 \"Loudness\": (song_data[\"loudness\"]),\n",
    "                                 \"Speechiness\": (song_data[\"speechiness\"]),\n",
    "                                 \"Acousticness\": (song_data[\"acousticness\"]),\n",
    "                                 \"Instrumentalness\": (song_data[\"instrumentalness\"]),\n",
    "                                 \"Liveness\": (song_data[\"liveness\"]),\n",
    "                                 \"Valence\": (song_data[\"valence\"]),\n",
    "                                 \"Tempo\": (song_data[\"tempo\"]),\n",
    "                                 \"Duration (ms)\": (song_data[\"duration_ms\"]),\n",
    "                                 \"ID_CHECK\": (song_data[\"id\"]),\n",
    "                                })   \n",
    "    \n",
    "    df_combined = df_user_song.join(df_user)\n",
    "    \n",
    "    return df_combined"
   ]
  },
  {
   "cell_type": "code",
   "execution_count": 6,
   "id": "1b650b67",
   "metadata": {},
   "outputs": [
    {
     "name": "stderr",
     "output_type": "stream",
     "text": [
      "Couldn't read cache at: .cache\n",
      "Couldn't write token to cache at: .cache\n",
      "Couldn't read cache at: .cache\n",
      "Couldn't write token to cache at: .cache\n"
     ]
    },
    {
     "data": {
      "text/html": [
       "<div>\n",
       "<style scoped>\n",
       "    .dataframe tbody tr th:only-of-type {\n",
       "        vertical-align: middle;\n",
       "    }\n",
       "\n",
       "    .dataframe tbody tr th {\n",
       "        vertical-align: top;\n",
       "    }\n",
       "\n",
       "    .dataframe thead th {\n",
       "        text-align: right;\n",
       "    }\n",
       "</style>\n",
       "<table border=\"1\" class=\"dataframe\">\n",
       "  <thead>\n",
       "    <tr style=\"text-align: right;\">\n",
       "      <th></th>\n",
       "      <th>Danceability</th>\n",
       "      <th>Mode</th>\n",
       "      <th>Energy</th>\n",
       "      <th>Key</th>\n",
       "      <th>Loudness</th>\n",
       "      <th>Speechiness</th>\n",
       "      <th>Acousticness</th>\n",
       "      <th>Instrumentalness</th>\n",
       "      <th>Liveness</th>\n",
       "      <th>Valence</th>\n",
       "      <th>Tempo</th>\n",
       "      <th>Duration (ms)</th>\n",
       "      <th>ID_CHECK</th>\n",
       "      <th>Song Name</th>\n",
       "      <th>Artist</th>\n",
       "      <th>Album</th>\n",
       "      <th>ID</th>\n",
       "    </tr>\n",
       "  </thead>\n",
       "  <tbody>\n",
       "    <tr>\n",
       "      <th>0</th>\n",
       "      <td>0.602</td>\n",
       "      <td>0</td>\n",
       "      <td>0.834</td>\n",
       "      <td>1</td>\n",
       "      <td>-6.573</td>\n",
       "      <td>0.0358</td>\n",
       "      <td>0.0297</td>\n",
       "      <td>0.887</td>\n",
       "      <td>0.34</td>\n",
       "      <td>0.353</td>\n",
       "      <td>125.99</td>\n",
       "      <td>338867</td>\n",
       "      <td>6Kz3vnWQJUy57NhlP1TF51</td>\n",
       "      <td>Levels - Original Version</td>\n",
       "      <td>Avicii</td>\n",
       "      <td>Top 100 Wedding Reception Songs</td>\n",
       "      <td>6Kz3vnWQJUy57NhlP1TF51</td>\n",
       "    </tr>\n",
       "  </tbody>\n",
       "</table>\n",
       "</div>"
      ],
      "text/plain": [
       "   Danceability  Mode  Energy  Key  Loudness  Speechiness  Acousticness  \\\n",
       "0         0.602     0   0.834    1    -6.573       0.0358        0.0297   \n",
       "\n",
       "   Instrumentalness  Liveness  Valence   Tempo  Duration (ms)  \\\n",
       "0             0.887      0.34    0.353  125.99         338867   \n",
       "\n",
       "                 ID_CHECK                  Song Name  Artist  \\\n",
       "0  6Kz3vnWQJUy57NhlP1TF51  Levels - Original Version  Avicii   \n",
       "\n",
       "                             Album                      ID  \n",
       "0  Top 100 Wedding Reception Songs  6Kz3vnWQJUy57NhlP1TF51  "
      ]
     },
     "execution_count": 6,
     "metadata": {},
     "output_type": "execute_result"
    }
   ],
   "source": [
    "song_stuff = find_song(track,artist)\n",
    "song_stuff"
   ]
  },
  {
   "cell_type": "code",
   "execution_count": 7,
   "id": "fbe9c025",
   "metadata": {},
   "outputs": [],
   "source": [
    "def analyse_playlist(url):\n",
    "    \"\"\"Retrieves all songs from an identified playlist, and takes the ID, song, album, artist \n",
    "    and puts this all into a DataFrame\"\"\"\n",
    "\n",
    "   # SONG NAMES\n",
    "\n",
    "    offset = 0\n",
    "    name = []\n",
    "\n",
    "    while True:\n",
    "        response = sp.playlist_tracks(url,\n",
    "                                      offset=offset,\n",
    "                                      fields=['items.track.name,total'])\n",
    "\n",
    "        name.append(response[\"items\"])\n",
    "        offset = offset + len(response['items'])\n",
    "        \n",
    "        if len(response['items']) == 0:\n",
    "            break\n",
    "\n",
    "    name_list = [b[\"track\"][\"name\"] for a in name for b in a]\n",
    "    len(name_list)\n",
    "    \n",
    "    \n",
    "\n",
    "    # ALBUM\n",
    "\n",
    "    offset=0\n",
    "    album = []\n",
    "\n",
    "    while True:\n",
    "        response = sp.playlist_tracks(url,\n",
    "                                      offset=offset,\n",
    "                                      fields=['items.track.album.name,total'])\n",
    "\n",
    "        album.append(response[\"items\"])\n",
    "        offset = offset + len(response['items'])\n",
    "        \n",
    "        if len(response['items']) == 0:\n",
    "            break\n",
    "\n",
    "    album_list = [b[\"track\"][\"album\"][\"name\"] for a in album for b in a]\n",
    "\n",
    "    \n",
    "    \n",
    "   # ARTIST\n",
    "\n",
    "    offset=0\n",
    "    artist = []\n",
    "\n",
    "    while True:\n",
    "        response = sp.playlist_tracks(url,\n",
    "                                      offset=offset,\n",
    "                                      fields=['items.track.album.artists.name,total'])\n",
    "\n",
    "        artist.append(response[\"items\"])\n",
    "        offset = offset + len(response['items'])\n",
    "        \n",
    "        if len(response['items']) == 0:\n",
    "            break\n",
    "\n",
    "    artist_list = [b[\"track\"][\"album\"][\"artists\"][0][\"name\"] for a in artist for b in a]\n",
    "\n",
    "    \n",
    "    # ID\n",
    "    \n",
    "    offset = 0\n",
    "    identifier = []\n",
    "\n",
    "    while True:\n",
    "        response = sp.playlist_tracks(url,\n",
    "                                      offset=offset,\n",
    "                                      fields=['items.track.id,total'])\n",
    "\n",
    "        identifier.append(response[\"items\"])\n",
    "        offset = offset + len(response['items'])\n",
    "        \n",
    "        if len(response['items']) == 0:\n",
    "            break\n",
    "\n",
    "    identifier_list= [b[\"track\"][\"id\"] for a in identifier for b in a]\n",
    "    len(identifier_list)\n",
    "\n",
    "    #Get audio features\n",
    "    features = [sp.audio_features(identifier) for identifier in identifier_list]\n",
    "    \n",
    "    # Get each invidividual feature\n",
    "    danceability = [(b[\"danceability\"]) for a in features for b in a]    \n",
    "    mode = [(b[\"mode\"]) for a in features for b in a]\n",
    "    energy = [(b[\"energy\"]) for a in features for b in a]\n",
    "    key = [(b[\"key\"]) for a in features for b in a]        \n",
    "    loudness = [(b[\"loudness\"]) for a in features for b in a]       \n",
    "    speechiness = [(b[\"speechiness\"]) for a in features for b in a]\n",
    "    acousticness = [(b[\"acousticness\"]) for a in features for b in a]        \n",
    "    instrumentalness = [(b[\"instrumentalness\"]) for a in features for b in a] \n",
    "    liveness = [(b[\"liveness\"]) for a in features for b in a]\n",
    "    valence = [(b[\"valence\"]) for a in features for b in a]        \n",
    "    tempo = [(b[\"tempo\"]) for a in features for b in a] \n",
    "    duration_ms = [(b[\"duration_ms\"]) for a in features for b in a] \n",
    "    identifier_ = [(b[\"id\"]) for a in features for b in a] \n",
    "    \n",
    "    ## DataFrame (saved with current time)\n",
    "\n",
    "    df = pd.DataFrame({\"Song Name\": name_list, \"Artist\": artist_list, \"Album\": album_list, \"ID\": identifier_list})\n",
    "    df_2 = pd.DataFrame({\"Danceability\":danceability,\n",
    "                         \"Mode\":mode,\n",
    "                         \"Energy\":energy,\n",
    "                         \"Key\":key,\n",
    "                         \"Loudness\":loudness,\n",
    "                         \"Speechiness\":speechiness,\n",
    "                         \"Acousticness\":acousticness,\n",
    "                         \"Instrumentalness\":instrumentalness,\n",
    "                         \"Liveness\":liveness,\n",
    "                         \"Valence\":valence,\n",
    "                         \"Tempo\":tempo,\n",
    "                         \"Duration (ms)\": duration_ms,\n",
    "                         \"ID_CHECK\":identifier_\n",
    "                               })\n",
    "\n",
    "    df_combined = df_2.join(df)\n",
    "    df_combined.to_excel(\"file\" + str(count) + \".xlsx\")\n",
    "    \n",
    "    # this adds user chosen song to the end\n",
    "    df_combined = df_combined.append(song_stuff)\n",
    "    df_combined.to_excel(\"newfile\" + str(count) + \".xlsx\")\n",
    "\n",
    "    return df_combined.tail()"
   ]
  },
  {
   "cell_type": "code",
   "execution_count": 8,
   "id": "96f95149",
   "metadata": {
    "scrolled": false
   },
   "outputs": [
    {
     "ename": "TypeError",
     "evalue": "analyse_playlist() takes 1 positional argument but 2 were given",
     "output_type": "error",
     "traceback": [
      "\u001b[1;31m---------------------------------------------------------------------------\u001b[0m",
      "\u001b[1;31mTypeError\u001b[0m                                 Traceback (most recent call last)",
      "\u001b[1;32m<ipython-input-8-e7d30c2362af>\u001b[0m in \u001b[0;36m<module>\u001b[1;34m\u001b[0m\n\u001b[1;32m----> 1\u001b[1;33m \u001b[0manalyse_playlist\u001b[0m\u001b[1;33m(\u001b[0m\u001b[0murl_pop\u001b[0m\u001b[1;33m,\u001b[0m \u001b[1;34m\"pop\"\u001b[0m\u001b[1;33m)\u001b[0m\u001b[1;33m\u001b[0m\u001b[1;33m\u001b[0m\u001b[0m\n\u001b[0m",
      "\u001b[1;31mTypeError\u001b[0m: analyse_playlist() takes 1 positional argument but 2 were given"
     ]
    }
   ],
   "source": [
    "analyse_playlist(url_pop, \"pop\")"
   ]
  },
  {
   "cell_type": "code",
   "execution_count": null,
   "id": "7f84c1a0",
   "metadata": {
    "scrolled": false
   },
   "outputs": [],
   "source": [
    "analyse_playlist(url_rnb, \"rnb\")"
   ]
  },
  {
   "cell_type": "markdown",
   "id": "be3390e2",
   "metadata": {},
   "source": [
    "## Data Visualization"
   ]
  },
  {
   "cell_type": "markdown",
   "id": "a4227d57",
   "metadata": {},
   "source": [
    "### Histograms"
   ]
  },
  {
   "cell_type": "code",
   "execution_count": null,
   "id": "35bcf718",
   "metadata": {},
   "outputs": [],
   "source": [
    "def plot_figures(excel_file, colour):\n",
    "    \"\"\"Takes data from an excel file and plots histogram in subplots\"\"\"\n",
    "\n",
    "    # Read excel file and put into DataFrame\n",
    "\n",
    "    df = pd.read_excel(excel_file, index_col=0)\n",
    "\n",
    "    # Initiate plot\n",
    "    \n",
    "    plt.figure(1,figsize=(30,25))\n",
    "    \n",
    "    # Create subplots for each column in the excel file\n",
    "\n",
    "    plt.subplot(4,3,1)\n",
    "    sns.distplot(df[\"Danceability\"], color=colour)\n",
    "\n",
    "    plt.subplot(4,3,2)\n",
    "    sns.distplot(df[\"Energy\"], color=colour)\n",
    "\n",
    "    plt.subplot(4,3,3)\n",
    "    sns.distplot(df[\"Tempo\"], color=colour)\n",
    "\n",
    "    plt.subplot(4,3,4)\n",
    "    sns.distplot(df[\"Loudness\"], color=colour)\n",
    "\n",
    "    plt.subplot(4,3,5)\n",
    "    sns.distplot(df[\"Speechiness\"], color=colour)\n",
    "\n",
    "    plt.subplot(4,3,6)\n",
    "    sns.distplot(df[\"Acousticness\"], color=colour)\n",
    "\n",
    "    plt.subplot(4,3,7)\n",
    "    sns.distplot(df[\"Instrumentalness\"], color=colour)\n",
    "\n",
    "    plt.subplot(4,3,8)\n",
    "    sns.distplot(df[\"Liveness\"], color=colour)\n",
    "\n",
    "    plt.subplot(4,3,9)\n",
    "    sns.distplot(df[\"Valence\"], color=colour)\n",
    "\n",
    "    plt.subplot(4,3,10)\n",
    "    sns.distplot(df[\"Duration (ms)\"], color=colour)\n",
    "\n",
    "    plt.subplot(4,3,11)\n",
    "    sns.distplot(df[\"Key\"], color=colour)\n",
    "\n",
    "    plt.subplot(4,3,12)\n",
    "    sns.distplot(df[\"Mode\"], color=colour)\n",
    "\n"
   ]
  },
  {
   "cell_type": "code",
   "execution_count": null,
   "id": "9fb5a7b1",
   "metadata": {
    "scrolled": true
   },
   "outputs": [],
   "source": [
    "plot_figures(\"newfilepop.xlsx\", colour=\"darkcyan\")"
   ]
  },
  {
   "cell_type": "code",
   "execution_count": null,
   "id": "74733f31",
   "metadata": {
    "scrolled": true
   },
   "outputs": [],
   "source": [
    "plot_figures(\"newfilernb.xlsx\",colour=\"crimson\")"
   ]
  },
  {
   "cell_type": "markdown",
   "id": "6bf5bcc7",
   "metadata": {},
   "source": [
    "### Radar Charts"
   ]
  },
  {
   "cell_type": "code",
   "execution_count": null,
   "id": "ad835dec",
   "metadata": {},
   "outputs": [],
   "source": [
    "def plot_radar_chart(excel_file):\n",
    "    \"\"\"Takes data from excel file and scales the values so that they all lie between zero and 1.\n",
    "    Then plots a radar chart.\"\"\"\n",
    "\n",
    "    df = pd.read_excel(excel_file, index_col = 0)\n",
    "    #or df = pd.read_excel(excel_file)\n",
    "    \n",
    "    # Get the specific columns\n",
    "    radar = df.loc[:,\"Danceability\":\"Duration (ms)\"]\n",
    "\n",
    "    # Create another df for our altered values (scale all values between 0 and 1)\n",
    "    df_z = radar\n",
    "    df_z[\"Key\"] = (df[\"Key\"] / df[\"Key\"].max())\n",
    "    df_z[\"Duration (ms)\"] = (df[\"Duration (ms)\"] / df[\"Duration (ms)\"].max())\n",
    "    df_z[\"Tempo\"] = (df[\"Tempo\"] / df[\"Tempo\"].max())\n",
    "    df_z[\"Loudness\"] = (df[\"Loudness\"] / df[\"Loudness\"].min())\n",
    "\n",
    "    # Prepare data for plotting with plotly.express\n",
    "    labels = list(df_z.columns)\n",
    "\n",
    "    values = df_z.mean().values\n",
    "\n",
    "    df_radar = pd.DataFrame(dict(r=values, theta=labels))\n",
    "\n",
    "    fig = px.line_polar(df_radar, r=\"r\", theta=\"theta\", line_close=True)\n",
    "\n",
    "    fig.update_traces(fill=\"toself\")\n",
    "    fig.show()\n",
    "    return df_radar"
   ]
  },
  {
   "cell_type": "code",
   "execution_count": null,
   "id": "7d8c59c4",
   "metadata": {
    "scrolled": false
   },
   "outputs": [],
   "source": [
    "pop_radar = plot_radar_chart(\"newfilepop.xlsx\")"
   ]
  },
  {
   "cell_type": "code",
   "execution_count": null,
   "id": "2ce36de4",
   "metadata": {},
   "outputs": [],
   "source": [
    "import chart_studio\n",
    "import chart_studio.plotly as py\n",
    "import chart_studio.tools as tls"
   ]
  },
  {
   "cell_type": "code",
   "execution_count": null,
   "id": "bddd6334",
   "metadata": {},
   "outputs": [],
   "source": [
    "rnb_radar = plot_radar_chart(\"newfilernb.xlsx\")"
   ]
  },
  {
   "cell_type": "code",
   "execution_count": null,
   "id": "06d1e051",
   "metadata": {},
   "outputs": [],
   "source": [
    "# PCA Decomposition\n",
    "def PCA(excel_file):\n",
    "\n",
    "    from sklearn.decomposition import PCA\n",
    "\n",
    "    df = pd.read_excel(excel_file, index_col=0)\n",
    "\n",
    "    df_scaled = pd.DataFrame()\n",
    "\n",
    "    for col in df.loc[:,\"Danceability\":\"Duration (ms)\"]:\n",
    "        df_scaled[col] = (df[col] - df[col].mean() / df[col].std())\n",
    "\n",
    "    df_scaled\n",
    "\n",
    "\n",
    "    # Initialize PCA\n",
    "    pca = PCA(n_components = len(df_scaled.columns))\n",
    "\n",
    "    # Fit PCA\n",
    "    pca_series = pca.fit_transform(df_scaled).T\n",
    "\n",
    "    df_pca = pd.DataFrame({\"PC1\":pca_series[0], \"PC2\":pca_series[1]})\n",
    "    print(df_pca)\n",
    "    df_pca.to_excel(\"DF_PCA_\" + f'{excel_file}')\n",
    "\n",
    "    explained_variance = pca.explained_variance_ratio_\n",
    "\n",
    "    print(\"\\n explained variance = {}\".format(explained_variance))\n",
    "\n",
    "    eigenvector_loadings = pca.singular_values_\n",
    "    print(\"\\n eigenvector_loadings = {}\".format(eigenvector_loadings))\n",
    "\n"
   ]
  },
  {
   "cell_type": "code",
   "execution_count": null,
   "id": "96c9eec2",
   "metadata": {},
   "outputs": [],
   "source": [
    "PCA(\"newfilepop.xlsx\")"
   ]
  },
  {
   "cell_type": "code",
   "execution_count": null,
   "id": "290940c0",
   "metadata": {},
   "outputs": [],
   "source": [
    "PCA(\"newfilernb.xlsx\")"
   ]
  },
  {
   "cell_type": "markdown",
   "id": "268f4adc",
   "metadata": {},
   "source": [
    "# Scatterplot"
   ]
  },
  {
   "cell_type": "code",
   "execution_count": null,
   "id": "18f02a79",
   "metadata": {
    "scrolled": true
   },
   "outputs": [],
   "source": [
    "fig = plt.figure(figsize=(15,15))\n",
    "ax = fig.add_subplot(111)\n",
    "\n",
    "ax.set_xlabel(\"First Principal Component\", fontsize=15)\n",
    "ax.set_ylabel(\"Second Principal Component\", fontsize=15)\n",
    "ax.set_title(\"Principal Components of both genres\", fontsize=18)\n",
    "\n",
    "pop_components = pd.read_excel(\"DF_PCA_newfilepop.xlsx\", index_col=0)\n",
    "rnb_components = pd.read_excel(\"DF_PCA_newfilernb.xlsx\", index_col=0)\n",
    "\n",
    "ax = plt.scatter(x = pop_components[\"PC1\"], y= pop_components[\"PC2\"], label=\"Pop\", color=\"darkcyan\")\n",
    "ax = plt.scatter(x = rnb_components[\"PC1\"][:1861], y= rnb_components[\"PC2\"][:1861], label=\"R&B\", color=\"crimson\")\n",
    "plt.xlim(-250000,400000)\n",
    "\n",
    "plt.grid(True)\n",
    "plt.legend(prop = {\"size\":18}, loc=\"lower right\")"
   ]
  },
  {
   "cell_type": "markdown",
   "id": "a01e4482",
   "metadata": {},
   "source": [
    "# RECOMMENDATION"
   ]
  },
  {
   "cell_type": "markdown",
   "id": "a33774f7",
   "metadata": {},
   "source": [
    "## Perform KNN algorithm"
   ]
  },
  {
   "cell_type": "code",
   "execution_count": null,
   "id": "98783e55",
   "metadata": {},
   "outputs": [],
   "source": [
    "# Label the class of each genre, pop = 0, rnb = 1\n",
    "\n",
    "#AK - insert 'new' at beginning of file name to include user choice in dataset - ex. \"newfilepop.xlsx\"\n",
    "labelled_pop = pd.read_excel(\"filepop.xlsx\", index_col=0, usecols=[0,1,2,3,4,5,6,7,8,9,10,11])\n",
    "labelled_rnb = pd.read_excel(\"filernb.xlsx\", index_col=0, usecols=[0,1,2,3,4,5,6,7,8,9,10,11])\n",
    "labelled_pop[\"Class\"] = 0\n",
    "labelled_rnb[\"Class\"] = 1\n",
    "\n",
    "# Combine to create a full dataframe\n",
    "full_data = labelled_pop.append(labelled_rnb[:200], ignore_index=True) #1861\n",
    "\n",
    "# Scale between 0 and 1\n",
    "full_data[\"Key\"] = (full_data[\"Key\"] / full_data[\"Key\"].max())\n",
    "full_data[\"Tempo\"] = (full_data[\"Tempo\"] / full_data[\"Tempo\"].max())\n",
    "full_data[\"Loudness\"] = (full_data[\"Loudness\"] / full_data[\"Loudness\"].min())\n",
    "\n",
    "full_data_random = full_data.sample(frac=1)\n",
    "full_data_random"
   ]
  },
  {
   "cell_type": "markdown",
   "id": "0d2eac0c",
   "metadata": {},
   "source": [
    "### Training data"
   ]
  },
  {
   "cell_type": "code",
   "execution_count": null,
   "id": "d0da69f8",
   "metadata": {},
   "outputs": [],
   "source": [
    "# Get x training data\n",
    "x_train = full_data_random[:3000]\n",
    "\n",
    "# Target values\n",
    "y_train = x_train[\"Class\"].values\n",
    "\n",
    "# Remove target values from x_data\n",
    "x_train = x_train.drop(\"Class\", axis=1)\n",
    "x_train"
   ]
  },
  {
   "cell_type": "markdown",
   "id": "2c6efae2",
   "metadata": {},
   "source": [
    "### Test Data"
   ]
  },
  {
   "cell_type": "code",
   "execution_count": null,
   "id": "8ff5e1d0",
   "metadata": {},
   "outputs": [],
   "source": [
    "x_test = full_data_random[70:]\n",
    "\n",
    "# Randomise the data\n",
    "x_test = x_test.sample(frac=1)\n",
    "\n",
    "y_test = x_test[\"Class\"].values\n",
    "\n",
    "x_test = x_test.drop(\"Class\", axis=1)\n",
    "x_test"
   ]
  },
  {
   "cell_type": "markdown",
   "id": "94c117f9",
   "metadata": {},
   "source": [
    "# TEST KNN VALUES"
   ]
  },
  {
   "cell_type": "code",
   "execution_count": null,
   "id": "5e927efa",
   "metadata": {},
   "outputs": [],
   "source": [
    "from sklearn import metrics\n",
    "from sklearn.neighbors import KNeighborsClassifier\n",
    "from sklearn.model_selection import cross_val_score"
   ]
  },
  {
   "cell_type": "code",
   "execution_count": null,
   "id": "ccc0ab36",
   "metadata": {},
   "outputs": [],
   "source": [
    "# test knn values to show optimal accuracy\n",
    "def test_accuracy(x_train, x_test, y_train, y_test):\n",
    "    \n",
    "    accuracy_scores = []\n",
    "    \n",
    "    for i in range(2,10):\n",
    "        knn_i = KNeighborsClassifier(n_neighbors = i).fit(x_train, y_train)\n",
    "        y = knn_i.predict(x_test)\n",
    "        accuracy_scores.append((i,(metrics.accuracy_score(y_test, y))))\n",
    "        \n",
    "    df_accuracy_scores = pd.DataFrame(accuracy_scores).rename(columns = {0:'KNN Value',1:'Accuracy Score'})\n",
    "    df_accuracy_scores = df_accuracy_scores.style.hide_index().set_properties(**{'text-align': 'center'})\n",
    "    df_accuracy_scores = df_accuracy_scores.set_table_styles([dict(selector = 'th', props=[('text-align', 'center')])])\n",
    "    \n",
    "    return df_accuracy_scores"
   ]
  },
  {
   "cell_type": "code",
   "execution_count": null,
   "id": "8962920b",
   "metadata": {},
   "outputs": [],
   "source": [
    "accuracy_results = test_accuracy(x_train, x_test, y_train, y_test)\n",
    "accuracy_results"
   ]
  },
  {
   "cell_type": "code",
   "execution_count": null,
   "id": "4dbafb1d",
   "metadata": {},
   "outputs": [],
   "source": [
    "accuracy_results = accuracy_results.data\n",
    "accuracy_results.plot(x='KNN Value',y='Accuracy Score')"
   ]
  },
  {
   "cell_type": "code",
   "execution_count": null,
   "id": "05e07786",
   "metadata": {},
   "outputs": [],
   "source": [
    "accuracy_results = accuracy_results.sort_values('Accuracy Score', ascending=False)\n",
    "optimal_knn = accuracy_results['KNN Value'].iloc[0]\n",
    "\n",
    "print(\" The optimal KNN value is \", optimal_knn)"
   ]
  },
  {
   "cell_type": "markdown",
   "id": "e4e2534e",
   "metadata": {},
   "source": [
    "### Fit the KNN model"
   ]
  },
  {
   "cell_type": "code",
   "execution_count": null,
   "id": "c5899b5e",
   "metadata": {},
   "outputs": [],
   "source": [
    "knn = KNeighborsClassifier(n_neighbors=optimal_knn)\n",
    "\n",
    "#cross_validate\n",
    "cv_scores = cross_val_score(knn, x_train, y_train, cv=10)\n",
    "knn.fit(x_train, y_train)"
   ]
  },
  {
   "cell_type": "code",
   "execution_count": null,
   "id": "19c860ec",
   "metadata": {},
   "outputs": [],
   "source": [
    "cv_scores_mean = np.mean(cv_scores)\n",
    "print(cv_scores , \"\\n\\n\"\"mean =\" ,\"{:.2f}\".format(cv_scores_mean))"
   ]
  },
  {
   "cell_type": "code",
   "execution_count": null,
   "id": "1f103223",
   "metadata": {},
   "outputs": [],
   "source": [
    "predictions = knn.predict(x_test)\n",
    "predictions"
   ]
  },
  {
   "cell_type": "code",
   "execution_count": null,
   "id": "7f572838",
   "metadata": {},
   "outputs": [],
   "source": [
    "accuracy_score = knn.score(x_test, y_test)\n",
    "print(\"Accuracy score = \"\"{:.2f}\".format(accuracy_score))"
   ]
  },
  {
   "cell_type": "code",
   "execution_count": null,
   "id": "3592fa6d",
   "metadata": {
    "scrolled": false
   },
   "outputs": [],
   "source": [
    "from sklearn.metrics import confusion_matrix\n",
    "\n",
    "confusion_matrix = confusion_matrix(y_test, predictions)\n",
    "confusion_matrix"
   ]
  },
  {
   "cell_type": "code",
   "execution_count": null,
   "id": "2d734ae4",
   "metadata": {},
   "outputs": [],
   "source": [
    "# song_prediction_data\n",
    "song_pred_data = song_stuff.iloc[:, 0:11]\n",
    "song_pred_data"
   ]
  },
  {
   "cell_type": "code",
   "execution_count": null,
   "id": "73295395",
   "metadata": {},
   "outputs": [],
   "source": [
    "song_pred_data[\"Key\"] = (song_pred_data[\"Key\"] / full_data[\"Key\"].max())\n",
    "song_pred_data[\"Tempo\"] = (song_pred_data[\"Tempo\"] / full_data[\"Tempo\"].max())\n",
    "song_pred_data[\"Loudness\"] = (song_pred_data[\"Loudness\"] / full_data[\"Loudness\"].min())\n",
    "song_pred_data"
   ]
  },
  {
   "cell_type": "code",
   "execution_count": null,
   "id": "3fca07a8",
   "metadata": {},
   "outputs": [],
   "source": [
    "user_prediction = knn.predict(song_pred_data)\n",
    "\n",
    "if user_prediction == 0:\n",
    "    print(\" The chosen song is closest to pop.\")\n",
    "    user_genre = 0\n",
    "else:\n",
    "    print(\" The chosen song is closest to RnB.\")\n",
    "    user_genre = 1"
   ]
  },
  {
   "cell_type": "code",
   "execution_count": null,
   "id": "9db48450",
   "metadata": {},
   "outputs": [],
   "source": [
    "# 0 = pop, 1 = rnb --- used for automatic recommendation route if we decide to do that\n",
    "if user_genre == 0:\n",
    "    og_excel_file = \"filepop.xlsx\"\n",
    "    pl_components = pop_components\n",
    "else:\n",
    "    og_excel_file = \"filernb.xlsx\"\n",
    "    pl_components = rnb_components"
   ]
  },
  {
   "cell_type": "code",
   "execution_count": null,
   "id": "c92bdf64",
   "metadata": {},
   "outputs": [],
   "source": [
    "# (\"filepop.xlsx\" or \"filernb.xlsx\", pop_components or rnb_components, rec_amount)\n",
    "def recommendation(original_excel_file, playlist_components, rec_amount):\n",
    "    \n",
    "    distances = []\n",
    "    for i in range(len(playlist_components)-1):\n",
    "        distances.append(math.dist(playlist_components.iloc[50],playlist_components.iloc[i]))\n",
    "        \n",
    "    rec_data = ['Song Name', 'Artist', 'Album']  \n",
    "    \n",
    "    distance_df = pd.DataFrame(distances)    \n",
    "    \n",
    "    playlist_info = pd.read_excel(original_excel_file, index_col=None, usecols=rec_data)\n",
    "    playlist_info_df = pd.DataFrame(playlist_info)\n",
    "    \n",
    "    comb_df = playlist_info_df.join(distance_df)\n",
    "    comb_df = comb_df.rename(columns = {0:'Distance'})\n",
    "    \n",
    "    \n",
    "    recommendations = comb_df.sort_values('Distance').head(rec_amount)[rec_data].style.set_properties(**{'text-align': 'left'})\n",
    "    recommendations = recommendations.hide_index()\n",
    "    recommendations = recommendations.set_table_styles([dict(selector = 'th', props=[('text-align', 'left')])])\n",
    "    \n",
    "    return recommendations"
   ]
  },
  {
   "cell_type": "code",
   "execution_count": null,
   "id": "e5ab7db0",
   "metadata": {},
   "outputs": [],
   "source": [
    "# manual pop - Levels by Avicii\n",
    "recommendation(\"filepop.xlsx\", pop_components, 5)"
   ]
  },
  {
   "cell_type": "code",
   "execution_count": null,
   "id": "d37d9952",
   "metadata": {},
   "outputs": [],
   "source": [
    "# manual rnb - Levels by Avicii\n",
    "recommendation(\"filernb.xlsx\", rnb_components, 5)"
   ]
  },
  {
   "cell_type": "code",
   "execution_count": null,
   "id": "af186b68",
   "metadata": {},
   "outputs": [],
   "source": [
    "# automatic based on user_genre prediction\n",
    "recommendation(og_excel_file, pl_components, 5)"
   ]
  },
  {
   "cell_type": "markdown",
   "id": "92ccdc54",
   "metadata": {},
   "source": [
    "# Reference:\n",
    "\n",
    "    https://towardsdatascience.com/using-k-nearest-neighbours-to-predict-the-genre-of-spotify-tracks-796bbbad619f\n",
    "   \n",
    "    https://developer.spotify.com/documentation/web-api/quick-start/"
   ]
  }
 ],
 "metadata": {
  "kernelspec": {
   "display_name": "Python 3",
   "language": "python",
   "name": "python3"
  },
  "language_info": {
   "codemirror_mode": {
    "name": "ipython",
    "version": 3
   },
   "file_extension": ".py",
   "mimetype": "text/x-python",
   "name": "python",
   "nbconvert_exporter": "python",
   "pygments_lexer": "ipython3",
   "version": "3.8.8"
  }
 },
 "nbformat": 4,
 "nbformat_minor": 5
}
