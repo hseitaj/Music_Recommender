{
 "cells": [
  {
   "cell_type": "markdown",
   "id": "78efa374",
   "metadata": {},
   "source": [
    "# PCA USING Spotipy Web API\n",
    "\n",
    "Files to be installed:\n",
    "\n",
    "pip install spotipy\n",
    "\n",
    "pip install plotly\n",
    "\n",
    "pip install chart_studio"
   ]
  },
  {
   "cell_type": "code",
   "execution_count": 1,
   "id": "2f700fba",
   "metadata": {},
   "outputs": [],
   "source": [
    "import matplotlib.pyplot as plt\n",
    "import spotipy\n",
    "from spotipy.oauth2 import SpotifyClientCredentials\n",
    "import pandas as pd\n",
    "from datetime import datetime\n",
    "import numpy as np\n",
    "import seaborn as sns\n",
    "import plotly.express as px\n",
    "import math\n",
    "%matplotlib inline"
   ]
  },
  {
   "cell_type": "code",
   "execution_count": 2,
   "id": "53999433",
   "metadata": {},
   "outputs": [],
   "source": [
    "client_id = \"xxxxxxxxxxxxxxxxxxxxxxxxxxxxxxxxxxxx\"         #private\n",
    "client_secret = \"xxxxxxxxxxxxxxxxxxxxxxxxxxxxxxxxxxx\"     #private\n",
    "\n",
    "\n",
    "client_credentials_manager = SpotifyClientCredentials(client_id = client_id, client_secret = client_secret)\n",
    "\n",
    "sp_query = spotipy.Spotify(client_credentials_manager=client_credentials_manager)\n",
    "\n",
    "# Set up query with credentials\n",
    "sp = spotipy.Spotify(\n",
    "            client_credentials_manager=SpotifyClientCredentials(\n",
    "            client_id=client_id,\n",
    "            client_secret=client_secret))\n",
    "#https://open.spotify.com/playlist/37i9dQZF1DX0XUsuxWHRQd?si=c716671d568140a8\n",
    "\n",
    "url_pop = 'spotify:playlist:37i9dQZF1DXcBWIGoYBM5M'\n",
    "url_rnb = 'spotify:playlist:37i9dQZF1DX0XUsuxWHRQd'"
   ]
  },
  {
   "cell_type": "markdown",
   "id": "9ee87abe",
   "metadata": {},
   "source": [
    "## Analyse Playlist Function"
   ]
  },
  {
   "cell_type": "code",
   "execution_count": 3,
   "id": "fbe9c025",
   "metadata": {},
   "outputs": [],
   "source": [
    "def analyse_playlist(url, count):\n",
    "    \"\"\"Retrieves all songs from an identified playlist, and takes the ID, song, album, artist \n",
    "    and puts this all into a DataFrame\"\"\"\n",
    "\n",
    "   # SONG NAMES\n",
    "\n",
    "    offset = 0\n",
    "    name = []\n",
    "\n",
    "    while True:\n",
    "        response = sp.playlist_tracks(url,\n",
    "                                      offset=offset,\n",
    "                                      fields=['items.track.name,total'])\n",
    "\n",
    "        name.append(response[\"items\"])\n",
    "        offset = offset + len(response['items'])\n",
    "        \n",
    "        if len(response['items']) == 0:\n",
    "            break\n",
    "\n",
    "    name_list = [b[\"track\"][\"name\"] for a in name for b in a]\n",
    "    len(name_list)\n",
    "    \n",
    "    \n",
    "\n",
    "    # ALBUM\n",
    "\n",
    "    offset=0\n",
    "    album = []\n",
    "\n",
    "    while True:\n",
    "        response = sp.playlist_tracks(url,\n",
    "                                      offset=offset,\n",
    "                                      fields=['items.track.album.name,total'])\n",
    "\n",
    "        album.append(response[\"items\"])\n",
    "        offset = offset + len(response['items'])\n",
    "        \n",
    "        if len(response['items']) == 0:\n",
    "            break\n",
    "\n",
    "    album_list = [b[\"track\"][\"album\"][\"name\"] for a in album for b in a]\n",
    "\n",
    "    \n",
    "    \n",
    "   # ARTIST\n",
    "\n",
    "    offset=0\n",
    "    artist = []\n",
    "\n",
    "    while True:\n",
    "        response = sp.playlist_tracks(url,\n",
    "                                      offset=offset,\n",
    "                                      fields=['items.track.album.artists.name,total'])\n",
    "\n",
    "        artist.append(response[\"items\"])\n",
    "        offset = offset + len(response['items'])\n",
    "        \n",
    "        if len(response['items']) == 0:\n",
    "            break\n",
    "\n",
    "    artist_list = [b[\"track\"][\"album\"][\"artists\"][0][\"name\"] for a in artist for b in a]\n",
    "\n",
    "    \n",
    "    # ID\n",
    "    \n",
    "    offset = 0\n",
    "    identifier = []\n",
    "\n",
    "    while True:\n",
    "        response = sp.playlist_tracks(url,\n",
    "                                      offset=offset,\n",
    "                                      fields=['items.track.id,total'])\n",
    "\n",
    "        identifier.append(response[\"items\"])\n",
    "        offset = offset + len(response['items'])\n",
    "        \n",
    "        if len(response['items']) == 0:\n",
    "            break\n",
    "\n",
    "    identifier_list= [b[\"track\"][\"id\"] for a in identifier for b in a]\n",
    "    len(identifier_list)\n",
    "\n",
    "    #Get audio features\n",
    "    features = [sp.audio_features(identifier) for identifier in identifier_list]\n",
    "    \n",
    "    # Get each invidividual feature\n",
    "    danceability = [(b[\"danceability\"]) for a in features for b in a]    \n",
    "    mode = [(b[\"mode\"]) for a in features for b in a]\n",
    "    energy = [(b[\"energy\"]) for a in features for b in a]\n",
    "    key = [(b[\"key\"]) for a in features for b in a]        \n",
    "    loudness = [(b[\"loudness\"]) for a in features for b in a]       \n",
    "    speechiness = [(b[\"speechiness\"]) for a in features for b in a]\n",
    "    acousticness = [(b[\"acousticness\"]) for a in features for b in a]        \n",
    "    instrumentalness = [(b[\"instrumentalness\"]) for a in features for b in a] \n",
    "    liveness = [(b[\"liveness\"]) for a in features for b in a]\n",
    "    valence = [(b[\"valence\"]) for a in features for b in a]        \n",
    "    tempo = [(b[\"tempo\"]) for a in features for b in a] \n",
    "    duration_ms = [(b[\"duration_ms\"]) for a in features for b in a] \n",
    "    identifier_ = [(b[\"id\"]) for a in features for b in a] \n",
    "    \n",
    "    ## DataFrame (saved with current time)\n",
    "\n",
    "    df = pd.DataFrame({\"Song name\": name_list, \"Artist\": artist_list, \"Album\": album_list, \"ID\": identifier_list})\n",
    "    df_2 = pd.DataFrame({\"Danceability\":danceability,\n",
    "                         \"Mode\":mode,\n",
    "                         \"Energy\":energy,\n",
    "                         \"Key\":key,\n",
    "                         \"Loudness\":loudness,\n",
    "                         \"Speechiness\":speechiness,\n",
    "                         \"Acousticness\":acousticness,\n",
    "                         \"Instrumentalness\":instrumentalness,\n",
    "                         \"Liveness\":liveness,\n",
    "                         \"Valence\":valence,\n",
    "                         \"Tempo\":tempo,\n",
    "                         \"Duration (ms)\": duration_ms,\n",
    "                         \"ID_CHECK\":identifier_\n",
    "                               })\n",
    "\n",
    "    df_combined = df_2.join(df)\n",
    "    \n",
    "    df_combined.to_excel(\"file\" + str(count) + \".xlsx\")\n",
    "\n",
    "    return df_combined.tail()"
   ]
  },
  {
   "cell_type": "code",
   "execution_count": 10,
   "id": "7f84c1a0",
   "metadata": {
    "scrolled": true
   },
   "outputs": [
    {
     "name": "stderr",
     "output_type": "stream",
     "text": [
      "Couldn't read cache at: .cache\n",
      "Couldn't write token to cache at: .cache\n",
      "Couldn't read cache at: .cache\n",
      "Couldn't write token to cache at: .cache\n",
      "Couldn't read cache at: .cache\n",
      "Couldn't write token to cache at: .cache\n",
      "Couldn't read cache at: .cache\n",
      "Couldn't write token to cache at: .cache\n",
      "Couldn't read cache at: .cache\n",
      "Couldn't write token to cache at: .cache\n",
      "Couldn't read cache at: .cache\n",
      "Couldn't write token to cache at: .cache\n",
      "Couldn't read cache at: .cache\n",
      "Couldn't write token to cache at: .cache\n",
      "Couldn't read cache at: .cache\n",
      "Couldn't write token to cache at: .cache\n",
      "Couldn't read cache at: .cache\n",
      "Couldn't write token to cache at: .cache\n",
      "Couldn't read cache at: .cache\n",
      "Couldn't write token to cache at: .cache\n",
      "Couldn't read cache at: .cache\n",
      "Couldn't write token to cache at: .cache\n",
      "Couldn't read cache at: .cache\n",
      "Couldn't write token to cache at: .cache\n",
      "Couldn't read cache at: .cache\n",
      "Couldn't write token to cache at: .cache\n",
      "Couldn't read cache at: .cache\n",
      "Couldn't write token to cache at: .cache\n",
      "Couldn't read cache at: .cache\n",
      "Couldn't write token to cache at: .cache\n",
      "Couldn't read cache at: .cache\n",
      "Couldn't write token to cache at: .cache\n",
      "Couldn't read cache at: .cache\n",
      "Couldn't write token to cache at: .cache\n",
      "Couldn't read cache at: .cache\n",
      "Couldn't write token to cache at: .cache\n",
      "Couldn't read cache at: .cache\n",
      "Couldn't write token to cache at: .cache\n",
      "Couldn't read cache at: .cache\n",
      "Couldn't write token to cache at: .cache\n",
      "Couldn't read cache at: .cache\n",
      "Couldn't write token to cache at: .cache\n",
      "Couldn't read cache at: .cache\n",
      "Couldn't write token to cache at: .cache\n",
      "Couldn't read cache at: .cache\n",
      "Couldn't write token to cache at: .cache\n",
      "Couldn't read cache at: .cache\n",
      "Couldn't write token to cache at: .cache\n",
      "Couldn't read cache at: .cache\n",
      "Couldn't write token to cache at: .cache\n",
      "Couldn't read cache at: .cache\n",
      "Couldn't write token to cache at: .cache\n",
      "Couldn't read cache at: .cache\n",
      "Couldn't write token to cache at: .cache\n",
      "Couldn't read cache at: .cache\n",
      "Couldn't write token to cache at: .cache\n",
      "Couldn't read cache at: .cache\n",
      "Couldn't write token to cache at: .cache\n",
      "Couldn't read cache at: .cache\n",
      "Couldn't write token to cache at: .cache\n",
      "Couldn't read cache at: .cache\n",
      "Couldn't write token to cache at: .cache\n",
      "Couldn't read cache at: .cache\n",
      "Couldn't write token to cache at: .cache\n",
      "Couldn't read cache at: .cache\n",
      "Couldn't write token to cache at: .cache\n",
      "Couldn't read cache at: .cache\n",
      "Couldn't write token to cache at: .cache\n",
      "Couldn't read cache at: .cache\n",
      "Couldn't write token to cache at: .cache\n",
      "Couldn't read cache at: .cache\n",
      "Couldn't write token to cache at: .cache\n",
      "Couldn't read cache at: .cache\n",
      "Couldn't write token to cache at: .cache\n",
      "Couldn't read cache at: .cache\n",
      "Couldn't write token to cache at: .cache\n",
      "Couldn't read cache at: .cache\n",
      "Couldn't write token to cache at: .cache\n",
      "Couldn't read cache at: .cache\n",
      "Couldn't write token to cache at: .cache\n",
      "Couldn't read cache at: .cache\n",
      "Couldn't write token to cache at: .cache\n",
      "Couldn't read cache at: .cache\n",
      "Couldn't write token to cache at: .cache\n",
      "Couldn't read cache at: .cache\n",
      "Couldn't write token to cache at: .cache\n",
      "Couldn't read cache at: .cache\n",
      "Couldn't write token to cache at: .cache\n",
      "Couldn't read cache at: .cache\n",
      "Couldn't write token to cache at: .cache\n",
      "Couldn't read cache at: .cache\n",
      "Couldn't write token to cache at: .cache\n",
      "Couldn't read cache at: .cache\n",
      "Couldn't write token to cache at: .cache\n",
      "Couldn't read cache at: .cache\n",
      "Couldn't write token to cache at: .cache\n",
      "Couldn't read cache at: .cache\n",
      "Couldn't write token to cache at: .cache\n",
      "Couldn't read cache at: .cache\n",
      "Couldn't write token to cache at: .cache\n",
      "Couldn't read cache at: .cache\n",
      "Couldn't write token to cache at: .cache\n",
      "Couldn't read cache at: .cache\n",
      "Couldn't write token to cache at: .cache\n",
      "Couldn't read cache at: .cache\n",
      "Couldn't write token to cache at: .cache\n",
      "Couldn't read cache at: .cache\n",
      "Couldn't write token to cache at: .cache\n",
      "Couldn't read cache at: .cache\n",
      "Couldn't write token to cache at: .cache\n",
      "Couldn't read cache at: .cache\n",
      "Couldn't write token to cache at: .cache\n",
      "Couldn't read cache at: .cache\n",
      "Couldn't write token to cache at: .cache\n",
      "Couldn't read cache at: .cache\n",
      "Couldn't write token to cache at: .cache\n"
     ]
    },
    {
     "data": {
      "text/html": [
       "<div>\n",
       "<style scoped>\n",
       "    .dataframe tbody tr th:only-of-type {\n",
       "        vertical-align: middle;\n",
       "    }\n",
       "\n",
       "    .dataframe tbody tr th {\n",
       "        vertical-align: top;\n",
       "    }\n",
       "\n",
       "    .dataframe thead th {\n",
       "        text-align: right;\n",
       "    }\n",
       "</style>\n",
       "<table border=\"1\" class=\"dataframe\">\n",
       "  <thead>\n",
       "    <tr style=\"text-align: right;\">\n",
       "      <th></th>\n",
       "      <th>Danceability</th>\n",
       "      <th>Mode</th>\n",
       "      <th>Energy</th>\n",
       "      <th>Key</th>\n",
       "      <th>Loudness</th>\n",
       "      <th>Speechiness</th>\n",
       "      <th>Acousticness</th>\n",
       "      <th>Instrumentalness</th>\n",
       "      <th>Liveness</th>\n",
       "      <th>Valence</th>\n",
       "      <th>Tempo</th>\n",
       "      <th>Duration (ms)</th>\n",
       "      <th>ID_CHECK</th>\n",
       "      <th>Song name</th>\n",
       "      <th>Artist</th>\n",
       "      <th>Album</th>\n",
       "      <th>ID</th>\n",
       "    </tr>\n",
       "  </thead>\n",
       "  <tbody>\n",
       "    <tr>\n",
       "      <th>45</th>\n",
       "      <td>0.663</td>\n",
       "      <td>0</td>\n",
       "      <td>0.251</td>\n",
       "      <td>6</td>\n",
       "      <td>-9.870</td>\n",
       "      <td>0.0435</td>\n",
       "      <td>0.88000</td>\n",
       "      <td>0.000000</td>\n",
       "      <td>0.0932</td>\n",
       "      <td>0.528</td>\n",
       "      <td>90.272</td>\n",
       "      <td>215000</td>\n",
       "      <td>4VtRHZ4tBDHaWltVAytlLY</td>\n",
       "      <td>Go</td>\n",
       "      <td>Cat Burns</td>\n",
       "      <td>Go</td>\n",
       "      <td>4VtRHZ4tBDHaWltVAytlLY</td>\n",
       "    </tr>\n",
       "    <tr>\n",
       "      <th>46</th>\n",
       "      <td>0.603</td>\n",
       "      <td>1</td>\n",
       "      <td>0.473</td>\n",
       "      <td>5</td>\n",
       "      <td>-7.230</td>\n",
       "      <td>0.0511</td>\n",
       "      <td>0.61600</td>\n",
       "      <td>0.000000</td>\n",
       "      <td>0.3100</td>\n",
       "      <td>0.446</td>\n",
       "      <td>109.494</td>\n",
       "      <td>175345</td>\n",
       "      <td>5S9Zs5g9lTWnLIboN1pdlU</td>\n",
       "      <td>Fingers Crossed</td>\n",
       "      <td>Lauren Spencer-Smith</td>\n",
       "      <td>Fingers Crossed</td>\n",
       "      <td>5S9Zs5g9lTWnLIboN1pdlU</td>\n",
       "    </tr>\n",
       "    <tr>\n",
       "      <th>47</th>\n",
       "      <td>0.783</td>\n",
       "      <td>1</td>\n",
       "      <td>0.750</td>\n",
       "      <td>5</td>\n",
       "      <td>-5.762</td>\n",
       "      <td>0.0780</td>\n",
       "      <td>0.42600</td>\n",
       "      <td>0.000000</td>\n",
       "      <td>0.2410</td>\n",
       "      <td>0.880</td>\n",
       "      <td>97.953</td>\n",
       "      <td>140665</td>\n",
       "      <td>6Jrdb6CFOJEGaHjaa6c4WR</td>\n",
       "      <td>IDGAF (with blackbear)</td>\n",
       "      <td>BoyWithUke</td>\n",
       "      <td>IDGAF</td>\n",
       "      <td>6Jrdb6CFOJEGaHjaa6c4WR</td>\n",
       "    </tr>\n",
       "    <tr>\n",
       "      <th>48</th>\n",
       "      <td>0.831</td>\n",
       "      <td>0</td>\n",
       "      <td>0.554</td>\n",
       "      <td>1</td>\n",
       "      <td>-9.998</td>\n",
       "      <td>0.2180</td>\n",
       "      <td>0.16100</td>\n",
       "      <td>0.000061</td>\n",
       "      <td>0.1520</td>\n",
       "      <td>0.396</td>\n",
       "      <td>140.026</td>\n",
       "      <td>168228</td>\n",
       "      <td>7hU3IHwjX150XLoTVmjD0q</td>\n",
       "      <td>MONEY</td>\n",
       "      <td>LISA</td>\n",
       "      <td>LALISA</td>\n",
       "      <td>7hU3IHwjX150XLoTVmjD0q</td>\n",
       "    </tr>\n",
       "    <tr>\n",
       "      <th>49</th>\n",
       "      <td>0.762</td>\n",
       "      <td>1</td>\n",
       "      <td>0.766</td>\n",
       "      <td>7</td>\n",
       "      <td>-3.955</td>\n",
       "      <td>0.0343</td>\n",
       "      <td>0.00776</td>\n",
       "      <td>0.000070</td>\n",
       "      <td>0.1280</td>\n",
       "      <td>0.442</td>\n",
       "      <td>130.001</td>\n",
       "      <td>287120</td>\n",
       "      <td>5fwSHlTEWpluwOM0Sxnh5k</td>\n",
       "      <td>Pepas</td>\n",
       "      <td>Farruko</td>\n",
       "      <td>Pepas</td>\n",
       "      <td>5fwSHlTEWpluwOM0Sxnh5k</td>\n",
       "    </tr>\n",
       "  </tbody>\n",
       "</table>\n",
       "</div>"
      ],
      "text/plain": [
       "    Danceability  Mode  Energy  Key  Loudness  Speechiness  Acousticness  \\\n",
       "45         0.663     0   0.251    6    -9.870       0.0435       0.88000   \n",
       "46         0.603     1   0.473    5    -7.230       0.0511       0.61600   \n",
       "47         0.783     1   0.750    5    -5.762       0.0780       0.42600   \n",
       "48         0.831     0   0.554    1    -9.998       0.2180       0.16100   \n",
       "49         0.762     1   0.766    7    -3.955       0.0343       0.00776   \n",
       "\n",
       "    Instrumentalness  Liveness  Valence    Tempo  Duration (ms)  \\\n",
       "45          0.000000    0.0932    0.528   90.272         215000   \n",
       "46          0.000000    0.3100    0.446  109.494         175345   \n",
       "47          0.000000    0.2410    0.880   97.953         140665   \n",
       "48          0.000061    0.1520    0.396  140.026         168228   \n",
       "49          0.000070    0.1280    0.442  130.001         287120   \n",
       "\n",
       "                  ID_CHECK               Song name                Artist  \\\n",
       "45  4VtRHZ4tBDHaWltVAytlLY                      Go             Cat Burns   \n",
       "46  5S9Zs5g9lTWnLIboN1pdlU         Fingers Crossed  Lauren Spencer-Smith   \n",
       "47  6Jrdb6CFOJEGaHjaa6c4WR  IDGAF (with blackbear)            BoyWithUke   \n",
       "48  7hU3IHwjX150XLoTVmjD0q                   MONEY                  LISA   \n",
       "49  5fwSHlTEWpluwOM0Sxnh5k                   Pepas               Farruko   \n",
       "\n",
       "              Album                      ID  \n",
       "45               Go  4VtRHZ4tBDHaWltVAytlLY  \n",
       "46  Fingers Crossed  5S9Zs5g9lTWnLIboN1pdlU  \n",
       "47            IDGAF  6Jrdb6CFOJEGaHjaa6c4WR  \n",
       "48           LALISA  7hU3IHwjX150XLoTVmjD0q  \n",
       "49            Pepas  5fwSHlTEWpluwOM0Sxnh5k  "
      ]
     },
     "execution_count": 10,
     "metadata": {},
     "output_type": "execute_result"
    }
   ],
   "source": [
    "analyse_playlist(url_pop, \"pop\")"
   ]
  },
  {
   "cell_type": "code",
   "execution_count": 11,
   "id": "563e9d24",
   "metadata": {
    "scrolled": true
   },
   "outputs": [
    {
     "name": "stderr",
     "output_type": "stream",
     "text": [
      "Couldn't read cache at: .cache\n",
      "Couldn't write token to cache at: .cache\n",
      "Couldn't read cache at: .cache\n",
      "Couldn't write token to cache at: .cache\n",
      "Couldn't read cache at: .cache\n",
      "Couldn't write token to cache at: .cache\n",
      "Couldn't read cache at: .cache\n",
      "Couldn't write token to cache at: .cache\n",
      "Couldn't read cache at: .cache\n",
      "Couldn't write token to cache at: .cache\n",
      "Couldn't read cache at: .cache\n",
      "Couldn't write token to cache at: .cache\n",
      "Couldn't read cache at: .cache\n",
      "Couldn't write token to cache at: .cache\n",
      "Couldn't read cache at: .cache\n",
      "Couldn't write token to cache at: .cache\n",
      "Couldn't read cache at: .cache\n",
      "Couldn't write token to cache at: .cache\n",
      "Couldn't read cache at: .cache\n",
      "Couldn't write token to cache at: .cache\n",
      "Couldn't read cache at: .cache\n",
      "Couldn't write token to cache at: .cache\n",
      "Couldn't read cache at: .cache\n",
      "Couldn't write token to cache at: .cache\n",
      "Couldn't read cache at: .cache\n",
      "Couldn't write token to cache at: .cache\n",
      "Couldn't read cache at: .cache\n",
      "Couldn't write token to cache at: .cache\n",
      "Couldn't read cache at: .cache\n",
      "Couldn't write token to cache at: .cache\n",
      "Couldn't read cache at: .cache\n",
      "Couldn't write token to cache at: .cache\n",
      "Couldn't read cache at: .cache\n",
      "Couldn't write token to cache at: .cache\n",
      "Couldn't read cache at: .cache\n",
      "Couldn't write token to cache at: .cache\n",
      "Couldn't read cache at: .cache\n",
      "Couldn't write token to cache at: .cache\n",
      "Couldn't read cache at: .cache\n",
      "Couldn't write token to cache at: .cache\n",
      "Couldn't read cache at: .cache\n",
      "Couldn't write token to cache at: .cache\n",
      "Couldn't read cache at: .cache\n",
      "Couldn't write token to cache at: .cache\n",
      "Couldn't read cache at: .cache\n",
      "Couldn't write token to cache at: .cache\n",
      "Couldn't read cache at: .cache\n",
      "Couldn't write token to cache at: .cache\n",
      "Couldn't read cache at: .cache\n",
      "Couldn't write token to cache at: .cache\n",
      "Couldn't read cache at: .cache\n",
      "Couldn't write token to cache at: .cache\n",
      "Couldn't read cache at: .cache\n",
      "Couldn't write token to cache at: .cache\n",
      "Couldn't read cache at: .cache\n",
      "Couldn't write token to cache at: .cache\n",
      "Couldn't read cache at: .cache\n",
      "Couldn't write token to cache at: .cache\n",
      "Couldn't read cache at: .cache\n",
      "Couldn't write token to cache at: .cache\n",
      "Couldn't read cache at: .cache\n",
      "Couldn't write token to cache at: .cache\n",
      "Couldn't read cache at: .cache\n",
      "Couldn't write token to cache at: .cache\n",
      "Couldn't read cache at: .cache\n",
      "Couldn't write token to cache at: .cache\n",
      "Couldn't read cache at: .cache\n",
      "Couldn't write token to cache at: .cache\n",
      "Couldn't read cache at: .cache\n",
      "Couldn't write token to cache at: .cache\n",
      "Couldn't read cache at: .cache\n",
      "Couldn't write token to cache at: .cache\n",
      "Couldn't read cache at: .cache\n",
      "Couldn't write token to cache at: .cache\n",
      "Couldn't read cache at: .cache\n",
      "Couldn't write token to cache at: .cache\n",
      "Couldn't read cache at: .cache\n",
      "Couldn't write token to cache at: .cache\n",
      "Couldn't read cache at: .cache\n",
      "Couldn't write token to cache at: .cache\n",
      "Couldn't read cache at: .cache\n",
      "Couldn't write token to cache at: .cache\n",
      "Couldn't read cache at: .cache\n",
      "Couldn't write token to cache at: .cache\n",
      "Couldn't read cache at: .cache\n",
      "Couldn't write token to cache at: .cache\n",
      "Couldn't read cache at: .cache\n",
      "Couldn't write token to cache at: .cache\n",
      "Couldn't read cache at: .cache\n",
      "Couldn't write token to cache at: .cache\n",
      "Couldn't read cache at: .cache\n",
      "Couldn't write token to cache at: .cache\n",
      "Couldn't read cache at: .cache\n",
      "Couldn't write token to cache at: .cache\n",
      "Couldn't read cache at: .cache\n",
      "Couldn't write token to cache at: .cache\n",
      "Couldn't read cache at: .cache\n",
      "Couldn't write token to cache at: .cache\n",
      "Couldn't read cache at: .cache\n",
      "Couldn't write token to cache at: .cache\n",
      "Couldn't read cache at: .cache\n",
      "Couldn't write token to cache at: .cache\n",
      "Couldn't read cache at: .cache\n",
      "Couldn't write token to cache at: .cache\n",
      "Couldn't read cache at: .cache\n",
      "Couldn't write token to cache at: .cache\n",
      "Couldn't read cache at: .cache\n",
      "Couldn't write token to cache at: .cache\n",
      "Couldn't read cache at: .cache\n",
      "Couldn't write token to cache at: .cache\n",
      "Couldn't read cache at: .cache\n",
      "Couldn't write token to cache at: .cache\n",
      "Couldn't read cache at: .cache\n",
      "Couldn't write token to cache at: .cache\n",
      "Couldn't read cache at: .cache\n",
      "Couldn't write token to cache at: .cache\n"
     ]
    },
    {
     "data": {
      "text/html": [
       "<div>\n",
       "<style scoped>\n",
       "    .dataframe tbody tr th:only-of-type {\n",
       "        vertical-align: middle;\n",
       "    }\n",
       "\n",
       "    .dataframe tbody tr th {\n",
       "        vertical-align: top;\n",
       "    }\n",
       "\n",
       "    .dataframe thead th {\n",
       "        text-align: right;\n",
       "    }\n",
       "</style>\n",
       "<table border=\"1\" class=\"dataframe\">\n",
       "  <thead>\n",
       "    <tr style=\"text-align: right;\">\n",
       "      <th></th>\n",
       "      <th>Danceability</th>\n",
       "      <th>Mode</th>\n",
       "      <th>Energy</th>\n",
       "      <th>Key</th>\n",
       "      <th>Loudness</th>\n",
       "      <th>Speechiness</th>\n",
       "      <th>Acousticness</th>\n",
       "      <th>Instrumentalness</th>\n",
       "      <th>Liveness</th>\n",
       "      <th>Valence</th>\n",
       "      <th>Tempo</th>\n",
       "      <th>Duration (ms)</th>\n",
       "      <th>ID_CHECK</th>\n",
       "      <th>Song name</th>\n",
       "      <th>Artist</th>\n",
       "      <th>Album</th>\n",
       "      <th>ID</th>\n",
       "    </tr>\n",
       "  </thead>\n",
       "  <tbody>\n",
       "    <tr>\n",
       "      <th>45</th>\n",
       "      <td>0.625</td>\n",
       "      <td>1</td>\n",
       "      <td>0.542</td>\n",
       "      <td>9</td>\n",
       "      <td>-4.365</td>\n",
       "      <td>0.2660</td>\n",
       "      <td>0.0223</td>\n",
       "      <td>0.000000</td>\n",
       "      <td>0.3770</td>\n",
       "      <td>0.328</td>\n",
       "      <td>152.403</td>\n",
       "      <td>209315</td>\n",
       "      <td>5QNW6Vx14N4OfJ7D0eDg0d</td>\n",
       "      <td>Neck &amp; Wrist (feat. JAY-Z &amp; Pharrell)</td>\n",
       "      <td>Pusha T</td>\n",
       "      <td>Neck &amp; Wrist</td>\n",
       "      <td>5QNW6Vx14N4OfJ7D0eDg0d</td>\n",
       "    </tr>\n",
       "    <tr>\n",
       "      <th>46</th>\n",
       "      <td>0.708</td>\n",
       "      <td>1</td>\n",
       "      <td>0.830</td>\n",
       "      <td>7</td>\n",
       "      <td>-5.676</td>\n",
       "      <td>0.2820</td>\n",
       "      <td>0.3560</td>\n",
       "      <td>0.000000</td>\n",
       "      <td>0.7490</td>\n",
       "      <td>0.595</td>\n",
       "      <td>118.495</td>\n",
       "      <td>309323</td>\n",
       "      <td>1BzXvBpIFWJgu0P8P6xmP4</td>\n",
       "      <td>Stick (with JID &amp; J. Cole feat. Kenny Mason &amp; ...</td>\n",
       "      <td>Dreamville</td>\n",
       "      <td>D-Day: A Gangsta Grillz Mixtape</td>\n",
       "      <td>1BzXvBpIFWJgu0P8P6xmP4</td>\n",
       "    </tr>\n",
       "    <tr>\n",
       "      <th>47</th>\n",
       "      <td>0.660</td>\n",
       "      <td>1</td>\n",
       "      <td>0.831</td>\n",
       "      <td>6</td>\n",
       "      <td>-5.356</td>\n",
       "      <td>0.0460</td>\n",
       "      <td>0.1740</td>\n",
       "      <td>0.000001</td>\n",
       "      <td>0.1630</td>\n",
       "      <td>0.615</td>\n",
       "      <td>82.985</td>\n",
       "      <td>193800</td>\n",
       "      <td>3hdaeIlrACjMK5FnahqrLG</td>\n",
       "      <td>Soccer Dad</td>\n",
       "      <td>ScHoolboy Q</td>\n",
       "      <td>Soccer Dad</td>\n",
       "      <td>3hdaeIlrACjMK5FnahqrLG</td>\n",
       "    </tr>\n",
       "    <tr>\n",
       "      <th>48</th>\n",
       "      <td>0.790</td>\n",
       "      <td>0</td>\n",
       "      <td>0.576</td>\n",
       "      <td>10</td>\n",
       "      <td>-6.991</td>\n",
       "      <td>0.0923</td>\n",
       "      <td>0.2720</td>\n",
       "      <td>0.000000</td>\n",
       "      <td>0.0925</td>\n",
       "      <td>0.574</td>\n",
       "      <td>103.011</td>\n",
       "      <td>179674</td>\n",
       "      <td>5Z3mR4zAX4K3krt4JAOpmx</td>\n",
       "      <td>LEMONADE</td>\n",
       "      <td>Vince Staples</td>\n",
       "      <td>RAMONA PARK BROKE MY HEART</td>\n",
       "      <td>5Z3mR4zAX4K3krt4JAOpmx</td>\n",
       "    </tr>\n",
       "    <tr>\n",
       "      <th>49</th>\n",
       "      <td>0.890</td>\n",
       "      <td>0</td>\n",
       "      <td>0.719</td>\n",
       "      <td>1</td>\n",
       "      <td>-8.243</td>\n",
       "      <td>0.2700</td>\n",
       "      <td>0.6510</td>\n",
       "      <td>0.000000</td>\n",
       "      <td>0.2000</td>\n",
       "      <td>0.850</td>\n",
       "      <td>112.990</td>\n",
       "      <td>135929</td>\n",
       "      <td>0aRdS1yGIgzIMhpVYHkp6l</td>\n",
       "      <td>Lifetime</td>\n",
       "      <td>Tyga</td>\n",
       "      <td>Lifetime</td>\n",
       "      <td>0aRdS1yGIgzIMhpVYHkp6l</td>\n",
       "    </tr>\n",
       "  </tbody>\n",
       "</table>\n",
       "</div>"
      ],
      "text/plain": [
       "    Danceability  Mode  Energy  Key  Loudness  Speechiness  Acousticness  \\\n",
       "45         0.625     1   0.542    9    -4.365       0.2660        0.0223   \n",
       "46         0.708     1   0.830    7    -5.676       0.2820        0.3560   \n",
       "47         0.660     1   0.831    6    -5.356       0.0460        0.1740   \n",
       "48         0.790     0   0.576   10    -6.991       0.0923        0.2720   \n",
       "49         0.890     0   0.719    1    -8.243       0.2700        0.6510   \n",
       "\n",
       "    Instrumentalness  Liveness  Valence    Tempo  Duration (ms)  \\\n",
       "45          0.000000    0.3770    0.328  152.403         209315   \n",
       "46          0.000000    0.7490    0.595  118.495         309323   \n",
       "47          0.000001    0.1630    0.615   82.985         193800   \n",
       "48          0.000000    0.0925    0.574  103.011         179674   \n",
       "49          0.000000    0.2000    0.850  112.990         135929   \n",
       "\n",
       "                  ID_CHECK                                          Song name  \\\n",
       "45  5QNW6Vx14N4OfJ7D0eDg0d              Neck & Wrist (feat. JAY-Z & Pharrell)   \n",
       "46  1BzXvBpIFWJgu0P8P6xmP4  Stick (with JID & J. Cole feat. Kenny Mason & ...   \n",
       "47  3hdaeIlrACjMK5FnahqrLG                                         Soccer Dad   \n",
       "48  5Z3mR4zAX4K3krt4JAOpmx                                           LEMONADE   \n",
       "49  0aRdS1yGIgzIMhpVYHkp6l                                           Lifetime   \n",
       "\n",
       "           Artist                            Album                      ID  \n",
       "45        Pusha T                     Neck & Wrist  5QNW6Vx14N4OfJ7D0eDg0d  \n",
       "46     Dreamville  D-Day: A Gangsta Grillz Mixtape  1BzXvBpIFWJgu0P8P6xmP4  \n",
       "47    ScHoolboy Q                       Soccer Dad  3hdaeIlrACjMK5FnahqrLG  \n",
       "48  Vince Staples       RAMONA PARK BROKE MY HEART  5Z3mR4zAX4K3krt4JAOpmx  \n",
       "49           Tyga                         Lifetime  0aRdS1yGIgzIMhpVYHkp6l  "
      ]
     },
     "execution_count": 11,
     "metadata": {},
     "output_type": "execute_result"
    }
   ],
   "source": [
    "analyse_playlist(url_rnb, \"rnb\")"
   ]
  },
  {
   "cell_type": "markdown",
   "id": "be3390e2",
   "metadata": {},
   "source": [
    "## Data Visualization"
   ]
  },
  {
   "cell_type": "markdown",
   "id": "a4227d57",
   "metadata": {},
   "source": [
    "### Histograms"
   ]
  },
  {
   "cell_type": "code",
   "execution_count": 4,
   "id": "35bcf718",
   "metadata": {},
   "outputs": [],
   "source": [
    "def plot_figures(excel_file, colour):\n",
    "    \"\"\"Takes data from an excel file and plots histogram in subplots\"\"\"\n",
    "\n",
    "    # Read excel file and put into DataFrame\n",
    "\n",
    "    df = pd.read_excel(excel_file, index_col=0)\n",
    "\n",
    "    # Initiate plot\n",
    "    \n",
    "    plt.figure(1,figsize=(30,25))\n",
    "    \n",
    "    # Create subplots for each column in the excel file\n",
    "\n",
    "    plt.subplot(4,3,1)\n",
    "    sns.distplot(df[\"Danceability\"], color=colour)\n",
    "\n",
    "    plt.subplot(4,3,2)\n",
    "    sns.distplot(df[\"Energy\"], color=colour)\n",
    "\n",
    "    plt.subplot(4,3,3)\n",
    "    sns.distplot(df[\"Tempo\"], color=colour)\n",
    "\n",
    "    plt.subplot(4,3,4)\n",
    "    sns.distplot(df[\"Loudness\"], color=colour)\n",
    "\n",
    "    plt.subplot(4,3,5)\n",
    "    sns.distplot(df[\"Speechiness\"], color=colour)\n",
    "\n",
    "    plt.subplot(4,3,6)\n",
    "    sns.distplot(df[\"Acousticness\"], color=colour)\n",
    "\n",
    "    plt.subplot(4,3,7)\n",
    "    sns.distplot(df[\"Instrumentalness\"], color=colour)\n",
    "\n",
    "    plt.subplot(4,3,8)\n",
    "    sns.distplot(df[\"Liveness\"], color=colour)\n",
    "\n",
    "    plt.subplot(4,3,9)\n",
    "    sns.distplot(df[\"Valence\"], color=colour)\n",
    "\n",
    "    plt.subplot(4,3,10)\n",
    "    sns.distplot(df[\"Duration (ms)\"], color=colour)\n",
    "\n",
    "    plt.subplot(4,3,11)\n",
    "    sns.distplot(df[\"Key\"], color=colour)\n",
    "\n",
    "    plt.subplot(4,3,12)\n",
    "    sns.distplot(df[\"Mode\"], color=colour)\n",
    "\n"
   ]
  },
  {
   "cell_type": "code",
   "execution_count": 5,
   "id": "9fb5a7b1",
   "metadata": {
    "scrolled": true
   },
   "outputs": [
    {
     "name": "stderr",
     "output_type": "stream",
     "text": [
      "C:\\Users\\hseit\\anaconda3\\lib\\site-packages\\seaborn\\distributions.py:2557: FutureWarning: `distplot` is a deprecated function and will be removed in a future version. Please adapt your code to use either `displot` (a figure-level function with similar flexibility) or `histplot` (an axes-level function for histograms).\n",
      "  warnings.warn(msg, FutureWarning)\n",
      "C:\\Users\\hseit\\anaconda3\\lib\\site-packages\\seaborn\\distributions.py:2557: FutureWarning: `distplot` is a deprecated function and will be removed in a future version. Please adapt your code to use either `displot` (a figure-level function with similar flexibility) or `histplot` (an axes-level function for histograms).\n",
      "  warnings.warn(msg, FutureWarning)\n",
      "C:\\Users\\hseit\\anaconda3\\lib\\site-packages\\seaborn\\distributions.py:2557: FutureWarning: `distplot` is a deprecated function and will be removed in a future version. Please adapt your code to use either `displot` (a figure-level function with similar flexibility) or `histplot` (an axes-level function for histograms).\n",
      "  warnings.warn(msg, FutureWarning)\n",
      "C:\\Users\\hseit\\anaconda3\\lib\\site-packages\\seaborn\\distributions.py:2557: FutureWarning: `distplot` is a deprecated function and will be removed in a future version. Please adapt your code to use either `displot` (a figure-level function with similar flexibility) or `histplot` (an axes-level function for histograms).\n",
      "  warnings.warn(msg, FutureWarning)\n",
      "C:\\Users\\hseit\\anaconda3\\lib\\site-packages\\seaborn\\distributions.py:2557: FutureWarning: `distplot` is a deprecated function and will be removed in a future version. Please adapt your code to use either `displot` (a figure-level function with similar flexibility) or `histplot` (an axes-level function for histograms).\n",
      "  warnings.warn(msg, FutureWarning)\n",
      "C:\\Users\\hseit\\anaconda3\\lib\\site-packages\\seaborn\\distributions.py:2557: FutureWarning: `distplot` is a deprecated function and will be removed in a future version. Please adapt your code to use either `displot` (a figure-level function with similar flexibility) or `histplot` (an axes-level function for histograms).\n",
      "  warnings.warn(msg, FutureWarning)\n",
      "C:\\Users\\hseit\\anaconda3\\lib\\site-packages\\seaborn\\distributions.py:2557: FutureWarning: `distplot` is a deprecated function and will be removed in a future version. Please adapt your code to use either `displot` (a figure-level function with similar flexibility) or `histplot` (an axes-level function for histograms).\n",
      "  warnings.warn(msg, FutureWarning)\n",
      "C:\\Users\\hseit\\anaconda3\\lib\\site-packages\\seaborn\\distributions.py:2557: FutureWarning: `distplot` is a deprecated function and will be removed in a future version. Please adapt your code to use either `displot` (a figure-level function with similar flexibility) or `histplot` (an axes-level function for histograms).\n",
      "  warnings.warn(msg, FutureWarning)\n",
      "C:\\Users\\hseit\\anaconda3\\lib\\site-packages\\seaborn\\distributions.py:2557: FutureWarning: `distplot` is a deprecated function and will be removed in a future version. Please adapt your code to use either `displot` (a figure-level function with similar flexibility) or `histplot` (an axes-level function for histograms).\n",
      "  warnings.warn(msg, FutureWarning)\n",
      "C:\\Users\\hseit\\anaconda3\\lib\\site-packages\\seaborn\\distributions.py:2557: FutureWarning: `distplot` is a deprecated function and will be removed in a future version. Please adapt your code to use either `displot` (a figure-level function with similar flexibility) or `histplot` (an axes-level function for histograms).\n",
      "  warnings.warn(msg, FutureWarning)\n",
      "C:\\Users\\hseit\\anaconda3\\lib\\site-packages\\seaborn\\distributions.py:2557: FutureWarning: `distplot` is a deprecated function and will be removed in a future version. Please adapt your code to use either `displot` (a figure-level function with similar flexibility) or `histplot` (an axes-level function for histograms).\n",
      "  warnings.warn(msg, FutureWarning)\n",
      "C:\\Users\\hseit\\anaconda3\\lib\\site-packages\\seaborn\\distributions.py:2557: FutureWarning: `distplot` is a deprecated function and will be removed in a future version. Please adapt your code to use either `displot` (a figure-level function with similar flexibility) or `histplot` (an axes-level function for histograms).\n",
      "  warnings.warn(msg, FutureWarning)\n"
     ]
    },
    {
     "data": {
      "image/png": "[encoded data removed]",
      "text/plain": [
       "<Figure size 2160x1800 with 12 Axes>"
      ]
     },
     "metadata": {
      "needs_background": "light"
     },
     "output_type": "display_data"
    }
   ],
   "source": [
    "plot_figures(\"filepop.xlsx\", colour=\"darkcyan\")"
   ]
  },
  {
   "cell_type": "code",
   "execution_count": 6,
   "id": "74733f31",
   "metadata": {
    "scrolled": true
   },
   "outputs": [
    {
     "name": "stderr",
     "output_type": "stream",
     "text": [
      "C:\\Users\\hseit\\anaconda3\\lib\\site-packages\\seaborn\\distributions.py:2557: FutureWarning: `distplot` is a deprecated function and will be removed in a future version. Please adapt your code to use either `displot` (a figure-level function with similar flexibility) or `histplot` (an axes-level function for histograms).\n",
      "  warnings.warn(msg, FutureWarning)\n",
      "C:\\Users\\hseit\\anaconda3\\lib\\site-packages\\seaborn\\distributions.py:2557: FutureWarning: `distplot` is a deprecated function and will be removed in a future version. Please adapt your code to use either `displot` (a figure-level function with similar flexibility) or `histplot` (an axes-level function for histograms).\n",
      "  warnings.warn(msg, FutureWarning)\n",
      "C:\\Users\\hseit\\anaconda3\\lib\\site-packages\\seaborn\\distributions.py:2557: FutureWarning: `distplot` is a deprecated function and will be removed in a future version. Please adapt your code to use either `displot` (a figure-level function with similar flexibility) or `histplot` (an axes-level function for histograms).\n",
      "  warnings.warn(msg, FutureWarning)\n",
      "C:\\Users\\hseit\\anaconda3\\lib\\site-packages\\seaborn\\distributions.py:2557: FutureWarning: `distplot` is a deprecated function and will be removed in a future version. Please adapt your code to use either `displot` (a figure-level function with similar flexibility) or `histplot` (an axes-level function for histograms).\n",
      "  warnings.warn(msg, FutureWarning)\n",
      "C:\\Users\\hseit\\anaconda3\\lib\\site-packages\\seaborn\\distributions.py:2557: FutureWarning: `distplot` is a deprecated function and will be removed in a future version. Please adapt your code to use either `displot` (a figure-level function with similar flexibility) or `histplot` (an axes-level function for histograms).\n",
      "  warnings.warn(msg, FutureWarning)\n",
      "C:\\Users\\hseit\\anaconda3\\lib\\site-packages\\seaborn\\distributions.py:2557: FutureWarning: `distplot` is a deprecated function and will be removed in a future version. Please adapt your code to use either `displot` (a figure-level function with similar flexibility) or `histplot` (an axes-level function for histograms).\n",
      "  warnings.warn(msg, FutureWarning)\n",
      "C:\\Users\\hseit\\anaconda3\\lib\\site-packages\\seaborn\\distributions.py:2557: FutureWarning: `distplot` is a deprecated function and will be removed in a future version. Please adapt your code to use either `displot` (a figure-level function with similar flexibility) or `histplot` (an axes-level function for histograms).\n",
      "  warnings.warn(msg, FutureWarning)\n",
      "C:\\Users\\hseit\\anaconda3\\lib\\site-packages\\seaborn\\distributions.py:2557: FutureWarning: `distplot` is a deprecated function and will be removed in a future version. Please adapt your code to use either `displot` (a figure-level function with similar flexibility) or `histplot` (an axes-level function for histograms).\n",
      "  warnings.warn(msg, FutureWarning)\n",
      "C:\\Users\\hseit\\anaconda3\\lib\\site-packages\\seaborn\\distributions.py:2557: FutureWarning: `distplot` is a deprecated function and will be removed in a future version. Please adapt your code to use either `displot` (a figure-level function with similar flexibility) or `histplot` (an axes-level function for histograms).\n",
      "  warnings.warn(msg, FutureWarning)\n",
      "C:\\Users\\hseit\\anaconda3\\lib\\site-packages\\seaborn\\distributions.py:2557: FutureWarning: `distplot` is a deprecated function and will be removed in a future version. Please adapt your code to use either `displot` (a figure-level function with similar flexibility) or `histplot` (an axes-level function for histograms).\n",
      "  warnings.warn(msg, FutureWarning)\n",
      "C:\\Users\\hseit\\anaconda3\\lib\\site-packages\\seaborn\\distributions.py:2557: FutureWarning: `distplot` is a deprecated function and will be removed in a future version. Please adapt your code to use either `displot` (a figure-level function with similar flexibility) or `histplot` (an axes-level function for histograms).\n",
      "  warnings.warn(msg, FutureWarning)\n",
      "C:\\Users\\hseit\\anaconda3\\lib\\site-packages\\seaborn\\distributions.py:2557: FutureWarning: `distplot` is a deprecated function and will be removed in a future version. Please adapt your code to use either `displot` (a figure-level function with similar flexibility) or `histplot` (an axes-level function for histograms).\n",
      "  warnings.warn(msg, FutureWarning)\n"
     ]
    },
    {
     "data": {
      "image/png": "[encoded data removed]",
      "text/plain": [
       "<Figure size 2160x1800 with 12 Axes>"
      ]
     },
     "metadata": {
      "needs_background": "light"
     },
     "output_type": "display_data"
    }
   ],
   "source": [
    "plot_figures(\"filernb.xlsx\",colour=\"crimson\")"
   ]
  },
  {
   "cell_type": "markdown",
   "id": "6bf5bcc7",
   "metadata": {},
   "source": [
    "### Radar Charts"
   ]
  },
  {
   "cell_type": "code",
   "execution_count": 18,
   "id": "ad835dec",
   "metadata": {},
   "outputs": [],
   "source": [
    "def plot_radar_chart(excel_file):\n",
    "    \"\"\"Takes data from excel file and scales the values so that they all lie between zero and 1.\n",
    "    Then plots a radar chart.\"\"\"\n",
    "\n",
    "    df = pd.read_excel(excel_file, index_col = 0)\n",
    "    #or df = pd.read_excel(excel_file)\n",
    "    \n",
    "    # Get the specific columns\n",
    "    radar = df.loc[:,\"Danceability\":\"Duration (ms)\"]\n",
    "\n",
    "    # Create another df for our altered values (scale all values between 0 and 1)\n",
    "    df_z = radar\n",
    "    df_z[\"Key\"] = (df[\"Key\"] / df[\"Key\"].max())\n",
    "    df_z[\"Duration (ms)\"] = (df[\"Duration (ms)\"] / df[\"Duration (ms)\"].max())\n",
    "    df_z[\"Tempo\"] = (df[\"Tempo\"] / df[\"Tempo\"].max())\n",
    "    df_z[\"Loudness\"] = (df[\"Loudness\"] / df[\"Loudness\"].min())\n",
    "\n",
    "    # Prepare data for plotting with plotly.express\n",
    "    labels = list(df_z.columns)\n",
    "\n",
    "    values = df_z.mean().values\n",
    "\n",
    "    df_radar = pd.DataFrame(dict(r=values, theta=labels))\n",
    "\n",
    "    fig = px.line_polar(df_radar, r=\"r\", theta=\"theta\", line_close=True)\n",
    "\n",
    "    fig.update_traces(fill=\"toself\")\n",
    "    fig.show()\n",
    "    return df_radar"
   ]
  },
  {
   "cell_type": "code",
   "execution_count": 74,
   "id": "7d8c59c4",
   "metadata": {
    "scrolled": false
   },
   "outputs": [
    {
     "data": {
      "application/vnd.plotly.v1+json": {
       "config": {
        "plotlyServerURL": "https://plotly.com"
       },
       "data": [
        {
         "fill": "toself",
         "hovertemplate": "r=%{r}<br>theta=%{theta}<extra></extra>",
         "legendgroup": "",
         "line": {
          "color": "#636efa",
          "dash": "solid"
         },
         "marker": {
          "symbol": "circle"
         },
         "mode": "lines",
         "name": "",
         "r": [
          0.6813000000000001,
          0.5,
          0.6501800000000002,
          0.4109090909090908,
          0.5189910275943794,
          0.097016,
          0.19725060000000003,
          0.0003638672,
          0.16122,
          0.517078,
          0.6893342378867909,
          0.6560707718027305,
          0.6813000000000001
         ],
         "showlegend": false,
         "subplot": "polar",
         "theta": [
          "Danceability",
          "Mode",
          "Energy",
          "Key",
          "Loudness",
          "Speechiness",
          "Acousticness",
          "Instrumentalness",
          "Liveness",
          "Valence",
          "Tempo",
          "Duration (ms)",
          "Danceability"
         ],
         "type": "scatterpolar"
        }
       ],
       "layout": {
        "legend": {
         "tracegroupgap": 0
        },
        "margin": {
         "t": 60
        },
        "polar": {
         "angularaxis": {
          "direction": "clockwise",
          "rotation": 90
         },
         "domain": {
          "x": [
           0,
           1
          ],
          "y": [
           0,
           1
          ]
         }
        },
        "template": {
         "data": {
          "bar": [
           {
            "error_x": {
             "color": "#2a3f5f"
            },
            "error_y": {
             "color": "#2a3f5f"
            },
            "marker": {
             "line": {
              "color": "#E5ECF6",
              "width": 0.5
             },
             "pattern": {
              "fillmode": "overlay",
              "size": 10,
              "solidity": 0.2
             }
            },
            "type": "bar"
           }
          ],
          "barpolar": [
           {
            "marker": {
             "line": {
              "color": "#E5ECF6",
              "width": 0.5
             },
             "pattern": {
              "fillmode": "overlay",
              "size": 10,
              "solidity": 0.2
             }
            },
            "type": "barpolar"
           }
          ],
          "carpet": [
           {
            "aaxis": {
             "endlinecolor": "#2a3f5f",
             "gridcolor": "white",
             "linecolor": "white",
             "minorgridcolor": "white",
             "startlinecolor": "#2a3f5f"
            },
            "baxis": {
             "endlinecolor": "#2a3f5f",
             "gridcolor": "white",
             "linecolor": "white",
             "minorgridcolor": "white",
             "startlinecolor": "#2a3f5f"
            },
            "type": "carpet"
           }
          ],
          "choropleth": [
           {
            "colorbar": {
             "outlinewidth": 0,
             "ticks": ""
            },
            "type": "choropleth"
           }
          ],
          "contour": [
           {
            "colorbar": {
             "outlinewidth": 0,
             "ticks": ""
            },
            "colorscale": [
             [
              0,
              "#0d0887"
             ],
             [
              0.1111111111111111,
              "#46039f"
             ],
             [
              0.2222222222222222,
              "#7201a8"
             ],
             [
              0.3333333333333333,
              "#9c179e"
             ],
             [
              0.4444444444444444,
              "#bd3786"
             ],
             [
              0.5555555555555556,
              "#d8576b"
             ],
             [
              0.6666666666666666,
              "#ed7953"
             ],
             [
              0.7777777777777778,
              "#fb9f3a"
             ],
             [
              0.8888888888888888,
              "#fdca26"
             ],
             [
              1,
              "#f0f921"
             ]
            ],
            "type": "contour"
           }
          ],
          "contourcarpet": [
           {
            "colorbar": {
             "outlinewidth": 0,
             "ticks": ""
            },
            "type": "contourcarpet"
           }
          ],
          "heatmap": [
           {
            "colorbar": {
             "outlinewidth": 0,
             "ticks": ""
            },
            "colorscale": [
             [
              0,
              "#0d0887"
             ],
             [
              0.1111111111111111,
              "#46039f"
             ],
             [
              0.2222222222222222,
              "#7201a8"
             ],
             [
              0.3333333333333333,
              "#9c179e"
             ],
             [
              0.4444444444444444,
              "#bd3786"
             ],
             [
              0.5555555555555556,
              "#d8576b"
             ],
             [
              0.6666666666666666,
              "#ed7953"
             ],
             [
              0.7777777777777778,
              "#fb9f3a"
             ],
             [
              0.8888888888888888,
              "#fdca26"
             ],
             [
              1,
              "#f0f921"
             ]
            ],
            "type": "heatmap"
           }
          ],
          "heatmapgl": [
           {
            "colorbar": {
             "outlinewidth": 0,
             "ticks": ""
            },
            "colorscale": [
             [
              0,
              "#0d0887"
             ],
             [
              0.1111111111111111,
              "#46039f"
             ],
             [
              0.2222222222222222,
              "#7201a8"
             ],
             [
              0.3333333333333333,
              "#9c179e"
             ],
             [
              0.4444444444444444,
              "#bd3786"
             ],
             [
              0.5555555555555556,
              "#d8576b"
             ],
             [
              0.6666666666666666,
              "#ed7953"
             ],
             [
              0.7777777777777778,
              "#fb9f3a"
             ],
             [
              0.8888888888888888,
              "#fdca26"
             ],
             [
              1,
              "#f0f921"
             ]
            ],
            "type": "heatmapgl"
           }
          ],
          "histogram": [
           {
            "marker": {
             "pattern": {
              "fillmode": "overlay",
              "size": 10,
              "solidity": 0.2
             }
            },
            "type": "histogram"
           }
          ],
          "histogram2d": [
           {
            "colorbar": {
             "outlinewidth": 0,
             "ticks": ""
            },
            "colorscale": [
             [
              0,
              "#0d0887"
             ],
             [
              0.1111111111111111,
              "#46039f"
             ],
             [
              0.2222222222222222,
              "#7201a8"
             ],
             [
              0.3333333333333333,
              "#9c179e"
             ],
             [
              0.4444444444444444,
              "#bd3786"
             ],
             [
              0.5555555555555556,
              "#d8576b"
             ],
             [
              0.6666666666666666,
              "#ed7953"
             ],
             [
              0.7777777777777778,
              "#fb9f3a"
             ],
             [
              0.8888888888888888,
              "#fdca26"
             ],
             [
              1,
              "#f0f921"
             ]
            ],
            "type": "histogram2d"
           }
          ],
          "histogram2dcontour": [
           {
            "colorbar": {
             "outlinewidth": 0,
             "ticks": ""
            },
            "colorscale": [
             [
              0,
              "#0d0887"
             ],
             [
              0.1111111111111111,
              "#46039f"
             ],
             [
              0.2222222222222222,
              "#7201a8"
             ],
             [
              0.3333333333333333,
              "#9c179e"
             ],
             [
              0.4444444444444444,
              "#bd3786"
             ],
             [
              0.5555555555555556,
              "#d8576b"
             ],
             [
              0.6666666666666666,
              "#ed7953"
             ],
             [
              0.7777777777777778,
              "#fb9f3a"
             ],
             [
              0.8888888888888888,
              "#fdca26"
             ],
             [
              1,
              "#f0f921"
             ]
            ],
            "type": "histogram2dcontour"
           }
          ],
          "mesh3d": [
           {
            "colorbar": {
             "outlinewidth": 0,
             "ticks": ""
            },
            "type": "mesh3d"
           }
          ],
          "parcoords": [
           {
            "line": {
             "colorbar": {
              "outlinewidth": 0,
              "ticks": ""
             }
            },
            "type": "parcoords"
           }
          ],
          "pie": [
           {
            "automargin": true,
            "type": "pie"
           }
          ],
          "scatter": [
           {
            "fillpattern": {
             "fillmode": "overlay",
             "size": 10,
             "solidity": 0.2
            },
            "type": "scatter"
           }
          ],
          "scatter3d": [
           {
            "line": {
             "colorbar": {
              "outlinewidth": 0,
              "ticks": ""
             }
            },
            "marker": {
             "colorbar": {
              "outlinewidth": 0,
              "ticks": ""
             }
            },
            "type": "scatter3d"
           }
          ],
          "scattercarpet": [
           {
            "marker": {
             "colorbar": {
              "outlinewidth": 0,
              "ticks": ""
             }
            },
            "type": "scattercarpet"
           }
          ],
          "scattergeo": [
           {
            "marker": {
             "colorbar": {
              "outlinewidth": 0,
              "ticks": ""
             }
            },
            "type": "scattergeo"
           }
          ],
          "scattergl": [
           {
            "marker": {
             "colorbar": {
              "outlinewidth": 0,
              "ticks": ""
             }
            },
            "type": "scattergl"
           }
          ],
          "scattermapbox": [
           {
            "marker": {
             "colorbar": {
              "outlinewidth": 0,
              "ticks": ""
             }
            },
            "type": "scattermapbox"
           }
          ],
          "scatterpolar": [
           {
            "marker": {
             "colorbar": {
              "outlinewidth": 0,
              "ticks": ""
             }
            },
            "type": "scatterpolar"
           }
          ],
          "scatterpolargl": [
           {
            "marker": {
             "colorbar": {
              "outlinewidth": 0,
              "ticks": ""
             }
            },
            "type": "scatterpolargl"
           }
          ],
          "scatterternary": [
           {
            "marker": {
             "colorbar": {
              "outlinewidth": 0,
              "ticks": ""
             }
            },
            "type": "scatterternary"
           }
          ],
          "surface": [
           {
            "colorbar": {
             "outlinewidth": 0,
             "ticks": ""
            },
            "colorscale": [
             [
              0,
              "#0d0887"
             ],
             [
              0.1111111111111111,
              "#46039f"
             ],
             [
              0.2222222222222222,
              "#7201a8"
             ],
             [
              0.3333333333333333,
              "#9c179e"
             ],
             [
              0.4444444444444444,
              "#bd3786"
             ],
             [
              0.5555555555555556,
              "#d8576b"
             ],
             [
              0.6666666666666666,
              "#ed7953"
             ],
             [
              0.7777777777777778,
              "#fb9f3a"
             ],
             [
              0.8888888888888888,
              "#fdca26"
             ],
             [
              1,
              "#f0f921"
             ]
            ],
            "type": "surface"
           }
          ],
          "table": [
           {
            "cells": {
             "fill": {
              "color": "#EBF0F8"
             },
             "line": {
              "color": "white"
             }
            },
            "header": {
             "fill": {
              "color": "#C8D4E3"
             },
             "line": {
              "color": "white"
             }
            },
            "type": "table"
           }
          ]
         },
         "layout": {
          "annotationdefaults": {
           "arrowcolor": "#2a3f5f",
           "arrowhead": 0,
           "arrowwidth": 1
          },
          "autotypenumbers": "strict",
          "coloraxis": {
           "colorbar": {
            "outlinewidth": 0,
            "ticks": ""
           }
          },
          "colorscale": {
           "diverging": [
            [
             0,
             "#8e0152"
            ],
            [
             0.1,
             "#c51b7d"
            ],
            [
             0.2,
             "#de77ae"
            ],
            [
             0.3,
             "#f1b6da"
            ],
            [
             0.4,
             "#fde0ef"
            ],
            [
             0.5,
             "#f7f7f7"
            ],
            [
             0.6,
             "#e6f5d0"
            ],
            [
             0.7,
             "#b8e186"
            ],
            [
             0.8,
             "#7fbc41"
            ],
            [
             0.9,
             "#4d9221"
            ],
            [
             1,
             "#276419"
            ]
           ],
           "sequential": [
            [
             0,
             "#0d0887"
            ],
            [
             0.1111111111111111,
             "#46039f"
            ],
            [
             0.2222222222222222,
             "#7201a8"
            ],
            [
             0.3333333333333333,
             "#9c179e"
            ],
            [
             0.4444444444444444,
             "#bd3786"
            ],
            [
             0.5555555555555556,
             "#d8576b"
            ],
            [
             0.6666666666666666,
             "#ed7953"
            ],
            [
             0.7777777777777778,
             "#fb9f3a"
            ],
            [
             0.8888888888888888,
             "#fdca26"
            ],
            [
             1,
             "#f0f921"
            ]
           ],
           "sequentialminus": [
            [
             0,
             "#0d0887"
            ],
            [
             0.1111111111111111,
             "#46039f"
            ],
            [
             0.2222222222222222,
             "#7201a8"
            ],
            [
             0.3333333333333333,
             "#9c179e"
            ],
            [
             0.4444444444444444,
             "#bd3786"
            ],
            [
             0.5555555555555556,
             "#d8576b"
            ],
            [
             0.6666666666666666,
             "#ed7953"
            ],
            [
             0.7777777777777778,
             "#fb9f3a"
            ],
            [
             0.8888888888888888,
             "#fdca26"
            ],
            [
             1,
             "#f0f921"
            ]
           ]
          },
          "colorway": [
           "#636efa",
           "#EF553B",
           "#00cc96",
           "#ab63fa",
           "#FFA15A",
           "#19d3f3",
           "#FF6692",
           "#B6E880",
           "#FF97FF",
           "#FECB52"
          ],
          "font": {
           "color": "#2a3f5f"
          },
          "geo": {
           "bgcolor": "white",
           "lakecolor": "white",
           "landcolor": "#E5ECF6",
           "showlakes": true,
           "showland": true,
           "subunitcolor": "white"
          },
          "hoverlabel": {
           "align": "left"
          },
          "hovermode": "closest",
          "mapbox": {
           "style": "light"
          },
          "paper_bgcolor": "white",
          "plot_bgcolor": "#E5ECF6",
          "polar": {
           "angularaxis": {
            "gridcolor": "white",
            "linecolor": "white",
            "ticks": ""
           },
           "bgcolor": "#E5ECF6",
           "radialaxis": {
            "gridcolor": "white",
            "linecolor": "white",
            "ticks": ""
           }
          },
          "scene": {
           "xaxis": {
            "backgroundcolor": "#E5ECF6",
            "gridcolor": "white",
            "gridwidth": 2,
            "linecolor": "white",
            "showbackground": true,
            "ticks": "",
            "zerolinecolor": "white"
           },
           "yaxis": {
            "backgroundcolor": "#E5ECF6",
            "gridcolor": "white",
            "gridwidth": 2,
            "linecolor": "white",
            "showbackground": true,
            "ticks": "",
            "zerolinecolor": "white"
           },
           "zaxis": {
            "backgroundcolor": "#E5ECF6",
            "gridcolor": "white",
            "gridwidth": 2,
            "linecolor": "white",
            "showbackground": true,
            "ticks": "",
            "zerolinecolor": "white"
           }
          },
          "shapedefaults": {
           "line": {
            "color": "#2a3f5f"
           }
          },
          "ternary": {
           "aaxis": {
            "gridcolor": "white",
            "linecolor": "white",
            "ticks": ""
           },
           "baxis": {
            "gridcolor": "white",
            "linecolor": "white",
            "ticks": ""
           },
           "bgcolor": "#E5ECF6",
           "caxis": {
            "gridcolor": "white",
            "linecolor": "white",
            "ticks": ""
           }
          },
          "title": {
           "x": 0.05
          },
          "xaxis": {
           "automargin": true,
           "gridcolor": "white",
           "linecolor": "white",
           "ticks": "",
           "title": {
            "standoff": 15
           },
           "zerolinecolor": "white",
           "zerolinewidth": 2
          },
          "yaxis": {
           "automargin": true,
           "gridcolor": "white",
           "linecolor": "white",
           "ticks": "",
           "title": {
            "standoff": 15
           },
           "zerolinecolor": "white",
           "zerolinewidth": 2
          }
         }
        }
       }
      },
      "text/html": [
       "<div>                            <div id=\"6aa47de8-18bc-4912-a6e3-6d9afaf7b88b\" class=\"plotly-graph-div\" style=\"height:525px; width:100%;\"></div>            <script type=\"text/javascript\">                require([\"plotly\"], function(Plotly) {                    window.PLOTLYENV=window.PLOTLYENV || {};                                    if (document.getElementById(\"6aa47de8-18bc-4912-a6e3-6d9afaf7b88b\")) {                    Plotly.newPlot(                        \"6aa47de8-18bc-4912-a6e3-6d9afaf7b88b\",                        [{\"hovertemplate\":\"r=%{r}<br>theta=%{theta}<extra></extra>\",\"legendgroup\":\"\",\"line\":{\"color\":\"#636efa\",\"dash\":\"solid\"},\"marker\":{\"symbol\":\"circle\"},\"mode\":\"lines\",\"name\":\"\",\"r\":[0.6813000000000001,0.5,0.6501800000000002,0.4109090909090908,0.5189910275943794,0.097016,0.19725060000000003,0.0003638672,0.16122,0.517078,0.6893342378867909,0.6560707718027305,0.6813000000000001],\"showlegend\":false,\"subplot\":\"polar\",\"theta\":[\"Danceability\",\"Mode\",\"Energy\",\"Key\",\"Loudness\",\"Speechiness\",\"Acousticness\",\"Instrumentalness\",\"Liveness\",\"Valence\",\"Tempo\",\"Duration (ms)\",\"Danceability\"],\"type\":\"scatterpolar\",\"fill\":\"toself\"}],                        {\"template\":{\"data\":{\"histogram2dcontour\":[{\"type\":\"histogram2dcontour\",\"colorbar\":{\"outlinewidth\":0,\"ticks\":\"\"},\"colorscale\":[[0.0,\"#0d0887\"],[0.1111111111111111,\"#46039f\"],[0.2222222222222222,\"#7201a8\"],[0.3333333333333333,\"#9c179e\"],[0.4444444444444444,\"#bd3786\"],[0.5555555555555556,\"#d8576b\"],[0.6666666666666666,\"#ed7953\"],[0.7777777777777778,\"#fb9f3a\"],[0.8888888888888888,\"#fdca26\"],[1.0,\"#f0f921\"]]}],\"choropleth\":[{\"type\":\"choropleth\",\"colorbar\":{\"outlinewidth\":0,\"ticks\":\"\"}}],\"histogram2d\":[{\"type\":\"histogram2d\",\"colorbar\":{\"outlinewidth\":0,\"ticks\":\"\"},\"colorscale\":[[0.0,\"#0d0887\"],[0.1111111111111111,\"#46039f\"],[0.2222222222222222,\"#7201a8\"],[0.3333333333333333,\"#9c179e\"],[0.4444444444444444,\"#bd3786\"],[0.5555555555555556,\"#d8576b\"],[0.6666666666666666,\"#ed7953\"],[0.7777777777777778,\"#fb9f3a\"],[0.8888888888888888,\"#fdca26\"],[1.0,\"#f0f921\"]]}],\"heatmap\":[{\"type\":\"heatmap\",\"colorbar\":{\"outlinewidth\":0,\"ticks\":\"\"},\"colorscale\":[[0.0,\"#0d0887\"],[0.1111111111111111,\"#46039f\"],[0.2222222222222222,\"#7201a8\"],[0.3333333333333333,\"#9c179e\"],[0.4444444444444444,\"#bd3786\"],[0.5555555555555556,\"#d8576b\"],[0.6666666666666666,\"#ed7953\"],[0.7777777777777778,\"#fb9f3a\"],[0.8888888888888888,\"#fdca26\"],[1.0,\"#f0f921\"]]}],\"heatmapgl\":[{\"type\":\"heatmapgl\",\"colorbar\":{\"outlinewidth\":0,\"ticks\":\"\"},\"colorscale\":[[0.0,\"#0d0887\"],[0.1111111111111111,\"#46039f\"],[0.2222222222222222,\"#7201a8\"],[0.3333333333333333,\"#9c179e\"],[0.4444444444444444,\"#bd3786\"],[0.5555555555555556,\"#d8576b\"],[0.6666666666666666,\"#ed7953\"],[0.7777777777777778,\"#fb9f3a\"],[0.8888888888888888,\"#fdca26\"],[1.0,\"#f0f921\"]]}],\"contourcarpet\":[{\"type\":\"contourcarpet\",\"colorbar\":{\"outlinewidth\":0,\"ticks\":\"\"}}],\"contour\":[{\"type\":\"contour\",\"colorbar\":{\"outlinewidth\":0,\"ticks\":\"\"},\"colorscale\":[[0.0,\"#0d0887\"],[0.1111111111111111,\"#46039f\"],[0.2222222222222222,\"#7201a8\"],[0.3333333333333333,\"#9c179e\"],[0.4444444444444444,\"#bd3786\"],[0.5555555555555556,\"#d8576b\"],[0.6666666666666666,\"#ed7953\"],[0.7777777777777778,\"#fb9f3a\"],[0.8888888888888888,\"#fdca26\"],[1.0,\"#f0f921\"]]}],\"surface\":[{\"type\":\"surface\",\"colorbar\":{\"outlinewidth\":0,\"ticks\":\"\"},\"colorscale\":[[0.0,\"#0d0887\"],[0.1111111111111111,\"#46039f\"],[0.2222222222222222,\"#7201a8\"],[0.3333333333333333,\"#9c179e\"],[0.4444444444444444,\"#bd3786\"],[0.5555555555555556,\"#d8576b\"],[0.6666666666666666,\"#ed7953\"],[0.7777777777777778,\"#fb9f3a\"],[0.8888888888888888,\"#fdca26\"],[1.0,\"#f0f921\"]]}],\"mesh3d\":[{\"type\":\"mesh3d\",\"colorbar\":{\"outlinewidth\":0,\"ticks\":\"\"}}],\"scatter\":[{\"fillpattern\":{\"fillmode\":\"overlay\",\"size\":10,\"solidity\":0.2},\"type\":\"scatter\"}],\"parcoords\":[{\"type\":\"parcoords\",\"line\":{\"colorbar\":{\"outlinewidth\":0,\"ticks\":\"\"}}}],\"scatterpolargl\":[{\"type\":\"scatterpolargl\",\"marker\":{\"colorbar\":{\"outlinewidth\":0,\"ticks\":\"\"}}}],\"bar\":[{\"error_x\":{\"color\":\"#2a3f5f\"},\"error_y\":{\"color\":\"#2a3f5f\"},\"marker\":{\"line\":{\"color\":\"#E5ECF6\",\"width\":0.5},\"pattern\":{\"fillmode\":\"overlay\",\"size\":10,\"solidity\":0.2}},\"type\":\"bar\"}],\"scattergeo\":[{\"type\":\"scattergeo\",\"marker\":{\"colorbar\":{\"outlinewidth\":0,\"ticks\":\"\"}}}],\"scatterpolar\":[{\"type\":\"scatterpolar\",\"marker\":{\"colorbar\":{\"outlinewidth\":0,\"ticks\":\"\"}}}],\"histogram\":[{\"marker\":{\"pattern\":{\"fillmode\":\"overlay\",\"size\":10,\"solidity\":0.2}},\"type\":\"histogram\"}],\"scattergl\":[{\"type\":\"scattergl\",\"marker\":{\"colorbar\":{\"outlinewidth\":0,\"ticks\":\"\"}}}],\"scatter3d\":[{\"type\":\"scatter3d\",\"line\":{\"colorbar\":{\"outlinewidth\":0,\"ticks\":\"\"}},\"marker\":{\"colorbar\":{\"outlinewidth\":0,\"ticks\":\"\"}}}],\"scattermapbox\":[{\"type\":\"scattermapbox\",\"marker\":{\"colorbar\":{\"outlinewidth\":0,\"ticks\":\"\"}}}],\"scatterternary\":[{\"type\":\"scatterternary\",\"marker\":{\"colorbar\":{\"outlinewidth\":0,\"ticks\":\"\"}}}],\"scattercarpet\":[{\"type\":\"scattercarpet\",\"marker\":{\"colorbar\":{\"outlinewidth\":0,\"ticks\":\"\"}}}],\"carpet\":[{\"aaxis\":{\"endlinecolor\":\"#2a3f5f\",\"gridcolor\":\"white\",\"linecolor\":\"white\",\"minorgridcolor\":\"white\",\"startlinecolor\":\"#2a3f5f\"},\"baxis\":{\"endlinecolor\":\"#2a3f5f\",\"gridcolor\":\"white\",\"linecolor\":\"white\",\"minorgridcolor\":\"white\",\"startlinecolor\":\"#2a3f5f\"},\"type\":\"carpet\"}],\"table\":[{\"cells\":{\"fill\":{\"color\":\"#EBF0F8\"},\"line\":{\"color\":\"white\"}},\"header\":{\"fill\":{\"color\":\"#C8D4E3\"},\"line\":{\"color\":\"white\"}},\"type\":\"table\"}],\"barpolar\":[{\"marker\":{\"line\":{\"color\":\"#E5ECF6\",\"width\":0.5},\"pattern\":{\"fillmode\":\"overlay\",\"size\":10,\"solidity\":0.2}},\"type\":\"barpolar\"}],\"pie\":[{\"automargin\":true,\"type\":\"pie\"}]},\"layout\":{\"autotypenumbers\":\"strict\",\"colorway\":[\"#636efa\",\"#EF553B\",\"#00cc96\",\"#ab63fa\",\"#FFA15A\",\"#19d3f3\",\"#FF6692\",\"#B6E880\",\"#FF97FF\",\"#FECB52\"],\"font\":{\"color\":\"#2a3f5f\"},\"hovermode\":\"closest\",\"hoverlabel\":{\"align\":\"left\"},\"paper_bgcolor\":\"white\",\"plot_bgcolor\":\"#E5ECF6\",\"polar\":{\"bgcolor\":\"#E5ECF6\",\"angularaxis\":{\"gridcolor\":\"white\",\"linecolor\":\"white\",\"ticks\":\"\"},\"radialaxis\":{\"gridcolor\":\"white\",\"linecolor\":\"white\",\"ticks\":\"\"}},\"ternary\":{\"bgcolor\":\"#E5ECF6\",\"aaxis\":{\"gridcolor\":\"white\",\"linecolor\":\"white\",\"ticks\":\"\"},\"baxis\":{\"gridcolor\":\"white\",\"linecolor\":\"white\",\"ticks\":\"\"},\"caxis\":{\"gridcolor\":\"white\",\"linecolor\":\"white\",\"ticks\":\"\"}},\"coloraxis\":{\"colorbar\":{\"outlinewidth\":0,\"ticks\":\"\"}},\"colorscale\":{\"sequential\":[[0.0,\"#0d0887\"],[0.1111111111111111,\"#46039f\"],[0.2222222222222222,\"#7201a8\"],[0.3333333333333333,\"#9c179e\"],[0.4444444444444444,\"#bd3786\"],[0.5555555555555556,\"#d8576b\"],[0.6666666666666666,\"#ed7953\"],[0.7777777777777778,\"#fb9f3a\"],[0.8888888888888888,\"#fdca26\"],[1.0,\"#f0f921\"]],\"sequentialminus\":[[0.0,\"#0d0887\"],[0.1111111111111111,\"#46039f\"],[0.2222222222222222,\"#7201a8\"],[0.3333333333333333,\"#9c179e\"],[0.4444444444444444,\"#bd3786\"],[0.5555555555555556,\"#d8576b\"],[0.6666666666666666,\"#ed7953\"],[0.7777777777777778,\"#fb9f3a\"],[0.8888888888888888,\"#fdca26\"],[1.0,\"#f0f921\"]],\"diverging\":[[0,\"#8e0152\"],[0.1,\"#c51b7d\"],[0.2,\"#de77ae\"],[0.3,\"#f1b6da\"],[0.4,\"#fde0ef\"],[0.5,\"#f7f7f7\"],[0.6,\"#e6f5d0\"],[0.7,\"#b8e186\"],[0.8,\"#7fbc41\"],[0.9,\"#4d9221\"],[1,\"#276419\"]]},\"xaxis\":{\"gridcolor\":\"white\",\"linecolor\":\"white\",\"ticks\":\"\",\"title\":{\"standoff\":15},\"zerolinecolor\":\"white\",\"automargin\":true,\"zerolinewidth\":2},\"yaxis\":{\"gridcolor\":\"white\",\"linecolor\":\"white\",\"ticks\":\"\",\"title\":{\"standoff\":15},\"zerolinecolor\":\"white\",\"automargin\":true,\"zerolinewidth\":2},\"scene\":{\"xaxis\":{\"backgroundcolor\":\"#E5ECF6\",\"gridcolor\":\"white\",\"linecolor\":\"white\",\"showbackground\":true,\"ticks\":\"\",\"zerolinecolor\":\"white\",\"gridwidth\":2},\"yaxis\":{\"backgroundcolor\":\"#E5ECF6\",\"gridcolor\":\"white\",\"linecolor\":\"white\",\"showbackground\":true,\"ticks\":\"\",\"zerolinecolor\":\"white\",\"gridwidth\":2},\"zaxis\":{\"backgroundcolor\":\"#E5ECF6\",\"gridcolor\":\"white\",\"linecolor\":\"white\",\"showbackground\":true,\"ticks\":\"\",\"zerolinecolor\":\"white\",\"gridwidth\":2}},\"shapedefaults\":{\"line\":{\"color\":\"#2a3f5f\"}},\"annotationdefaults\":{\"arrowcolor\":\"#2a3f5f\",\"arrowhead\":0,\"arrowwidth\":1},\"geo\":{\"bgcolor\":\"white\",\"landcolor\":\"#E5ECF6\",\"subunitcolor\":\"white\",\"showland\":true,\"showlakes\":true,\"lakecolor\":\"white\"},\"title\":{\"x\":0.05},\"mapbox\":{\"style\":\"light\"}}},\"polar\":{\"domain\":{\"x\":[0.0,1.0],\"y\":[0.0,1.0]},\"angularaxis\":{\"direction\":\"clockwise\",\"rotation\":90}},\"legend\":{\"tracegroupgap\":0},\"margin\":{\"t\":60}},                        {\"responsive\": true}                    ).then(function(){\n",
       "                            \n",
       "var gd = document.getElementById('6aa47de8-18bc-4912-a6e3-6d9afaf7b88b');\n",
       "var x = new MutationObserver(function (mutations, observer) {{\n",
       "        var display = window.getComputedStyle(gd).display;\n",
       "        if (!display || display === 'none') {{\n",
       "            console.log([gd, 'removed!']);\n",
       "            Plotly.purge(gd);\n",
       "            observer.disconnect();\n",
       "        }}\n",
       "}});\n",
       "\n",
       "// Listen for the removal of the full notebook cells\n",
       "var notebookContainer = gd.closest('#notebook-container');\n",
       "if (notebookContainer) {{\n",
       "    x.observe(notebookContainer, {childList: true});\n",
       "}}\n",
       "\n",
       "// Listen for the clearing of the current output cell\n",
       "var outputEl = gd.closest('.output');\n",
       "if (outputEl) {{\n",
       "    x.observe(outputEl, {childList: true});\n",
       "}}\n",
       "\n",
       "                        })                };                });            </script>        </div>"
      ]
     },
     "metadata": {},
     "output_type": "display_data"
    }
   ],
   "source": [
    "pop_radar = plot_radar_chart(\"filepop.xlsx\")"
   ]
  },
  {
   "cell_type": "code",
   "execution_count": 21,
   "id": "2ce36de4",
   "metadata": {},
   "outputs": [],
   "source": [
    "import chart_studio\n",
    "#dummy user\n",
    "username = \"nathanwthomas\"\n",
    "api_key = \"uvANTAtOVDTGEp7G8SM3\"\n",
    "\n",
    "chart_studio.tools.set_credentials_file(username=username, api_key=api_key)\n",
    "\n",
    "import chart_studio.plotly as py\n",
    "import chart_studio.tools as tls"
   ]
  },
  {
   "cell_type": "code",
   "execution_count": 73,
   "id": "bddd6334",
   "metadata": {},
   "outputs": [
    {
     "data": {
      "application/vnd.plotly.v1+json": {
       "config": {
        "plotlyServerURL": "https://plotly.com"
       },
       "data": [
        {
         "fill": "toself",
         "hovertemplate": "r=%{r}<br>theta=%{theta}<extra></extra>",
         "legendgroup": "",
         "line": {
          "color": "#636efa",
          "dash": "solid"
         },
         "marker": {
          "symbol": "circle"
         },
         "mode": "lines",
         "name": "",
         "r": [
          0.7443999999999998,
          0.56,
          0.6087400000000001,
          0.4054545454545455,
          0.6521874399846359,
          0.241518,
          0.14650208000000003,
          0.000157711,
          0.20119599999999999,
          0.475868,
          0.7717208764330595,
          0.6331573791796926,
          0.7443999999999998
         ],
         "showlegend": false,
         "subplot": "polar",
         "theta": [
          "Danceability",
          "Mode",
          "Energy",
          "Key",
          "Loudness",
          "Speechiness",
          "Acousticness",
          "Instrumentalness",
          "Liveness",
          "Valence",
          "Tempo",
          "Duration (ms)",
          "Danceability"
         ],
         "type": "scatterpolar"
        }
       ],
       "layout": {
        "legend": {
         "tracegroupgap": 0
        },
        "margin": {
         "t": 60
        },
        "polar": {
         "angularaxis": {
          "direction": "clockwise",
          "rotation": 90
         },
         "domain": {
          "x": [
           0,
           1
          ],
          "y": [
           0,
           1
          ]
         }
        },
        "template": {
         "data": {
          "bar": [
           {
            "error_x": {
             "color": "#2a3f5f"
            },
            "error_y": {
             "color": "#2a3f5f"
            },
            "marker": {
             "line": {
              "color": "#E5ECF6",
              "width": 0.5
             },
             "pattern": {
              "fillmode": "overlay",
              "size": 10,
              "solidity": 0.2
             }
            },
            "type": "bar"
           }
          ],
          "barpolar": [
           {
            "marker": {
             "line": {
              "color": "#E5ECF6",
              "width": 0.5
             },
             "pattern": {
              "fillmode": "overlay",
              "size": 10,
              "solidity": 0.2
             }
            },
            "type": "barpolar"
           }
          ],
          "carpet": [
           {
            "aaxis": {
             "endlinecolor": "#2a3f5f",
             "gridcolor": "white",
             "linecolor": "white",
             "minorgridcolor": "white",
             "startlinecolor": "#2a3f5f"
            },
            "baxis": {
             "endlinecolor": "#2a3f5f",
             "gridcolor": "white",
             "linecolor": "white",
             "minorgridcolor": "white",
             "startlinecolor": "#2a3f5f"
            },
            "type": "carpet"
           }
          ],
          "choropleth": [
           {
            "colorbar": {
             "outlinewidth": 0,
             "ticks": ""
            },
            "type": "choropleth"
           }
          ],
          "contour": [
           {
            "colorbar": {
             "outlinewidth": 0,
             "ticks": ""
            },
            "colorscale": [
             [
              0,
              "#0d0887"
             ],
             [
              0.1111111111111111,
              "#46039f"
             ],
             [
              0.2222222222222222,
              "#7201a8"
             ],
             [
              0.3333333333333333,
              "#9c179e"
             ],
             [
              0.4444444444444444,
              "#bd3786"
             ],
             [
              0.5555555555555556,
              "#d8576b"
             ],
             [
              0.6666666666666666,
              "#ed7953"
             ],
             [
              0.7777777777777778,
              "#fb9f3a"
             ],
             [
              0.8888888888888888,
              "#fdca26"
             ],
             [
              1,
              "#f0f921"
             ]
            ],
            "type": "contour"
           }
          ],
          "contourcarpet": [
           {
            "colorbar": {
             "outlinewidth": 0,
             "ticks": ""
            },
            "type": "contourcarpet"
           }
          ],
          "heatmap": [
           {
            "colorbar": {
             "outlinewidth": 0,
             "ticks": ""
            },
            "colorscale": [
             [
              0,
              "#0d0887"
             ],
             [
              0.1111111111111111,
              "#46039f"
             ],
             [
              0.2222222222222222,
              "#7201a8"
             ],
             [
              0.3333333333333333,
              "#9c179e"
             ],
             [
              0.4444444444444444,
              "#bd3786"
             ],
             [
              0.5555555555555556,
              "#d8576b"
             ],
             [
              0.6666666666666666,
              "#ed7953"
             ],
             [
              0.7777777777777778,
              "#fb9f3a"
             ],
             [
              0.8888888888888888,
              "#fdca26"
             ],
             [
              1,
              "#f0f921"
             ]
            ],
            "type": "heatmap"
           }
          ],
          "heatmapgl": [
           {
            "colorbar": {
             "outlinewidth": 0,
             "ticks": ""
            },
            "colorscale": [
             [
              0,
              "#0d0887"
             ],
             [
              0.1111111111111111,
              "#46039f"
             ],
             [
              0.2222222222222222,
              "#7201a8"
             ],
             [
              0.3333333333333333,
              "#9c179e"
             ],
             [
              0.4444444444444444,
              "#bd3786"
             ],
             [
              0.5555555555555556,
              "#d8576b"
             ],
             [
              0.6666666666666666,
              "#ed7953"
             ],
             [
              0.7777777777777778,
              "#fb9f3a"
             ],
             [
              0.8888888888888888,
              "#fdca26"
             ],
             [
              1,
              "#f0f921"
             ]
            ],
            "type": "heatmapgl"
           }
          ],
          "histogram": [
           {
            "marker": {
             "pattern": {
              "fillmode": "overlay",
              "size": 10,
              "solidity": 0.2
             }
            },
            "type": "histogram"
           }
          ],
          "histogram2d": [
           {
            "colorbar": {
             "outlinewidth": 0,
             "ticks": ""
            },
            "colorscale": [
             [
              0,
              "#0d0887"
             ],
             [
              0.1111111111111111,
              "#46039f"
             ],
             [
              0.2222222222222222,
              "#7201a8"
             ],
             [
              0.3333333333333333,
              "#9c179e"
             ],
             [
              0.4444444444444444,
              "#bd3786"
             ],
             [
              0.5555555555555556,
              "#d8576b"
             ],
             [
              0.6666666666666666,
              "#ed7953"
             ],
             [
              0.7777777777777778,
              "#fb9f3a"
             ],
             [
              0.8888888888888888,
              "#fdca26"
             ],
             [
              1,
              "#f0f921"
             ]
            ],
            "type": "histogram2d"
           }
          ],
          "histogram2dcontour": [
           {
            "colorbar": {
             "outlinewidth": 0,
             "ticks": ""
            },
            "colorscale": [
             [
              0,
              "#0d0887"
             ],
             [
              0.1111111111111111,
              "#46039f"
             ],
             [
              0.2222222222222222,
              "#7201a8"
             ],
             [
              0.3333333333333333,
              "#9c179e"
             ],
             [
              0.4444444444444444,
              "#bd3786"
             ],
             [
              0.5555555555555556,
              "#d8576b"
             ],
             [
              0.6666666666666666,
              "#ed7953"
             ],
             [
              0.7777777777777778,
              "#fb9f3a"
             ],
             [
              0.8888888888888888,
              "#fdca26"
             ],
             [
              1,
              "#f0f921"
             ]
            ],
            "type": "histogram2dcontour"
           }
          ],
          "mesh3d": [
           {
            "colorbar": {
             "outlinewidth": 0,
             "ticks": ""
            },
            "type": "mesh3d"
           }
          ],
          "parcoords": [
           {
            "line": {
             "colorbar": {
              "outlinewidth": 0,
              "ticks": ""
             }
            },
            "type": "parcoords"
           }
          ],
          "pie": [
           {
            "automargin": true,
            "type": "pie"
           }
          ],
          "scatter": [
           {
            "fillpattern": {
             "fillmode": "overlay",
             "size": 10,
             "solidity": 0.2
            },
            "type": "scatter"
           }
          ],
          "scatter3d": [
           {
            "line": {
             "colorbar": {
              "outlinewidth": 0,
              "ticks": ""
             }
            },
            "marker": {
             "colorbar": {
              "outlinewidth": 0,
              "ticks": ""
             }
            },
            "type": "scatter3d"
           }
          ],
          "scattercarpet": [
           {
            "marker": {
             "colorbar": {
              "outlinewidth": 0,
              "ticks": ""
             }
            },
            "type": "scattercarpet"
           }
          ],
          "scattergeo": [
           {
            "marker": {
             "colorbar": {
              "outlinewidth": 0,
              "ticks": ""
             }
            },
            "type": "scattergeo"
           }
          ],
          "scattergl": [
           {
            "marker": {
             "colorbar": {
              "outlinewidth": 0,
              "ticks": ""
             }
            },
            "type": "scattergl"
           }
          ],
          "scattermapbox": [
           {
            "marker": {
             "colorbar": {
              "outlinewidth": 0,
              "ticks": ""
             }
            },
            "type": "scattermapbox"
           }
          ],
          "scatterpolar": [
           {
            "marker": {
             "colorbar": {
              "outlinewidth": 0,
              "ticks": ""
             }
            },
            "type": "scatterpolar"
           }
          ],
          "scatterpolargl": [
           {
            "marker": {
             "colorbar": {
              "outlinewidth": 0,
              "ticks": ""
             }
            },
            "type": "scatterpolargl"
           }
          ],
          "scatterternary": [
           {
            "marker": {
             "colorbar": {
              "outlinewidth": 0,
              "ticks": ""
             }
            },
            "type": "scatterternary"
           }
          ],
          "surface": [
           {
            "colorbar": {
             "outlinewidth": 0,
             "ticks": ""
            },
            "colorscale": [
             [
              0,
              "#0d0887"
             ],
             [
              0.1111111111111111,
              "#46039f"
             ],
             [
              0.2222222222222222,
              "#7201a8"
             ],
             [
              0.3333333333333333,
              "#9c179e"
             ],
             [
              0.4444444444444444,
              "#bd3786"
             ],
             [
              0.5555555555555556,
              "#d8576b"
             ],
             [
              0.6666666666666666,
              "#ed7953"
             ],
             [
              0.7777777777777778,
              "#fb9f3a"
             ],
             [
              0.8888888888888888,
              "#fdca26"
             ],
             [
              1,
              "#f0f921"
             ]
            ],
            "type": "surface"
           }
          ],
          "table": [
           {
            "cells": {
             "fill": {
              "color": "#EBF0F8"
             },
             "line": {
              "color": "white"
             }
            },
            "header": {
             "fill": {
              "color": "#C8D4E3"
             },
             "line": {
              "color": "white"
             }
            },
            "type": "table"
           }
          ]
         },
         "layout": {
          "annotationdefaults": {
           "arrowcolor": "#2a3f5f",
           "arrowhead": 0,
           "arrowwidth": 1
          },
          "autotypenumbers": "strict",
          "coloraxis": {
           "colorbar": {
            "outlinewidth": 0,
            "ticks": ""
           }
          },
          "colorscale": {
           "diverging": [
            [
             0,
             "#8e0152"
            ],
            [
             0.1,
             "#c51b7d"
            ],
            [
             0.2,
             "#de77ae"
            ],
            [
             0.3,
             "#f1b6da"
            ],
            [
             0.4,
             "#fde0ef"
            ],
            [
             0.5,
             "#f7f7f7"
            ],
            [
             0.6,
             "#e6f5d0"
            ],
            [
             0.7,
             "#b8e186"
            ],
            [
             0.8,
             "#7fbc41"
            ],
            [
             0.9,
             "#4d9221"
            ],
            [
             1,
             "#276419"
            ]
           ],
           "sequential": [
            [
             0,
             "#0d0887"
            ],
            [
             0.1111111111111111,
             "#46039f"
            ],
            [
             0.2222222222222222,
             "#7201a8"
            ],
            [
             0.3333333333333333,
             "#9c179e"
            ],
            [
             0.4444444444444444,
             "#bd3786"
            ],
            [
             0.5555555555555556,
             "#d8576b"
            ],
            [
             0.6666666666666666,
             "#ed7953"
            ],
            [
             0.7777777777777778,
             "#fb9f3a"
            ],
            [
             0.8888888888888888,
             "#fdca26"
            ],
            [
             1,
             "#f0f921"
            ]
           ],
           "sequentialminus": [
            [
             0,
             "#0d0887"
            ],
            [
             0.1111111111111111,
             "#46039f"
            ],
            [
             0.2222222222222222,
             "#7201a8"
            ],
            [
             0.3333333333333333,
             "#9c179e"
            ],
            [
             0.4444444444444444,
             "#bd3786"
            ],
            [
             0.5555555555555556,
             "#d8576b"
            ],
            [
             0.6666666666666666,
             "#ed7953"
            ],
            [
             0.7777777777777778,
             "#fb9f3a"
            ],
            [
             0.8888888888888888,
             "#fdca26"
            ],
            [
             1,
             "#f0f921"
            ]
           ]
          },
          "colorway": [
           "#636efa",
           "#EF553B",
           "#00cc96",
           "#ab63fa",
           "#FFA15A",
           "#19d3f3",
           "#FF6692",
           "#B6E880",
           "#FF97FF",
           "#FECB52"
          ],
          "font": {
           "color": "#2a3f5f"
          },
          "geo": {
           "bgcolor": "white",
           "lakecolor": "white",
           "landcolor": "#E5ECF6",
           "showlakes": true,
           "showland": true,
           "subunitcolor": "white"
          },
          "hoverlabel": {
           "align": "left"
          },
          "hovermode": "closest",
          "mapbox": {
           "style": "light"
          },
          "paper_bgcolor": "white",
          "plot_bgcolor": "#E5ECF6",
          "polar": {
           "angularaxis": {
            "gridcolor": "white",
            "linecolor": "white",
            "ticks": ""
           },
           "bgcolor": "#E5ECF6",
           "radialaxis": {
            "gridcolor": "white",
            "linecolor": "white",
            "ticks": ""
           }
          },
          "scene": {
           "xaxis": {
            "backgroundcolor": "#E5ECF6",
            "gridcolor": "white",
            "gridwidth": 2,
            "linecolor": "white",
            "showbackground": true,
            "ticks": "",
            "zerolinecolor": "white"
           },
           "yaxis": {
            "backgroundcolor": "#E5ECF6",
            "gridcolor": "white",
            "gridwidth": 2,
            "linecolor": "white",
            "showbackground": true,
            "ticks": "",
            "zerolinecolor": "white"
           },
           "zaxis": {
            "backgroundcolor": "#E5ECF6",
            "gridcolor": "white",
            "gridwidth": 2,
            "linecolor": "white",
            "showbackground": true,
            "ticks": "",
            "zerolinecolor": "white"
           }
          },
          "shapedefaults": {
           "line": {
            "color": "#2a3f5f"
           }
          },
          "ternary": {
           "aaxis": {
            "gridcolor": "white",
            "linecolor": "white",
            "ticks": ""
           },
           "baxis": {
            "gridcolor": "white",
            "linecolor": "white",
            "ticks": ""
           },
           "bgcolor": "#E5ECF6",
           "caxis": {
            "gridcolor": "white",
            "linecolor": "white",
            "ticks": ""
           }
          },
          "title": {
           "x": 0.05
          },
          "xaxis": {
           "automargin": true,
           "gridcolor": "white",
           "linecolor": "white",
           "ticks": "",
           "title": {
            "standoff": 15
           },
           "zerolinecolor": "white",
           "zerolinewidth": 2
          },
          "yaxis": {
           "automargin": true,
           "gridcolor": "white",
           "linecolor": "white",
           "ticks": "",
           "title": {
            "standoff": 15
           },
           "zerolinecolor": "white",
           "zerolinewidth": 2
          }
         }
        }
       }
      },
      "text/html": [
       "<div>                            <div id=\"a1aa6fea-949e-4a7e-9dae-e5d4b8faf055\" class=\"plotly-graph-div\" style=\"height:525px; width:100%;\"></div>            <script type=\"text/javascript\">                require([\"plotly\"], function(Plotly) {                    window.PLOTLYENV=window.PLOTLYENV || {};                                    if (document.getElementById(\"a1aa6fea-949e-4a7e-9dae-e5d4b8faf055\")) {                    Plotly.newPlot(                        \"a1aa6fea-949e-4a7e-9dae-e5d4b8faf055\",                        [{\"hovertemplate\":\"r=%{r}<br>theta=%{theta}<extra></extra>\",\"legendgroup\":\"\",\"line\":{\"color\":\"#636efa\",\"dash\":\"solid\"},\"marker\":{\"symbol\":\"circle\"},\"mode\":\"lines\",\"name\":\"\",\"r\":[0.7443999999999998,0.56,0.6087400000000001,0.4054545454545455,0.6521874399846359,0.241518,0.14650208000000003,0.000157711,0.20119599999999999,0.475868,0.7717208764330595,0.6331573791796926,0.7443999999999998],\"showlegend\":false,\"subplot\":\"polar\",\"theta\":[\"Danceability\",\"Mode\",\"Energy\",\"Key\",\"Loudness\",\"Speechiness\",\"Acousticness\",\"Instrumentalness\",\"Liveness\",\"Valence\",\"Tempo\",\"Duration (ms)\",\"Danceability\"],\"type\":\"scatterpolar\",\"fill\":\"toself\"}],                        {\"template\":{\"data\":{\"histogram2dcontour\":[{\"type\":\"histogram2dcontour\",\"colorbar\":{\"outlinewidth\":0,\"ticks\":\"\"},\"colorscale\":[[0.0,\"#0d0887\"],[0.1111111111111111,\"#46039f\"],[0.2222222222222222,\"#7201a8\"],[0.3333333333333333,\"#9c179e\"],[0.4444444444444444,\"#bd3786\"],[0.5555555555555556,\"#d8576b\"],[0.6666666666666666,\"#ed7953\"],[0.7777777777777778,\"#fb9f3a\"],[0.8888888888888888,\"#fdca26\"],[1.0,\"#f0f921\"]]}],\"choropleth\":[{\"type\":\"choropleth\",\"colorbar\":{\"outlinewidth\":0,\"ticks\":\"\"}}],\"histogram2d\":[{\"type\":\"histogram2d\",\"colorbar\":{\"outlinewidth\":0,\"ticks\":\"\"},\"colorscale\":[[0.0,\"#0d0887\"],[0.1111111111111111,\"#46039f\"],[0.2222222222222222,\"#7201a8\"],[0.3333333333333333,\"#9c179e\"],[0.4444444444444444,\"#bd3786\"],[0.5555555555555556,\"#d8576b\"],[0.6666666666666666,\"#ed7953\"],[0.7777777777777778,\"#fb9f3a\"],[0.8888888888888888,\"#fdca26\"],[1.0,\"#f0f921\"]]}],\"heatmap\":[{\"type\":\"heatmap\",\"colorbar\":{\"outlinewidth\":0,\"ticks\":\"\"},\"colorscale\":[[0.0,\"#0d0887\"],[0.1111111111111111,\"#46039f\"],[0.2222222222222222,\"#7201a8\"],[0.3333333333333333,\"#9c179e\"],[0.4444444444444444,\"#bd3786\"],[0.5555555555555556,\"#d8576b\"],[0.6666666666666666,\"#ed7953\"],[0.7777777777777778,\"#fb9f3a\"],[0.8888888888888888,\"#fdca26\"],[1.0,\"#f0f921\"]]}],\"heatmapgl\":[{\"type\":\"heatmapgl\",\"colorbar\":{\"outlinewidth\":0,\"ticks\":\"\"},\"colorscale\":[[0.0,\"#0d0887\"],[0.1111111111111111,\"#46039f\"],[0.2222222222222222,\"#7201a8\"],[0.3333333333333333,\"#9c179e\"],[0.4444444444444444,\"#bd3786\"],[0.5555555555555556,\"#d8576b\"],[0.6666666666666666,\"#ed7953\"],[0.7777777777777778,\"#fb9f3a\"],[0.8888888888888888,\"#fdca26\"],[1.0,\"#f0f921\"]]}],\"contourcarpet\":[{\"type\":\"contourcarpet\",\"colorbar\":{\"outlinewidth\":0,\"ticks\":\"\"}}],\"contour\":[{\"type\":\"contour\",\"colorbar\":{\"outlinewidth\":0,\"ticks\":\"\"},\"colorscale\":[[0.0,\"#0d0887\"],[0.1111111111111111,\"#46039f\"],[0.2222222222222222,\"#7201a8\"],[0.3333333333333333,\"#9c179e\"],[0.4444444444444444,\"#bd3786\"],[0.5555555555555556,\"#d8576b\"],[0.6666666666666666,\"#ed7953\"],[0.7777777777777778,\"#fb9f3a\"],[0.8888888888888888,\"#fdca26\"],[1.0,\"#f0f921\"]]}],\"surface\":[{\"type\":\"surface\",\"colorbar\":{\"outlinewidth\":0,\"ticks\":\"\"},\"colorscale\":[[0.0,\"#0d0887\"],[0.1111111111111111,\"#46039f\"],[0.2222222222222222,\"#7201a8\"],[0.3333333333333333,\"#9c179e\"],[0.4444444444444444,\"#bd3786\"],[0.5555555555555556,\"#d8576b\"],[0.6666666666666666,\"#ed7953\"],[0.7777777777777778,\"#fb9f3a\"],[0.8888888888888888,\"#fdca26\"],[1.0,\"#f0f921\"]]}],\"mesh3d\":[{\"type\":\"mesh3d\",\"colorbar\":{\"outlinewidth\":0,\"ticks\":\"\"}}],\"scatter\":[{\"fillpattern\":{\"fillmode\":\"overlay\",\"size\":10,\"solidity\":0.2},\"type\":\"scatter\"}],\"parcoords\":[{\"type\":\"parcoords\",\"line\":{\"colorbar\":{\"outlinewidth\":0,\"ticks\":\"\"}}}],\"scatterpolargl\":[{\"type\":\"scatterpolargl\",\"marker\":{\"colorbar\":{\"outlinewidth\":0,\"ticks\":\"\"}}}],\"bar\":[{\"error_x\":{\"color\":\"#2a3f5f\"},\"error_y\":{\"color\":\"#2a3f5f\"},\"marker\":{\"line\":{\"color\":\"#E5ECF6\",\"width\":0.5},\"pattern\":{\"fillmode\":\"overlay\",\"size\":10,\"solidity\":0.2}},\"type\":\"bar\"}],\"scattergeo\":[{\"type\":\"scattergeo\",\"marker\":{\"colorbar\":{\"outlinewidth\":0,\"ticks\":\"\"}}}],\"scatterpolar\":[{\"type\":\"scatterpolar\",\"marker\":{\"colorbar\":{\"outlinewidth\":0,\"ticks\":\"\"}}}],\"histogram\":[{\"marker\":{\"pattern\":{\"fillmode\":\"overlay\",\"size\":10,\"solidity\":0.2}},\"type\":\"histogram\"}],\"scattergl\":[{\"type\":\"scattergl\",\"marker\":{\"colorbar\":{\"outlinewidth\":0,\"ticks\":\"\"}}}],\"scatter3d\":[{\"type\":\"scatter3d\",\"line\":{\"colorbar\":{\"outlinewidth\":0,\"ticks\":\"\"}},\"marker\":{\"colorbar\":{\"outlinewidth\":0,\"ticks\":\"\"}}}],\"scattermapbox\":[{\"type\":\"scattermapbox\",\"marker\":{\"colorbar\":{\"outlinewidth\":0,\"ticks\":\"\"}}}],\"scatterternary\":[{\"type\":\"scatterternary\",\"marker\":{\"colorbar\":{\"outlinewidth\":0,\"ticks\":\"\"}}}],\"scattercarpet\":[{\"type\":\"scattercarpet\",\"marker\":{\"colorbar\":{\"outlinewidth\":0,\"ticks\":\"\"}}}],\"carpet\":[{\"aaxis\":{\"endlinecolor\":\"#2a3f5f\",\"gridcolor\":\"white\",\"linecolor\":\"white\",\"minorgridcolor\":\"white\",\"startlinecolor\":\"#2a3f5f\"},\"baxis\":{\"endlinecolor\":\"#2a3f5f\",\"gridcolor\":\"white\",\"linecolor\":\"white\",\"minorgridcolor\":\"white\",\"startlinecolor\":\"#2a3f5f\"},\"type\":\"carpet\"}],\"table\":[{\"cells\":{\"fill\":{\"color\":\"#EBF0F8\"},\"line\":{\"color\":\"white\"}},\"header\":{\"fill\":{\"color\":\"#C8D4E3\"},\"line\":{\"color\":\"white\"}},\"type\":\"table\"}],\"barpolar\":[{\"marker\":{\"line\":{\"color\":\"#E5ECF6\",\"width\":0.5},\"pattern\":{\"fillmode\":\"overlay\",\"size\":10,\"solidity\":0.2}},\"type\":\"barpolar\"}],\"pie\":[{\"automargin\":true,\"type\":\"pie\"}]},\"layout\":{\"autotypenumbers\":\"strict\",\"colorway\":[\"#636efa\",\"#EF553B\",\"#00cc96\",\"#ab63fa\",\"#FFA15A\",\"#19d3f3\",\"#FF6692\",\"#B6E880\",\"#FF97FF\",\"#FECB52\"],\"font\":{\"color\":\"#2a3f5f\"},\"hovermode\":\"closest\",\"hoverlabel\":{\"align\":\"left\"},\"paper_bgcolor\":\"white\",\"plot_bgcolor\":\"#E5ECF6\",\"polar\":{\"bgcolor\":\"#E5ECF6\",\"angularaxis\":{\"gridcolor\":\"white\",\"linecolor\":\"white\",\"ticks\":\"\"},\"radialaxis\":{\"gridcolor\":\"white\",\"linecolor\":\"white\",\"ticks\":\"\"}},\"ternary\":{\"bgcolor\":\"#E5ECF6\",\"aaxis\":{\"gridcolor\":\"white\",\"linecolor\":\"white\",\"ticks\":\"\"},\"baxis\":{\"gridcolor\":\"white\",\"linecolor\":\"white\",\"ticks\":\"\"},\"caxis\":{\"gridcolor\":\"white\",\"linecolor\":\"white\",\"ticks\":\"\"}},\"coloraxis\":{\"colorbar\":{\"outlinewidth\":0,\"ticks\":\"\"}},\"colorscale\":{\"sequential\":[[0.0,\"#0d0887\"],[0.1111111111111111,\"#46039f\"],[0.2222222222222222,\"#7201a8\"],[0.3333333333333333,\"#9c179e\"],[0.4444444444444444,\"#bd3786\"],[0.5555555555555556,\"#d8576b\"],[0.6666666666666666,\"#ed7953\"],[0.7777777777777778,\"#fb9f3a\"],[0.8888888888888888,\"#fdca26\"],[1.0,\"#f0f921\"]],\"sequentialminus\":[[0.0,\"#0d0887\"],[0.1111111111111111,\"#46039f\"],[0.2222222222222222,\"#7201a8\"],[0.3333333333333333,\"#9c179e\"],[0.4444444444444444,\"#bd3786\"],[0.5555555555555556,\"#d8576b\"],[0.6666666666666666,\"#ed7953\"],[0.7777777777777778,\"#fb9f3a\"],[0.8888888888888888,\"#fdca26\"],[1.0,\"#f0f921\"]],\"diverging\":[[0,\"#8e0152\"],[0.1,\"#c51b7d\"],[0.2,\"#de77ae\"],[0.3,\"#f1b6da\"],[0.4,\"#fde0ef\"],[0.5,\"#f7f7f7\"],[0.6,\"#e6f5d0\"],[0.7,\"#b8e186\"],[0.8,\"#7fbc41\"],[0.9,\"#4d9221\"],[1,\"#276419\"]]},\"xaxis\":{\"gridcolor\":\"white\",\"linecolor\":\"white\",\"ticks\":\"\",\"title\":{\"standoff\":15},\"zerolinecolor\":\"white\",\"automargin\":true,\"zerolinewidth\":2},\"yaxis\":{\"gridcolor\":\"white\",\"linecolor\":\"white\",\"ticks\":\"\",\"title\":{\"standoff\":15},\"zerolinecolor\":\"white\",\"automargin\":true,\"zerolinewidth\":2},\"scene\":{\"xaxis\":{\"backgroundcolor\":\"#E5ECF6\",\"gridcolor\":\"white\",\"linecolor\":\"white\",\"showbackground\":true,\"ticks\":\"\",\"zerolinecolor\":\"white\",\"gridwidth\":2},\"yaxis\":{\"backgroundcolor\":\"#E5ECF6\",\"gridcolor\":\"white\",\"linecolor\":\"white\",\"showbackground\":true,\"ticks\":\"\",\"zerolinecolor\":\"white\",\"gridwidth\":2},\"zaxis\":{\"backgroundcolor\":\"#E5ECF6\",\"gridcolor\":\"white\",\"linecolor\":\"white\",\"showbackground\":true,\"ticks\":\"\",\"zerolinecolor\":\"white\",\"gridwidth\":2}},\"shapedefaults\":{\"line\":{\"color\":\"#2a3f5f\"}},\"annotationdefaults\":{\"arrowcolor\":\"#2a3f5f\",\"arrowhead\":0,\"arrowwidth\":1},\"geo\":{\"bgcolor\":\"white\",\"landcolor\":\"#E5ECF6\",\"subunitcolor\":\"white\",\"showland\":true,\"showlakes\":true,\"lakecolor\":\"white\"},\"title\":{\"x\":0.05},\"mapbox\":{\"style\":\"light\"}}},\"polar\":{\"domain\":{\"x\":[0.0,1.0],\"y\":[0.0,1.0]},\"angularaxis\":{\"direction\":\"clockwise\",\"rotation\":90}},\"legend\":{\"tracegroupgap\":0},\"margin\":{\"t\":60}},                        {\"responsive\": true}                    ).then(function(){\n",
       "                            \n",
       "var gd = document.getElementById('a1aa6fea-949e-4a7e-9dae-e5d4b8faf055');\n",
       "var x = new MutationObserver(function (mutations, observer) {{\n",
       "        var display = window.getComputedStyle(gd).display;\n",
       "        if (!display || display === 'none') {{\n",
       "            console.log([gd, 'removed!']);\n",
       "            Plotly.purge(gd);\n",
       "            observer.disconnect();\n",
       "        }}\n",
       "}});\n",
       "\n",
       "// Listen for the removal of the full notebook cells\n",
       "var notebookContainer = gd.closest('#notebook-container');\n",
       "if (notebookContainer) {{\n",
       "    x.observe(notebookContainer, {childList: true});\n",
       "}}\n",
       "\n",
       "// Listen for the clearing of the current output cell\n",
       "var outputEl = gd.closest('.output');\n",
       "if (outputEl) {{\n",
       "    x.observe(outputEl, {childList: true});\n",
       "}}\n",
       "\n",
       "                        })                };                });            </script>        </div>"
      ]
     },
     "metadata": {},
     "output_type": "display_data"
    }
   ],
   "source": [
    "rnb_radar = plot_radar_chart(\"filernb.xlsx\")"
   ]
  },
  {
   "cell_type": "markdown",
   "id": "db1c4b2d",
   "metadata": {},
   "source": [
    "## PCA Decomposition"
   ]
  },
  {
   "cell_type": "code",
   "execution_count": 27,
   "id": "06d1e051",
   "metadata": {},
   "outputs": [],
   "source": [
    "def PCA(excel_file):\n",
    "\n",
    "    from sklearn.decomposition import PCA\n",
    "\n",
    "    df = pd.read_excel(excel_file, index_col=0)\n",
    "\n",
    "    df_scaled = pd.DataFrame()\n",
    "\n",
    "    for col in df.loc[:,\"Danceability\":\"Duration (ms)\"]:\n",
    "        df_scaled[col] = (df[col] - df[col].mean() / df[col].std())\n",
    "\n",
    "    df_scaled\n",
    "\n",
    "\n",
    "    # Initialize PCA\n",
    "    pca = PCA(n_components = len(df_scaled.columns))\n",
    "\n",
    "    # Fit PCA\n",
    "    pca_series = pca.fit_transform(df_scaled).T\n",
    "\n",
    "    df_pca = pd.DataFrame({\"PC1\":pca_series[0], \"PC2\":pca_series[1]})\n",
    "    print(df_pca)\n",
    "    df_pca.to_excel(\"DF_PCA_\" + f'{excel_file}')\n",
    "\n",
    "    explained_variance = pca.explained_variance_ratio_\n",
    "\n",
    "    print(\"\\n explained variance = {}\".format(explained_variance))\n",
    "\n",
    "    eigenvector_loadings = pca.singular_values_\n",
    "    print(\"\\n eigenvector_loadings = {}\".format(eigenvector_loadings))\n",
    "\n"
   ]
  },
  {
   "cell_type": "code",
   "execution_count": 28,
   "id": "96c9eec2",
   "metadata": {},
   "outputs": [
    {
     "name": "stdout",
     "output_type": "stream",
     "text": [
      "             PC1        PC2\n",
      "0  -21068.046374  42.782603\n",
      "1   17699.964679 -30.524424\n",
      "2  -14423.036710 -23.196599\n",
      "3  -35181.043434  20.847624\n",
      "4  -44470.033805 -46.437802\n",
      "5   50433.966444 -39.948605\n",
      "6  -16104.042580  16.759242\n",
      "7  -35371.047046  46.538145\n",
      "8  -15744.036908 -22.346364\n",
      "9  -14990.032278 -53.344036\n",
      "10 -46565.045649  35.190515\n",
      "11  19481.957860  15.835060\n",
      "12   5434.965147 -35.230392\n",
      "13  14363.961489  -9.824570\n",
      "14 -40174.038514 -12.908533\n",
      "15  13123.952393  53.813780\n",
      "16  -3923.048334  57.148252\n",
      "17  25604.954165  41.724458\n",
      "18  23628.956519  25.442046\n",
      "19  -2690.048034  55.533575\n",
      "20 -19769.038915  -8.960512\n",
      "21  12962.960505  -2.209050\n",
      "22 -23552.038215 -13.567640\n",
      "23  18400.955106  34.719307\n",
      "24  49348.960507   0.974057\n",
      "25 -53107.041694   7.385509\n",
      "26 -42571.034369 -41.303724\n",
      "27 -10168.046646  44.501132\n",
      "28  36323.957593  19.233920\n",
      "29  42669.960007   4.026998\n",
      "30 -10223.045713  38.987260\n",
      "31  37716.964518 -28.563860\n",
      "32 -23106.037705 -17.350267\n",
      "33  39628.963021 -17.369007\n",
      "34  22188.959376   5.320919\n",
      "35 -36927.044595  28.432490\n",
      "36   5135.964349 -30.194403\n",
      "37  18013.956582  24.762531\n",
      "38 -36234.042019  10.870693\n",
      "39 -19133.033475 -45.890387\n",
      "40  36777.965302 -34.518663\n",
      "41  36625.965028 -32.627396\n",
      "42 -27714.037210 -21.908012\n",
      "43   -427.040669   3.783446\n",
      "44  23563.960295  -0.525197\n",
      "45  26628.965197 -33.864151\n",
      "46 -13026.037169 -20.419127\n",
      "47 -47706.035116 -37.014853\n",
      "48 -20143.041628   9.189876\n",
      "49  98748.958720  16.244135\n",
      "\n",
      " explained variance = [9.99999067e-01 9.20628677e-07 8.83418905e-09 3.56969691e-09\n",
      " 2.36976239e-10 4.70030918e-11 3.24153511e-11 1.22048888e-11\n",
      " 7.85162179e-12 5.13603299e-12 4.44831308e-12 9.58478413e-16]\n",
      "\n",
      " eigenvector_loadings = [2.26105695e+05 2.16947152e+02 2.12517672e+01 1.35091299e+01\n",
      " 3.48068006e+00 1.55015426e+00 1.28732164e+00 7.89911829e-01\n",
      " 6.33565311e-01 5.12419451e-01 4.76880295e-01 7.00007789e-03]\n"
     ]
    }
   ],
   "source": [
    "PCA(\"filepop.xlsx\")"
   ]
  },
  {
   "cell_type": "code",
   "execution_count": 30,
   "id": "290940c0",
   "metadata": {},
   "outputs": [
    {
     "name": "stdout",
     "output_type": "stream",
     "text": [
      "              PC1        PC2\n",
      "0    18125.863726 -36.078740\n",
      "1   -21902.141910  18.942933\n",
      "2   -14457.138641 -13.391192\n",
      "3     4620.855425  44.336418\n",
      "4    10534.862191 -20.981316\n",
      "5    45793.861498 -13.048030\n",
      "6   -60586.138216 -21.235148\n",
      "7     4149.860502  -6.752810\n",
      "8     4697.854184  55.505675\n",
      "9   -38854.144651  44.084488\n",
      "10   -9994.136719 -32.854262\n",
      "11   29682.863023 -29.272330\n",
      "12  -14980.138814 -11.503678\n",
      "13    4575.861791 -15.832245\n",
      "14   -2370.139229  -9.231470\n",
      "15  -35923.137211 -29.732514\n",
      "16    9908.861096 -10.969440\n",
      "17   18877.861719 -14.890324\n",
      "18   -9312.137209 -28.955009\n",
      "19   34087.854426  55.575190\n",
      "20  -59583.144978  44.412356\n",
      "21   30908.861686 -13.855695\n",
      "22     807.860073  -2.066972\n",
      "23   21964.859007  11.355999\n",
      "24   -3093.139642  -1.094761\n",
      "25    8435.855515  45.013145\n",
      "26   54872.860329   1.892512\n",
      "27  -27130.138752 -14.639249\n",
      "28  -13781.141356  10.699774\n",
      "29  -10637.140277   0.876179\n",
      "30   74820.859963   5.875544\n",
      "31  -10957.144149  38.375732\n",
      "32  -27850.136637 -34.804100\n",
      "33   30511.861570 -13.690077\n",
      "34  -20935.141073   7.831753\n",
      "35  -40969.138088 -20.089924\n",
      "36  -34901.140738   4.499519\n",
      "37  -25580.137917 -22.574449\n",
      "38   59338.861326 -10.873672\n",
      "39  -37850.137676 -24.884573\n",
      "40  -35798.138856 -13.647293\n",
      "41   15718.860579  -2.585684\n",
      "42   60149.861765 -12.998026\n",
      "43    3649.862034 -17.090964\n",
      "44  -37582.143521  34.476284\n",
      "45   13464.862624 -22.788468\n",
      "46  113472.858422  21.285726\n",
      "47   -2050.144581  44.935816\n",
      "48  -16176.142290  23.561661\n",
      "49  -59921.141341   8.875710\n",
      "\n",
      " explained variance = [9.99999466e-01 5.23130267e-07 8.80130038e-09 1.68886651e-09\n",
      " 1.91673072e-10 4.07409118e-11 1.99326050e-11 1.42955533e-11\n",
      " 8.43405470e-12 6.47858828e-12 3.18227867e-12 5.48161741e-16]\n",
      "\n",
      " eigenvector_loadings = [2.48325000e+05 1.79607921e+02 2.32966772e+01 1.02051225e+01\n",
      " 3.43796232e+00 1.58502433e+00 1.10867075e+00 9.38903690e-01\n",
      " 7.21171852e-01 6.32063558e-01 4.42985657e-01 5.81399858e-03]\n"
     ]
    }
   ],
   "source": [
    "PCA(\"filernb.xlsx\")"
   ]
  },
  {
   "cell_type": "markdown",
   "id": "268f4adc",
   "metadata": {},
   "source": [
    "## Scatterplot"
   ]
  },
  {
   "cell_type": "code",
   "execution_count": 57,
   "id": "18f02a79",
   "metadata": {
    "scrolled": false
   },
   "outputs": [
    {
     "data": {
      "text/plain": [
       "<matplotlib.legend.Legend at 0x22d0d552640>"
      ]
     },
     "execution_count": 57,
     "metadata": {},
     "output_type": "execute_result"
    },
    {
     "data": {
      "image/png": "[encoded data removed]",
      "text/plain": [
       "<Figure size 1080x1080 with 1 Axes>"
      ]
     },
     "metadata": {
      "needs_background": "light"
     },
     "output_type": "display_data"
    }
   ],
   "source": [
    "fig = plt.figure(figsize=(15,15))\n",
    "ax = fig.add_subplot(111)\n",
    "\n",
    "ax.set_xlabel(\"First Principal Component\", fontsize=15)\n",
    "ax.set_ylabel(\"Second Principal Component\", fontsize=15)\n",
    "ax.set_title(\"Principal Components of both genres\", fontsize=18)\n",
    "\n",
    "pop_components = pd.read_excel(\"DF_PCA_filepop.xlsx\", index_col=0)\n",
    "rnb_components = pd.read_excel(\"DF_PCA_filernb.xlsx\", index_col=0)\n",
    "\n",
    "ax = plt.scatter(x = pop_components[\"PC1\"], y= pop_components[\"PC2\"], label=\"Pop\", color=\"darkcyan\")\n",
    "ax = plt.scatter(x = rnb_components[\"PC1\"][:1861], y= rnb_components[\"PC2\"][:1861], label=\"R&B\", color=\"crimson\")\n",
    "plt.xlim(-250000,400000)\n",
    "\n",
    "plt.grid(True)\n",
    "plt.legend(prop = {\"size\":18}, loc=\"upper right\")"
   ]
  },
  {
   "cell_type": "markdown",
   "id": "a70ec174",
   "metadata": {},
   "source": [
    "## Perform KNN algorithm"
   ]
  },
  {
   "cell_type": "code",
   "execution_count": 58,
   "id": "d0b1b812",
   "metadata": {},
   "outputs": [
    {
     "data": {
      "text/html": [
       "<div>\n",
       "<style scoped>\n",
       "    .dataframe tbody tr th:only-of-type {\n",
       "        vertical-align: middle;\n",
       "    }\n",
       "\n",
       "    .dataframe tbody tr th {\n",
       "        vertical-align: top;\n",
       "    }\n",
       "\n",
       "    .dataframe thead th {\n",
       "        text-align: right;\n",
       "    }\n",
       "</style>\n",
       "<table border=\"1\" class=\"dataframe\">\n",
       "  <thead>\n",
       "    <tr style=\"text-align: right;\">\n",
       "      <th></th>\n",
       "      <th>Danceability</th>\n",
       "      <th>Mode</th>\n",
       "      <th>Energy</th>\n",
       "      <th>Key</th>\n",
       "      <th>Loudness</th>\n",
       "      <th>Speechiness</th>\n",
       "      <th>Acousticness</th>\n",
       "      <th>Instrumentalness</th>\n",
       "      <th>Liveness</th>\n",
       "      <th>Valence</th>\n",
       "      <th>Tempo</th>\n",
       "      <th>Class</th>\n",
       "    </tr>\n",
       "  </thead>\n",
       "  <tbody>\n",
       "    <tr>\n",
       "      <th>56</th>\n",
       "      <td>0.684</td>\n",
       "      <td>1</td>\n",
       "      <td>0.545</td>\n",
       "      <td>0.090909</td>\n",
       "      <td>0.582783</td>\n",
       "      <td>0.1210</td>\n",
       "      <td>0.1590</td>\n",
       "      <td>0.000000</td>\n",
       "      <td>0.102</td>\n",
       "      <td>0.407</td>\n",
       "      <td>0.770211</td>\n",
       "      <td>1</td>\n",
       "    </tr>\n",
       "    <tr>\n",
       "      <th>3</th>\n",
       "      <td>0.604</td>\n",
       "      <td>1</td>\n",
       "      <td>0.741</td>\n",
       "      <td>0.181818</td>\n",
       "      <td>0.471559</td>\n",
       "      <td>0.0475</td>\n",
       "      <td>0.1780</td>\n",
       "      <td>0.000035</td>\n",
       "      <td>0.409</td>\n",
       "      <td>0.473</td>\n",
       "      <td>0.828889</td>\n",
       "      <td>0</td>\n",
       "    </tr>\n",
       "    <tr>\n",
       "      <th>8</th>\n",
       "      <td>0.824</td>\n",
       "      <td>0</td>\n",
       "      <td>0.764</td>\n",
       "      <td>0.454545</td>\n",
       "      <td>0.353394</td>\n",
       "      <td>0.0854</td>\n",
       "      <td>0.0888</td>\n",
       "      <td>0.002940</td>\n",
       "      <td>0.117</td>\n",
       "      <td>0.881</td>\n",
       "      <td>0.581488</td>\n",
       "      <td>0</td>\n",
       "    </tr>\n",
       "    <tr>\n",
       "      <th>54</th>\n",
       "      <td>0.647</td>\n",
       "      <td>0</td>\n",
       "      <td>0.581</td>\n",
       "      <td>0.363636</td>\n",
       "      <td>0.649907</td>\n",
       "      <td>0.0884</td>\n",
       "      <td>0.0029</td>\n",
       "      <td>0.000008</td>\n",
       "      <td>0.119</td>\n",
       "      <td>0.113</td>\n",
       "      <td>0.808439</td>\n",
       "      <td>1</td>\n",
       "    </tr>\n",
       "    <tr>\n",
       "      <th>20</th>\n",
       "      <td>0.695</td>\n",
       "      <td>1</td>\n",
       "      <td>0.540</td>\n",
       "      <td>0.363636</td>\n",
       "      <td>0.481801</td>\n",
       "      <td>0.0493</td>\n",
       "      <td>0.2990</td>\n",
       "      <td>0.000000</td>\n",
       "      <td>0.367</td>\n",
       "      <td>0.415</td>\n",
       "      <td>0.656512</td>\n",
       "      <td>0</td>\n",
       "    </tr>\n",
       "    <tr>\n",
       "      <th>...</th>\n",
       "      <td>...</td>\n",
       "      <td>...</td>\n",
       "      <td>...</td>\n",
       "      <td>...</td>\n",
       "      <td>...</td>\n",
       "      <td>...</td>\n",
       "      <td>...</td>\n",
       "      <td>...</td>\n",
       "      <td>...</td>\n",
       "      <td>...</td>\n",
       "      <td>...</td>\n",
       "      <td>...</td>\n",
       "    </tr>\n",
       "    <tr>\n",
       "      <th>63</th>\n",
       "      <td>0.677</td>\n",
       "      <td>1</td>\n",
       "      <td>0.558</td>\n",
       "      <td>0.727273</td>\n",
       "      <td>0.650161</td>\n",
       "      <td>0.1770</td>\n",
       "      <td>0.1670</td>\n",
       "      <td>0.000000</td>\n",
       "      <td>0.365</td>\n",
       "      <td>0.384</td>\n",
       "      <td>0.777943</td>\n",
       "      <td>1</td>\n",
       "    </tr>\n",
       "    <tr>\n",
       "      <th>65</th>\n",
       "      <td>0.824</td>\n",
       "      <td>1</td>\n",
       "      <td>0.577</td>\n",
       "      <td>0.181818</td>\n",
       "      <td>0.799306</td>\n",
       "      <td>0.3570</td>\n",
       "      <td>0.0109</td>\n",
       "      <td>0.000000</td>\n",
       "      <td>0.107</td>\n",
       "      <td>0.442</td>\n",
       "      <td>0.829610</td>\n",
       "      <td>1</td>\n",
       "    </tr>\n",
       "    <tr>\n",
       "      <th>29</th>\n",
       "      <td>0.808</td>\n",
       "      <td>0</td>\n",
       "      <td>0.897</td>\n",
       "      <td>1.000000</td>\n",
       "      <td>0.314203</td>\n",
       "      <td>0.0348</td>\n",
       "      <td>0.0469</td>\n",
       "      <td>0.000031</td>\n",
       "      <td>0.364</td>\n",
       "      <td>0.591</td>\n",
       "      <td>0.678555</td>\n",
       "      <td>0</td>\n",
       "    </tr>\n",
       "    <tr>\n",
       "      <th>39</th>\n",
       "      <td>0.742</td>\n",
       "      <td>0</td>\n",
       "      <td>0.527</td>\n",
       "      <td>0.727273</td>\n",
       "      <td>0.583376</td>\n",
       "      <td>0.0769</td>\n",
       "      <td>0.3270</td>\n",
       "      <td>0.000000</td>\n",
       "      <td>0.250</td>\n",
       "      <td>0.638</td>\n",
       "      <td>0.457521</td>\n",
       "      <td>0</td>\n",
       "    </tr>\n",
       "    <tr>\n",
       "      <th>60</th>\n",
       "      <td>0.688</td>\n",
       "      <td>1</td>\n",
       "      <td>0.842</td>\n",
       "      <td>0.181818</td>\n",
       "      <td>0.356442</td>\n",
       "      <td>0.2640</td>\n",
       "      <td>0.0499</td>\n",
       "      <td>0.000000</td>\n",
       "      <td>0.241</td>\n",
       "      <td>0.416</td>\n",
       "      <td>0.860925</td>\n",
       "      <td>1</td>\n",
       "    </tr>\n",
       "  </tbody>\n",
       "</table>\n",
       "<p>100 rows × 12 columns</p>\n",
       "</div>"
      ],
      "text/plain": [
       "    Danceability  Mode  Energy       Key  Loudness  Speechiness  Acousticness  \\\n",
       "56         0.684     1   0.545  0.090909  0.582783       0.1210        0.1590   \n",
       "3          0.604     1   0.741  0.181818  0.471559       0.0475        0.1780   \n",
       "8          0.824     0   0.764  0.454545  0.353394       0.0854        0.0888   \n",
       "54         0.647     0   0.581  0.363636  0.649907       0.0884        0.0029   \n",
       "20         0.695     1   0.540  0.363636  0.481801       0.0493        0.2990   \n",
       "..           ...   ...     ...       ...       ...          ...           ...   \n",
       "63         0.677     1   0.558  0.727273  0.650161       0.1770        0.1670   \n",
       "65         0.824     1   0.577  0.181818  0.799306       0.3570        0.0109   \n",
       "29         0.808     0   0.897  1.000000  0.314203       0.0348        0.0469   \n",
       "39         0.742     0   0.527  0.727273  0.583376       0.0769        0.3270   \n",
       "60         0.688     1   0.842  0.181818  0.356442       0.2640        0.0499   \n",
       "\n",
       "    Instrumentalness  Liveness  Valence     Tempo  Class  \n",
       "56          0.000000     0.102    0.407  0.770211      1  \n",
       "3           0.000035     0.409    0.473  0.828889      0  \n",
       "8           0.002940     0.117    0.881  0.581488      0  \n",
       "54          0.000008     0.119    0.113  0.808439      1  \n",
       "20          0.000000     0.367    0.415  0.656512      0  \n",
       "..               ...       ...      ...       ...    ...  \n",
       "63          0.000000     0.365    0.384  0.777943      1  \n",
       "65          0.000000     0.107    0.442  0.829610      1  \n",
       "29          0.000031     0.364    0.591  0.678555      0  \n",
       "39          0.000000     0.250    0.638  0.457521      0  \n",
       "60          0.000000     0.241    0.416  0.860925      1  \n",
       "\n",
       "[100 rows x 12 columns]"
      ]
     },
     "execution_count": 58,
     "metadata": {},
     "output_type": "execute_result"
    }
   ],
   "source": [
    "# Label the class of each genre, pop = 0, rnb = 1\n",
    "labelled_pop = pd.read_excel(\"filepop.xlsx\", index_col=0, usecols=[0,1,2,3,4,5,6,7,8,9,10,11])\n",
    "labelled_rnb = pd.read_excel(\"filernb.xlsx\", index_col=0, usecols=[0,1,2,3,4,5,6,7,8,9,10,11])\n",
    "labelled_pop[\"Class\"] = 0\n",
    "labelled_rnb[\"Class\"] = 1\n",
    "\n",
    "# Combine to create a full dataframe\n",
    "full_data = labelled_pop.append(labelled_rnb[:200], ignore_index=True) #1861\n",
    "\n",
    "# Scale between 0 and 1\n",
    "full_data[\"Key\"] = (full_data[\"Key\"] / full_data[\"Key\"].max())\n",
    "full_data[\"Tempo\"] = (full_data[\"Tempo\"] / full_data[\"Tempo\"].max())\n",
    "full_data[\"Loudness\"] = (full_data[\"Loudness\"] / full_data[\"Loudness\"].min())\n",
    "\n",
    "full_data_random = full_data.sample(frac=1)\n",
    "full_data_random"
   ]
  },
  {
   "cell_type": "markdown",
   "id": "7aa10bf4",
   "metadata": {},
   "source": [
    "### Training data"
   ]
  },
  {
   "cell_type": "code",
   "execution_count": 38,
   "id": "b73b9b85",
   "metadata": {},
   "outputs": [
    {
     "data": {
      "text/html": [
       "<div>\n",
       "<style scoped>\n",
       "    .dataframe tbody tr th:only-of-type {\n",
       "        vertical-align: middle;\n",
       "    }\n",
       "\n",
       "    .dataframe tbody tr th {\n",
       "        vertical-align: top;\n",
       "    }\n",
       "\n",
       "    .dataframe thead th {\n",
       "        text-align: right;\n",
       "    }\n",
       "</style>\n",
       "<table border=\"1\" class=\"dataframe\">\n",
       "  <thead>\n",
       "    <tr style=\"text-align: right;\">\n",
       "      <th></th>\n",
       "      <th>Danceability</th>\n",
       "      <th>Mode</th>\n",
       "      <th>Energy</th>\n",
       "      <th>Key</th>\n",
       "      <th>Loudness</th>\n",
       "      <th>Speechiness</th>\n",
       "      <th>Acousticness</th>\n",
       "      <th>Instrumentalness</th>\n",
       "      <th>Liveness</th>\n",
       "      <th>Valence</th>\n",
       "      <th>Tempo</th>\n",
       "    </tr>\n",
       "  </thead>\n",
       "  <tbody>\n",
       "    <tr>\n",
       "      <th>13</th>\n",
       "      <td>0.796</td>\n",
       "      <td>1</td>\n",
       "      <td>0.798</td>\n",
       "      <td>0.090909</td>\n",
       "      <td>0.534281</td>\n",
       "      <td>0.0317</td>\n",
       "      <td>0.034000</td>\n",
       "      <td>0.000042</td>\n",
       "      <td>0.0952</td>\n",
       "      <td>0.9420</td>\n",
       "      <td>0.624745</td>\n",
       "    </tr>\n",
       "    <tr>\n",
       "      <th>37</th>\n",
       "      <td>0.647</td>\n",
       "      <td>0</td>\n",
       "      <td>0.581</td>\n",
       "      <td>0.363636</td>\n",
       "      <td>0.649907</td>\n",
       "      <td>0.0884</td>\n",
       "      <td>0.002900</td>\n",
       "      <td>0.000008</td>\n",
       "      <td>0.1190</td>\n",
       "      <td>0.1130</td>\n",
       "      <td>0.808439</td>\n",
       "    </tr>\n",
       "    <tr>\n",
       "      <th>16</th>\n",
       "      <td>0.410</td>\n",
       "      <td>0</td>\n",
       "      <td>0.611</td>\n",
       "      <td>0.363636</td>\n",
       "      <td>0.700102</td>\n",
       "      <td>0.0467</td>\n",
       "      <td>0.022800</td>\n",
       "      <td>0.000000</td>\n",
       "      <td>0.1160</td>\n",
       "      <td>0.0899</td>\n",
       "      <td>1.000000</td>\n",
       "    </tr>\n",
       "    <tr>\n",
       "      <th>73</th>\n",
       "      <td>0.801</td>\n",
       "      <td>0</td>\n",
       "      <td>0.794</td>\n",
       "      <td>0.545455</td>\n",
       "      <td>0.395632</td>\n",
       "      <td>0.3150</td>\n",
       "      <td>0.077100</td>\n",
       "      <td>0.000000</td>\n",
       "      <td>0.2040</td>\n",
       "      <td>0.7570</td>\n",
       "      <td>0.640962</td>\n",
       "    </tr>\n",
       "    <tr>\n",
       "      <th>95</th>\n",
       "      <td>0.625</td>\n",
       "      <td>1</td>\n",
       "      <td>0.542</td>\n",
       "      <td>0.818182</td>\n",
       "      <td>0.369477</td>\n",
       "      <td>0.2660</td>\n",
       "      <td>0.022300</td>\n",
       "      <td>0.000000</td>\n",
       "      <td>0.3770</td>\n",
       "      <td>0.3280</td>\n",
       "      <td>0.820575</td>\n",
       "    </tr>\n",
       "    <tr>\n",
       "      <th>...</th>\n",
       "      <td>...</td>\n",
       "      <td>...</td>\n",
       "      <td>...</td>\n",
       "      <td>...</td>\n",
       "      <td>...</td>\n",
       "      <td>...</td>\n",
       "      <td>...</td>\n",
       "      <td>...</td>\n",
       "      <td>...</td>\n",
       "      <td>...</td>\n",
       "      <td>...</td>\n",
       "    </tr>\n",
       "    <tr>\n",
       "      <th>45</th>\n",
       "      <td>0.663</td>\n",
       "      <td>0</td>\n",
       "      <td>0.251</td>\n",
       "      <td>0.545455</td>\n",
       "      <td>0.835449</td>\n",
       "      <td>0.0435</td>\n",
       "      <td>0.880000</td>\n",
       "      <td>0.000000</td>\n",
       "      <td>0.0932</td>\n",
       "      <td>0.5280</td>\n",
       "      <td>0.486047</td>\n",
       "    </tr>\n",
       "    <tr>\n",
       "      <th>76</th>\n",
       "      <td>0.644</td>\n",
       "      <td>0</td>\n",
       "      <td>0.671</td>\n",
       "      <td>1.000000</td>\n",
       "      <td>0.436431</td>\n",
       "      <td>0.3150</td>\n",
       "      <td>0.022500</td>\n",
       "      <td>0.000000</td>\n",
       "      <td>0.0855</td>\n",
       "      <td>0.5630</td>\n",
       "      <td>0.710726</td>\n",
       "    </tr>\n",
       "    <tr>\n",
       "      <th>21</th>\n",
       "      <td>0.814</td>\n",
       "      <td>1</td>\n",
       "      <td>0.628</td>\n",
       "      <td>0.636364</td>\n",
       "      <td>0.607584</td>\n",
       "      <td>0.2210</td>\n",
       "      <td>0.167000</td>\n",
       "      <td>0.000000</td>\n",
       "      <td>0.1010</td>\n",
       "      <td>0.6770</td>\n",
       "      <td>0.667523</td>\n",
       "    </tr>\n",
       "    <tr>\n",
       "      <th>68</th>\n",
       "      <td>0.676</td>\n",
       "      <td>1</td>\n",
       "      <td>0.610</td>\n",
       "      <td>0.090909</td>\n",
       "      <td>0.777467</td>\n",
       "      <td>0.2730</td>\n",
       "      <td>0.000114</td>\n",
       "      <td>0.000002</td>\n",
       "      <td>0.1910</td>\n",
       "      <td>0.5190</td>\n",
       "      <td>0.839969</td>\n",
       "    </tr>\n",
       "    <tr>\n",
       "      <th>17</th>\n",
       "      <td>0.535</td>\n",
       "      <td>1</td>\n",
       "      <td>0.618</td>\n",
       "      <td>0.181818</td>\n",
       "      <td>0.479770</td>\n",
       "      <td>0.3820</td>\n",
       "      <td>0.024500</td>\n",
       "      <td>0.000000</td>\n",
       "      <td>0.1030</td>\n",
       "      <td>0.2110</td>\n",
       "      <td>0.893737</td>\n",
       "    </tr>\n",
       "  </tbody>\n",
       "</table>\n",
       "<p>100 rows × 11 columns</p>\n",
       "</div>"
      ],
      "text/plain": [
       "    Danceability  Mode  Energy       Key  Loudness  Speechiness  Acousticness  \\\n",
       "13         0.796     1   0.798  0.090909  0.534281       0.0317      0.034000   \n",
       "37         0.647     0   0.581  0.363636  0.649907       0.0884      0.002900   \n",
       "16         0.410     0   0.611  0.363636  0.700102       0.0467      0.022800   \n",
       "73         0.801     0   0.794  0.545455  0.395632       0.3150      0.077100   \n",
       "95         0.625     1   0.542  0.818182  0.369477       0.2660      0.022300   \n",
       "..           ...   ...     ...       ...       ...          ...           ...   \n",
       "45         0.663     0   0.251  0.545455  0.835449       0.0435      0.880000   \n",
       "76         0.644     0   0.671  1.000000  0.436431       0.3150      0.022500   \n",
       "21         0.814     1   0.628  0.636364  0.607584       0.2210      0.167000   \n",
       "68         0.676     1   0.610  0.090909  0.777467       0.2730      0.000114   \n",
       "17         0.535     1   0.618  0.181818  0.479770       0.3820      0.024500   \n",
       "\n",
       "    Instrumentalness  Liveness  Valence     Tempo  \n",
       "13          0.000042    0.0952   0.9420  0.624745  \n",
       "37          0.000008    0.1190   0.1130  0.808439  \n",
       "16          0.000000    0.1160   0.0899  1.000000  \n",
       "73          0.000000    0.2040   0.7570  0.640962  \n",
       "95          0.000000    0.3770   0.3280  0.820575  \n",
       "..               ...       ...      ...       ...  \n",
       "45          0.000000    0.0932   0.5280  0.486047  \n",
       "76          0.000000    0.0855   0.5630  0.710726  \n",
       "21          0.000000    0.1010   0.6770  0.667523  \n",
       "68          0.000002    0.1910   0.5190  0.839969  \n",
       "17          0.000000    0.1030   0.2110  0.893737  \n",
       "\n",
       "[100 rows x 11 columns]"
      ]
     },
     "execution_count": 38,
     "metadata": {},
     "output_type": "execute_result"
    }
   ],
   "source": [
    "# Get x training data\n",
    "x_train = full_data_random[0:3000]\n",
    "\n",
    "# Target values\n",
    "y_train = x_train[\"Class\"].values\n",
    "\n",
    "# Remove target values from x_data\n",
    "x_train = x_train.drop(\"Class\", axis=1)\n",
    "x_train"
   ]
  },
  {
   "cell_type": "markdown",
   "id": "7283d9a8",
   "metadata": {},
   "source": [
    "### Fit the KNN model"
   ]
  },
  {
   "cell_type": "code",
   "execution_count": 65,
   "id": "479d5ccf",
   "metadata": {},
   "outputs": [
    {
     "data": {
      "text/plain": [
       "KNeighborsClassifier()"
      ]
     },
     "execution_count": 65,
     "metadata": {},
     "output_type": "execute_result"
    }
   ],
   "source": [
    "from sklearn.neighbors import KNeighborsClassifier\n",
    "from sklearn.model_selection import cross_val_score\n",
    "\n",
    "knn = KNeighborsClassifier(n_neighbors=5)\n",
    "\n",
    "#cross_validate\n",
    "cv_scores = cross_val_score(knn, x_train, y_train, cv=10)\n",
    "knn.fit(x_train, y_train)"
   ]
  },
  {
   "cell_type": "code",
   "execution_count": 66,
   "id": "fa923f3e",
   "metadata": {},
   "outputs": [
    {
     "name": "stdout",
     "output_type": "stream",
     "text": [
      "[0.5 0.6 0.7 0.6 0.7 0.9 0.5 0.9 0.9 0.7] \n",
      "\n",
      "mean = 0.70\n"
     ]
    }
   ],
   "source": [
    "cv_scores_mean = np.mean(cv_scores)\n",
    "print(cv_scores , \"\\n\\n\"\"mean =\" ,\"{:.2f}\".format(cv_scores_mean))"
   ]
  },
  {
   "cell_type": "markdown",
   "id": "cdace3a8",
   "metadata": {},
   "source": [
    "### Test Data"
   ]
  },
  {
   "cell_type": "code",
   "execution_count": 67,
   "id": "de3ddbb3",
   "metadata": {},
   "outputs": [
    {
     "data": {
      "text/html": [
       "<div>\n",
       "<style scoped>\n",
       "    .dataframe tbody tr th:only-of-type {\n",
       "        vertical-align: middle;\n",
       "    }\n",
       "\n",
       "    .dataframe tbody tr th {\n",
       "        vertical-align: top;\n",
       "    }\n",
       "\n",
       "    .dataframe thead th {\n",
       "        text-align: right;\n",
       "    }\n",
       "</style>\n",
       "<table border=\"1\" class=\"dataframe\">\n",
       "  <thead>\n",
       "    <tr style=\"text-align: right;\">\n",
       "      <th></th>\n",
       "      <th>Danceability</th>\n",
       "      <th>Mode</th>\n",
       "      <th>Energy</th>\n",
       "      <th>Key</th>\n",
       "      <th>Loudness</th>\n",
       "      <th>Speechiness</th>\n",
       "      <th>Acousticness</th>\n",
       "      <th>Instrumentalness</th>\n",
       "      <th>Liveness</th>\n",
       "      <th>Valence</th>\n",
       "      <th>Tempo</th>\n",
       "    </tr>\n",
       "  </thead>\n",
       "  <tbody>\n",
       "    <tr>\n",
       "      <th>31</th>\n",
       "      <td>0.843</td>\n",
       "      <td>0</td>\n",
       "      <td>0.700</td>\n",
       "      <td>0.363636</td>\n",
       "      <td>0.301591</td>\n",
       "      <td>0.0803</td>\n",
       "      <td>0.09340</td>\n",
       "      <td>0.000000</td>\n",
       "      <td>0.1400</td>\n",
       "      <td>0.899</td>\n",
       "      <td>0.506071</td>\n",
       "    </tr>\n",
       "    <tr>\n",
       "      <th>0</th>\n",
       "      <td>0.520</td>\n",
       "      <td>0</td>\n",
       "      <td>0.731</td>\n",
       "      <td>0.545455</td>\n",
       "      <td>0.451837</td>\n",
       "      <td>0.0557</td>\n",
       "      <td>0.34200</td>\n",
       "      <td>0.001010</td>\n",
       "      <td>0.3110</td>\n",
       "      <td>0.662</td>\n",
       "      <td>0.936482</td>\n",
       "    </tr>\n",
       "    <tr>\n",
       "      <th>21</th>\n",
       "      <td>0.814</td>\n",
       "      <td>1</td>\n",
       "      <td>0.628</td>\n",
       "      <td>0.636364</td>\n",
       "      <td>0.607584</td>\n",
       "      <td>0.2210</td>\n",
       "      <td>0.16700</td>\n",
       "      <td>0.000000</td>\n",
       "      <td>0.1010</td>\n",
       "      <td>0.677</td>\n",
       "      <td>0.667523</td>\n",
       "    </tr>\n",
       "    <tr>\n",
       "      <th>63</th>\n",
       "      <td>0.677</td>\n",
       "      <td>1</td>\n",
       "      <td>0.558</td>\n",
       "      <td>0.727273</td>\n",
       "      <td>0.650161</td>\n",
       "      <td>0.1770</td>\n",
       "      <td>0.16700</td>\n",
       "      <td>0.000000</td>\n",
       "      <td>0.3650</td>\n",
       "      <td>0.384</td>\n",
       "      <td>0.777943</td>\n",
       "    </tr>\n",
       "    <tr>\n",
       "      <th>28</th>\n",
       "      <td>0.604</td>\n",
       "      <td>1</td>\n",
       "      <td>0.366</td>\n",
       "      <td>0.454545</td>\n",
       "      <td>0.636448</td>\n",
       "      <td>0.0282</td>\n",
       "      <td>0.57800</td>\n",
       "      <td>0.000000</td>\n",
       "      <td>0.1330</td>\n",
       "      <td>0.130</td>\n",
       "      <td>0.764461</td>\n",
       "    </tr>\n",
       "    <tr>\n",
       "      <th>98</th>\n",
       "      <td>0.790</td>\n",
       "      <td>0</td>\n",
       "      <td>0.576</td>\n",
       "      <td>0.909091</td>\n",
       "      <td>0.591756</td>\n",
       "      <td>0.0923</td>\n",
       "      <td>0.27200</td>\n",
       "      <td>0.000000</td>\n",
       "      <td>0.0925</td>\n",
       "      <td>0.574</td>\n",
       "      <td>0.554637</td>\n",
       "    </tr>\n",
       "    <tr>\n",
       "      <th>37</th>\n",
       "      <td>0.647</td>\n",
       "      <td>0</td>\n",
       "      <td>0.581</td>\n",
       "      <td>0.363636</td>\n",
       "      <td>0.649907</td>\n",
       "      <td>0.0884</td>\n",
       "      <td>0.00290</td>\n",
       "      <td>0.000008</td>\n",
       "      <td>0.1190</td>\n",
       "      <td>0.113</td>\n",
       "      <td>0.808439</td>\n",
       "    </tr>\n",
       "    <tr>\n",
       "      <th>43</th>\n",
       "      <td>0.375</td>\n",
       "      <td>0</td>\n",
       "      <td>0.133</td>\n",
       "      <td>0.000000</td>\n",
       "      <td>0.899272</td>\n",
       "      <td>0.0352</td>\n",
       "      <td>0.65100</td>\n",
       "      <td>0.000000</td>\n",
       "      <td>0.0695</td>\n",
       "      <td>0.192</td>\n",
       "      <td>0.709218</td>\n",
       "    </tr>\n",
       "    <tr>\n",
       "      <th>29</th>\n",
       "      <td>0.808</td>\n",
       "      <td>0</td>\n",
       "      <td>0.897</td>\n",
       "      <td>1.000000</td>\n",
       "      <td>0.314203</td>\n",
       "      <td>0.0348</td>\n",
       "      <td>0.04690</td>\n",
       "      <td>0.000031</td>\n",
       "      <td>0.3640</td>\n",
       "      <td>0.591</td>\n",
       "      <td>0.678555</td>\n",
       "    </tr>\n",
       "    <tr>\n",
       "      <th>53</th>\n",
       "      <td>0.643</td>\n",
       "      <td>0</td>\n",
       "      <td>0.605</td>\n",
       "      <td>0.363636</td>\n",
       "      <td>0.505163</td>\n",
       "      <td>0.2970</td>\n",
       "      <td>0.03360</td>\n",
       "      <td>0.000000</td>\n",
       "      <td>0.1120</td>\n",
       "      <td>0.145</td>\n",
       "      <td>0.453440</td>\n",
       "    </tr>\n",
       "    <tr>\n",
       "      <th>69</th>\n",
       "      <td>0.570</td>\n",
       "      <td>1</td>\n",
       "      <td>0.573</td>\n",
       "      <td>0.454545</td>\n",
       "      <td>0.587015</td>\n",
       "      <td>0.4760</td>\n",
       "      <td>0.15600</td>\n",
       "      <td>0.000000</td>\n",
       "      <td>0.2560</td>\n",
       "      <td>0.517</td>\n",
       "      <td>0.409235</td>\n",
       "    </tr>\n",
       "    <tr>\n",
       "      <th>65</th>\n",
       "      <td>0.824</td>\n",
       "      <td>1</td>\n",
       "      <td>0.577</td>\n",
       "      <td>0.181818</td>\n",
       "      <td>0.799306</td>\n",
       "      <td>0.3570</td>\n",
       "      <td>0.01090</td>\n",
       "      <td>0.000000</td>\n",
       "      <td>0.1070</td>\n",
       "      <td>0.442</td>\n",
       "      <td>0.829610</td>\n",
       "    </tr>\n",
       "    <tr>\n",
       "      <th>77</th>\n",
       "      <td>0.722</td>\n",
       "      <td>1</td>\n",
       "      <td>0.675</td>\n",
       "      <td>0.090909</td>\n",
       "      <td>0.621635</td>\n",
       "      <td>0.4080</td>\n",
       "      <td>0.41900</td>\n",
       "      <td>0.000000</td>\n",
       "      <td>0.1060</td>\n",
       "      <td>0.778</td>\n",
       "      <td>0.753116</td>\n",
       "    </tr>\n",
       "    <tr>\n",
       "      <th>70</th>\n",
       "      <td>0.773</td>\n",
       "      <td>0</td>\n",
       "      <td>0.422</td>\n",
       "      <td>0.090909</td>\n",
       "      <td>0.386998</td>\n",
       "      <td>0.1870</td>\n",
       "      <td>0.00783</td>\n",
       "      <td>0.006930</td>\n",
       "      <td>0.1290</td>\n",
       "      <td>0.488</td>\n",
       "      <td>0.417290</td>\n",
       "    </tr>\n",
       "    <tr>\n",
       "      <th>88</th>\n",
       "      <td>0.707</td>\n",
       "      <td>1</td>\n",
       "      <td>0.909</td>\n",
       "      <td>0.181818</td>\n",
       "      <td>0.296343</td>\n",
       "      <td>0.2610</td>\n",
       "      <td>0.41300</td>\n",
       "      <td>0.000000</td>\n",
       "      <td>0.3050</td>\n",
       "      <td>0.703</td>\n",
       "      <td>0.780791</td>\n",
       "    </tr>\n",
       "    <tr>\n",
       "      <th>38</th>\n",
       "      <td>0.745</td>\n",
       "      <td>1</td>\n",
       "      <td>0.650</td>\n",
       "      <td>0.181818</td>\n",
       "      <td>1.000000</td>\n",
       "      <td>0.3460</td>\n",
       "      <td>0.04510</td>\n",
       "      <td>0.007580</td>\n",
       "      <td>0.1110</td>\n",
       "      <td>0.386</td>\n",
       "      <td>0.775585</td>\n",
       "    </tr>\n",
       "    <tr>\n",
       "      <th>17</th>\n",
       "      <td>0.535</td>\n",
       "      <td>1</td>\n",
       "      <td>0.618</td>\n",
       "      <td>0.181818</td>\n",
       "      <td>0.479770</td>\n",
       "      <td>0.3820</td>\n",
       "      <td>0.02450</td>\n",
       "      <td>0.000000</td>\n",
       "      <td>0.1030</td>\n",
       "      <td>0.211</td>\n",
       "      <td>0.893737</td>\n",
       "    </tr>\n",
       "    <tr>\n",
       "      <th>60</th>\n",
       "      <td>0.688</td>\n",
       "      <td>1</td>\n",
       "      <td>0.842</td>\n",
       "      <td>0.181818</td>\n",
       "      <td>0.356442</td>\n",
       "      <td>0.2640</td>\n",
       "      <td>0.04990</td>\n",
       "      <td>0.000000</td>\n",
       "      <td>0.2410</td>\n",
       "      <td>0.416</td>\n",
       "      <td>0.860925</td>\n",
       "    </tr>\n",
       "    <tr>\n",
       "      <th>25</th>\n",
       "      <td>0.684</td>\n",
       "      <td>1</td>\n",
       "      <td>0.545</td>\n",
       "      <td>0.090909</td>\n",
       "      <td>0.582783</td>\n",
       "      <td>0.1210</td>\n",
       "      <td>0.15900</td>\n",
       "      <td>0.000000</td>\n",
       "      <td>0.1020</td>\n",
       "      <td>0.407</td>\n",
       "      <td>0.770211</td>\n",
       "    </tr>\n",
       "    <tr>\n",
       "      <th>39</th>\n",
       "      <td>0.742</td>\n",
       "      <td>0</td>\n",
       "      <td>0.527</td>\n",
       "      <td>0.727273</td>\n",
       "      <td>0.583376</td>\n",
       "      <td>0.0769</td>\n",
       "      <td>0.32700</td>\n",
       "      <td>0.000000</td>\n",
       "      <td>0.2500</td>\n",
       "      <td>0.638</td>\n",
       "      <td>0.457521</td>\n",
       "    </tr>\n",
       "    <tr>\n",
       "      <th>13</th>\n",
       "      <td>0.796</td>\n",
       "      <td>1</td>\n",
       "      <td>0.798</td>\n",
       "      <td>0.090909</td>\n",
       "      <td>0.534281</td>\n",
       "      <td>0.0317</td>\n",
       "      <td>0.03400</td>\n",
       "      <td>0.000042</td>\n",
       "      <td>0.0952</td>\n",
       "      <td>0.942</td>\n",
       "      <td>0.624745</td>\n",
       "    </tr>\n",
       "    <tr>\n",
       "      <th>97</th>\n",
       "      <td>0.660</td>\n",
       "      <td>1</td>\n",
       "      <td>0.831</td>\n",
       "      <td>0.545455</td>\n",
       "      <td>0.453360</td>\n",
       "      <td>0.0460</td>\n",
       "      <td>0.17400</td>\n",
       "      <td>0.000001</td>\n",
       "      <td>0.1630</td>\n",
       "      <td>0.615</td>\n",
       "      <td>0.446812</td>\n",
       "    </tr>\n",
       "    <tr>\n",
       "      <th>12</th>\n",
       "      <td>0.812</td>\n",
       "      <td>0</td>\n",
       "      <td>0.736</td>\n",
       "      <td>0.363636</td>\n",
       "      <td>0.458862</td>\n",
       "      <td>0.0833</td>\n",
       "      <td>0.15200</td>\n",
       "      <td>0.002540</td>\n",
       "      <td>0.0914</td>\n",
       "      <td>0.396</td>\n",
       "      <td>0.495313</td>\n",
       "    </tr>\n",
       "    <tr>\n",
       "      <th>99</th>\n",
       "      <td>0.890</td>\n",
       "      <td>0</td>\n",
       "      <td>0.719</td>\n",
       "      <td>0.090909</td>\n",
       "      <td>0.697732</td>\n",
       "      <td>0.2700</td>\n",
       "      <td>0.65100</td>\n",
       "      <td>0.000000</td>\n",
       "      <td>0.2000</td>\n",
       "      <td>0.850</td>\n",
       "      <td>0.608366</td>\n",
       "    </tr>\n",
       "    <tr>\n",
       "      <th>92</th>\n",
       "      <td>0.474</td>\n",
       "      <td>0</td>\n",
       "      <td>0.801</td>\n",
       "      <td>0.727273</td>\n",
       "      <td>0.506010</td>\n",
       "      <td>0.3750</td>\n",
       "      <td>0.10200</td>\n",
       "      <td>0.000000</td>\n",
       "      <td>0.3220</td>\n",
       "      <td>0.497</td>\n",
       "      <td>0.793401</td>\n",
       "    </tr>\n",
       "    <tr>\n",
       "      <th>87</th>\n",
       "      <td>0.911</td>\n",
       "      <td>1</td>\n",
       "      <td>0.667</td>\n",
       "      <td>0.090909</td>\n",
       "      <td>0.559167</td>\n",
       "      <td>0.2770</td>\n",
       "      <td>0.03130</td>\n",
       "      <td>0.000000</td>\n",
       "      <td>0.0854</td>\n",
       "      <td>0.780</td>\n",
       "      <td>0.796739</td>\n",
       "    </tr>\n",
       "    <tr>\n",
       "      <th>5</th>\n",
       "      <td>0.761</td>\n",
       "      <td>1</td>\n",
       "      <td>0.525</td>\n",
       "      <td>1.000000</td>\n",
       "      <td>0.584053</td>\n",
       "      <td>0.0944</td>\n",
       "      <td>0.44000</td>\n",
       "      <td>0.000007</td>\n",
       "      <td>0.0921</td>\n",
       "      <td>0.531</td>\n",
       "      <td>0.435424</td>\n",
       "    </tr>\n",
       "    <tr>\n",
       "      <th>30</th>\n",
       "      <td>0.556</td>\n",
       "      <td>0</td>\n",
       "      <td>0.661</td>\n",
       "      <td>0.545455</td>\n",
       "      <td>0.427628</td>\n",
       "      <td>0.2040</td>\n",
       "      <td>0.30000</td>\n",
       "      <td>0.000000</td>\n",
       "      <td>0.1010</td>\n",
       "      <td>0.668</td>\n",
       "      <td>0.907569</td>\n",
       "    </tr>\n",
       "    <tr>\n",
       "      <th>42</th>\n",
       "      <td>0.717</td>\n",
       "      <td>0</td>\n",
       "      <td>0.671</td>\n",
       "      <td>0.000000</td>\n",
       "      <td>0.429744</td>\n",
       "      <td>0.0337</td>\n",
       "      <td>0.00180</td>\n",
       "      <td>0.000003</td>\n",
       "      <td>0.0921</td>\n",
       "      <td>0.699</td>\n",
       "      <td>0.592558</td>\n",
       "    </tr>\n",
       "    <tr>\n",
       "      <th>62</th>\n",
       "      <td>0.711</td>\n",
       "      <td>0</td>\n",
       "      <td>0.640</td>\n",
       "      <td>0.545455</td>\n",
       "      <td>0.559082</td>\n",
       "      <td>0.1730</td>\n",
       "      <td>0.13300</td>\n",
       "      <td>0.000000</td>\n",
       "      <td>0.1250</td>\n",
       "      <td>0.579</td>\n",
       "      <td>0.743640</td>\n",
       "    </tr>\n",
       "  </tbody>\n",
       "</table>\n",
       "</div>"
      ],
      "text/plain": [
       "    Danceability  Mode  Energy       Key  Loudness  Speechiness  Acousticness  \\\n",
       "31         0.843     0   0.700  0.363636  0.301591       0.0803       0.09340   \n",
       "0          0.520     0   0.731  0.545455  0.451837       0.0557       0.34200   \n",
       "21         0.814     1   0.628  0.636364  0.607584       0.2210       0.16700   \n",
       "63         0.677     1   0.558  0.727273  0.650161       0.1770       0.16700   \n",
       "28         0.604     1   0.366  0.454545  0.636448       0.0282       0.57800   \n",
       "98         0.790     0   0.576  0.909091  0.591756       0.0923       0.27200   \n",
       "37         0.647     0   0.581  0.363636  0.649907       0.0884       0.00290   \n",
       "43         0.375     0   0.133  0.000000  0.899272       0.0352       0.65100   \n",
       "29         0.808     0   0.897  1.000000  0.314203       0.0348       0.04690   \n",
       "53         0.643     0   0.605  0.363636  0.505163       0.2970       0.03360   \n",
       "69         0.570     1   0.573  0.454545  0.587015       0.4760       0.15600   \n",
       "65         0.824     1   0.577  0.181818  0.799306       0.3570       0.01090   \n",
       "77         0.722     1   0.675  0.090909  0.621635       0.4080       0.41900   \n",
       "70         0.773     0   0.422  0.090909  0.386998       0.1870       0.00783   \n",
       "88         0.707     1   0.909  0.181818  0.296343       0.2610       0.41300   \n",
       "38         0.745     1   0.650  0.181818  1.000000       0.3460       0.04510   \n",
       "17         0.535     1   0.618  0.181818  0.479770       0.3820       0.02450   \n",
       "60         0.688     1   0.842  0.181818  0.356442       0.2640       0.04990   \n",
       "25         0.684     1   0.545  0.090909  0.582783       0.1210       0.15900   \n",
       "39         0.742     0   0.527  0.727273  0.583376       0.0769       0.32700   \n",
       "13         0.796     1   0.798  0.090909  0.534281       0.0317       0.03400   \n",
       "97         0.660     1   0.831  0.545455  0.453360       0.0460       0.17400   \n",
       "12         0.812     0   0.736  0.363636  0.458862       0.0833       0.15200   \n",
       "99         0.890     0   0.719  0.090909  0.697732       0.2700       0.65100   \n",
       "92         0.474     0   0.801  0.727273  0.506010       0.3750       0.10200   \n",
       "87         0.911     1   0.667  0.090909  0.559167       0.2770       0.03130   \n",
       "5          0.761     1   0.525  1.000000  0.584053       0.0944       0.44000   \n",
       "30         0.556     0   0.661  0.545455  0.427628       0.2040       0.30000   \n",
       "42         0.717     0   0.671  0.000000  0.429744       0.0337       0.00180   \n",
       "62         0.711     0   0.640  0.545455  0.559082       0.1730       0.13300   \n",
       "\n",
       "    Instrumentalness  Liveness  Valence     Tempo  \n",
       "31          0.000000    0.1400    0.899  0.506071  \n",
       "0           0.001010    0.3110    0.662  0.936482  \n",
       "21          0.000000    0.1010    0.677  0.667523  \n",
       "63          0.000000    0.3650    0.384  0.777943  \n",
       "28          0.000000    0.1330    0.130  0.764461  \n",
       "98          0.000000    0.0925    0.574  0.554637  \n",
       "37          0.000008    0.1190    0.113  0.808439  \n",
       "43          0.000000    0.0695    0.192  0.709218  \n",
       "29          0.000031    0.3640    0.591  0.678555  \n",
       "53          0.000000    0.1120    0.145  0.453440  \n",
       "69          0.000000    0.2560    0.517  0.409235  \n",
       "65          0.000000    0.1070    0.442  0.829610  \n",
       "77          0.000000    0.1060    0.778  0.753116  \n",
       "70          0.006930    0.1290    0.488  0.417290  \n",
       "88          0.000000    0.3050    0.703  0.780791  \n",
       "38          0.007580    0.1110    0.386  0.775585  \n",
       "17          0.000000    0.1030    0.211  0.893737  \n",
       "60          0.000000    0.2410    0.416  0.860925  \n",
       "25          0.000000    0.1020    0.407  0.770211  \n",
       "39          0.000000    0.2500    0.638  0.457521  \n",
       "13          0.000042    0.0952    0.942  0.624745  \n",
       "97          0.000001    0.1630    0.615  0.446812  \n",
       "12          0.002540    0.0914    0.396  0.495313  \n",
       "99          0.000000    0.2000    0.850  0.608366  \n",
       "92          0.000000    0.3220    0.497  0.793401  \n",
       "87          0.000000    0.0854    0.780  0.796739  \n",
       "5           0.000007    0.0921    0.531  0.435424  \n",
       "30          0.000000    0.1010    0.668  0.907569  \n",
       "42          0.000003    0.0921    0.699  0.592558  \n",
       "62          0.000000    0.1250    0.579  0.743640  "
      ]
     },
     "execution_count": 67,
     "metadata": {},
     "output_type": "execute_result"
    }
   ],
   "source": [
    "x_test = full_data_random[70:]\n",
    "\n",
    "# Randomise the data\n",
    "x_test = x_test.sample(frac=1)\n",
    "\n",
    "y_test = x_test[\"Class\"].values\n",
    "\n",
    "x_test = x_test.drop(\"Class\", axis=1)\n",
    "x_test"
   ]
  },
  {
   "cell_type": "code",
   "execution_count": 68,
   "id": "9ea142b6",
   "metadata": {},
   "outputs": [
    {
     "data": {
      "text/plain": [
       "array([0, 0, 1, 1, 0, 1, 1, 0, 0, 1, 1, 1, 1, 1, 1, 1, 1, 0, 1, 1, 0, 0,\n",
       "       0, 1, 1, 1, 0, 0, 0, 1], dtype=int64)"
      ]
     },
     "execution_count": 68,
     "metadata": {},
     "output_type": "execute_result"
    }
   ],
   "source": [
    "predictions = knn.predict(x_test)\n",
    "predictions"
   ]
  },
  {
   "cell_type": "code",
   "execution_count": 69,
   "id": "379ef291",
   "metadata": {},
   "outputs": [
    {
     "name": "stdout",
     "output_type": "stream",
     "text": [
      "Accuracy score = 0.73\n"
     ]
    }
   ],
   "source": [
    "accuracy_score = knn.score(x_test, y_test)\n",
    "print(\"Accuracy score = \"\"{:.2f}\".format(accuracy_score))"
   ]
  },
  {
   "cell_type": "code",
   "execution_count": 70,
   "id": "208e9292",
   "metadata": {},
   "outputs": [
    {
     "data": {
      "text/plain": [
       "array([[10,  6],\n",
       "       [ 2, 12]], dtype=int64)"
      ]
     },
     "execution_count": 70,
     "metadata": {},
     "output_type": "execute_result"
    }
   ],
   "source": [
    "from sklearn.metrics import confusion_matrix\n",
    "\n",
    "confusion_matrix = confusion_matrix(y_test, predictions)\n",
    "confusion_matrix"
   ]
  },
  {
   "cell_type": "markdown",
   "id": "084bdbf0",
   "metadata": {},
   "source": [
    "Reference:\n",
    "    https://towardsdatascience.com/using-k-nearest-neighbours-to-predict-the-genre-of-spotify-tracks-796bbbad619f"
   ]
  },
  {
   "cell_type": "code",
   "execution_count": null,
   "id": "e9bc422c",
   "metadata": {},
   "outputs": [],
   "source": []
  }
 ],
 "metadata": {
  "kernelspec": {
   "display_name": "Python 3",
   "language": "python",
   "name": "python3"
  },
  "language_info": {
   "codemirror_mode": {
    "name": "ipython",
    "version": 3
   },
   "file_extension": ".py",
   "mimetype": "text/x-python",
   "name": "python",
   "nbconvert_exporter": "python",
   "pygments_lexer": "ipython3",
   "version": "3.8.8"
  }
 },
 "nbformat": 4,
 "nbformat_minor": 5
}
